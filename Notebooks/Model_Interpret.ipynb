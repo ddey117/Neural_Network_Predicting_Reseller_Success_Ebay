{
 "cells": [
  {
   "cell_type": "markdown",
   "metadata": {},
   "source": [
    "# Predicting Resale Value of Knives from a Texas Government Surplus Store\n",
    "\n",
    "## Using Machine Learning to Support an Ebay Store's Financial Success\n",
    "\n",
    "\n",
    "\n",
    "\n",
    "### Model and Intepret Notebook"
   ]
  },
  {
   "cell_type": "markdown",
   "metadata": {},
   "source": [
    "\n",
    "**Author:** Dylan Dey\n",
    "***\n",
    "\n",
    "# Overview\n",
    "[Texas State Surplus Store](https://www.tfc.texas.gov/divisions/supportserv/prog/statesurplus/)\n",
    "\n",
    "[What happens to all those items that get confiscated by the TSA? Some end up in a Texas store.](https://www.wfaa.com/article/news/local/what-happens-to-all-those-items-that-get-confiscated-by-the-tsa-some-end-up-in-a-texas-store/287-ba80dac3-d91a-4b28-952a-0aaf4f69ff95)\n",
    "\n",
    "[Texas Surplus Store PDF](https://www.tfc.texas.gov/divisions/supportserv/prog/statesurplus/State%20Surplus%20Brochure-one%20bar_rev%201-10-2022.pdf)\n",
    "\n",
    "![Texas State Surplus Store](https://encrypted-tbn0.gstatic.com/images?q=tbn:ANd9GcRYkwyu20VBuQ52PrXdVRaGRIIg9OPXJg86lA&usqp=CAU)\n",
    "\n",
    "\n",
    "\n",
    "Thousands of people make a living selling pre-owned items on sites like EBay. A good place to locate items for sale is the Texas Facilities Commission collects left behind possessions, salvage, and surplus from Texas state agencies such as DPS, TXDOT, TCEQ, and Texas Parks & Wildlife. Examples of commonly available items include vehicles, furniture, office equipment and supplies, small electronics, and heavy equipment. The goal of this project is to create a predictive model in order to determine the resale value of knives from the Texas State Surplus Store on eBay. Descriptive analysis of over 70K sold knives on eBay in the last 2 years will also be used to examine the profitability of investing in knives from the surplus store. \n",
    "\n",
    "\n",
    "# BUSINESS PROBLEM\n",
    "[Texas Dave's Knives](https://www.ebay.com/str/texasdave3/Knives/_i.html?store_cat=3393246519)\n",
    "\n",
    " My family has been running a resale shop and selling on Ebay and other sites for years and lately the business has picked up. We are interested in exploring if the most common item sold at the Texas Surplus Store, pocket knives, would be a safe investment. On the surface they seem great for reselling, as they are oftentimes collectible and small enough to be easily shipped. \n",
    "\n",
    "I have been experimenting with low cost used knives for resale but have not risked a large capital investment in the higher end items. Analyzing past listings on eBay for the top brands available at the Surplus Store could prove useful for gaining insight on whether a larger investment would pay off. Understanding the risks involved in investing capital into different brands of knives and their potential returns will help narrow down what brands to invest in and help reduce excess inventory.\n",
    "\n",
    "It has been very time consuming and inaccurate trying to find the correct value to list an item for on eBay. Currently when listing we try to identify the specific knife by Google search, and then try to find the same or similar items sold on Ebay or other sites. This “guess and check” method often results in inventory not moving due to overpricing or being sold at a price lower than its true potential profit. Building a model that predicts the value of a pocket knife on eBay could help to easily determine the correct value of the item before a listing is live on the website.\n",
    "\n",
    "\n",
    "\n",
    "# Data Understanding\n",
    "\n",
    "> There are <mark>eight buckets of presorted brand knives</mark> that I was interested in exploring from the Texas Surplus Store. The Eight Pocketknife brands and their associated cost at the Texas Surplus Store:\n",
    "\n",
    "<ul>\n",
    "  <li>Benchmade: \\$45.00</li>\n",
    "  <li>Buck: \\$20.00</li>\n",
    "  <li>Case/Casexx: \\$20.00</li>\n",
    "  <li>CRKT: \\$15.00</li>\n",
    "  <li>Kershaw: \\$15.00</li>\n",
    "  <li>SOG: \\$15.00</li>\n",
    "  <li>Spyderco: \\$30.00</li>\n",
    "  <li>Victorinox: \\$20.00</li>\n",
    "</ul>\n",
    "\n",
    "### Domain Understading: Cost Breakdown\n",
    "- padded envelopes: \\$0.50 per knife\n",
    "- flatrate shipping: \\$4.45 per knife\n",
    "- brand knife at surplus store: 15, 20, 30, or 45 dollars per knife\n",
    "- overhead expenses (gas, cleaning suplies, sharpening supplies, etc): \\$3.00\n",
    "- Ebay's comission, with 13\\% being a reasonable approximation\n",
    "\n",
    ">A majority of the data was scraped from eBays proprietary Terapeak webapp, as this data goes back 2 years as compared to the API listed data that only goes back 90 days. It is assumed a large enough amount of listed data should approximate sold data well enough to prove useful for this project. \n",
    "\n",
    "> The target feature for the model to predict is the total price (shipping included) that a knife should be listed on eBay. One model will be using titles and images in order to find potential listings that are undervalued and could be worth investing in. Another model will accept only images as input, as this is an input that can easily be obtained in person at the store. This model will use past sold data of knives on eBay in order to determine within an acceptable amount of error the price it will resale for on eBay (shipping included) using only an image"
   ]
  },
  {
   "cell_type": "code",
   "execution_count": 1,
   "metadata": {},
   "outputs": [],
   "source": [
    "from sklearn.model_selection import train_test_split\n",
    "import os\n",
    "from collections import Counter\n",
    "\n",
    "import pandas as pd \n",
    "import  json\n",
    "import requests\n",
    "import numpy as np\n",
    "import matplotlib.pyplot as plt\n",
    "%matplotlib inline\n",
    "import seaborn as sns\n",
    "import ast\n",
    "import re\n",
    "\n",
    "import nltk\n",
    "from nltk.corpus import stopwords\n",
    "import string\n",
    "from nltk import word_tokenize, FreqDist\n",
    "from sklearn.feature_extraction.text import TfidfVectorizer\n",
    "\n",
    "\n",
    "from tensorflow.keras.preprocessing.text import Tokenizer\n",
    "from tensorflow.keras.preprocessing.sequence import pad_sequences\n",
    "from tensorflow.keras.layers import Dense, Input, GlobalMaxPooling1D\n",
    "from tensorflow.keras.layers import LSTM, Embedding, Flatten, GRU\n",
    "from tensorflow.keras.layers import Conv1D, MaxPooling1D, GlobalMaxPooling2D\n",
    "from tensorflow.keras.layers import Conv2D, MaxPooling2D, Dropout, BatchNormalization\n",
    "from tensorflow.keras.layers import SimpleRNN\n",
    "from tensorflow.keras.models import Model\n",
    "from keras import models\n",
    "from keras import layers\n",
    "import tensorflow as tf\n",
    "from keras.utils import plot_model\n",
    "from sklearn.metrics import mean_absolute_error\n",
    "from keras_preprocessing.image import ImageDataGenerator"
   ]
  },
  {
   "cell_type": "code",
   "execution_count": 2,
   "metadata": {},
   "outputs": [],
   "source": [
    "#helps see plots in readme\n",
    "plt.style.use('dark_background')"
   ]
  },
  {
   "cell_type": "markdown",
   "metadata": {},
   "source": [
    "### Function Definition\n",
    "\n",
    "Define functions to import and clean data for modeling."
   ]
  },
  {
   "cell_type": "code",
   "execution_count": 3,
   "metadata": {},
   "outputs": [],
   "source": [
    "def apply_iqr_filter(df):\n",
    "    \n",
    "    price_Q1 = df['converted_price'].quantile(0.25)\n",
    "    price_Q3 = df['converted_price'].quantile(0.75)\n",
    "    price_iqr = price_Q3 - price_Q1\n",
    "\n",
    "    profit_Q1 = df['profit'].quantile(0.25)\n",
    "    profit_Q3 = df['profit'].quantile(0.75)\n",
    "    profit_iqr = profit_Q3 - profit_Q1\n",
    "\n",
    "    ROI_Q1 = df['ROI'].quantile(0.25)\n",
    "    ROI_Q3 = df['ROI'].quantile(0.75)\n",
    "    ROI_iqr = ROI_Q3 - ROI_Q1\n",
    "\n",
    "    price_upper_limit = price_Q3 + (1.5 * price_iqr)\n",
    "    price_lower_limit = price_Q1 - (1.5 * price_iqr)\n",
    "\n",
    "    profit_upper_limit = profit_Q3 + (1.5 * profit_iqr)\n",
    "    profit_lower_limit = profit_Q1 - (1.5 * profit_iqr)\n",
    "\n",
    "    ROI_upper_limit = ROI_Q3 + (1.5 * ROI_iqr)\n",
    "    ROI_lower_limit = ROI_Q1 - (1.5 * ROI_iqr)\n",
    "    \n",
    "#     print(f'Brand: {df.brand[0]}')\n",
    "#     print(f'price upper limit: ${np.round(price_upper_limit,2)}')\n",
    "#     print(f'price lower limit: ${np.round(price_lower_limit,2)}')\n",
    "#     print('-----------------------------------')\n",
    "#     print(f'profit upper limit: ${np.round(profit_upper_limit,2)}')\n",
    "#     print(f'profit lower limit: ${np.round(profit_lower_limit,2)}')\n",
    "#     print('-----------------------------------')\n",
    "#     print(f'ROI upper limit: {np.round(ROI_upper_limit,2)}%')\n",
    "#     print(f'ROI lower limit: {np.round(ROI_lower_limit,2)}%')\n",
    "#     print('-----------------------------------')\n",
    "\n",
    "    \n",
    "    new_df = df[(df['converted_price'] < price_upper_limit) &\n",
    "                (df['converted_price'] > price_lower_limit) &\n",
    "                (df['profit'] < profit_upper_limit) &\n",
    "                (df['ROI'] > profit_lower_limit) &\n",
    "                (df['profit'] < ROI_upper_limit) &\n",
    "                (df['ROI'] > ROI_lower_limit)]\n",
    "    \n",
    "    return new_df\n",
    "#download jpg urls from dataFrame\n",
    "def download(row):\n",
    "    filename = os.path.join(root_folder, str(row.name) + im_extension)\n",
    "\n",
    "# create folder if it doesn't exist\n",
    "    os.makedirs(os.path.dirname(filename), exist_ok=True)\n",
    "\n",
    "    url = row.Image\n",
    "#     print(f\"Downloading {url} to {filename}\")\n",
    "    \n",
    "    try:\n",
    "        r = requests.get(url, allow_redirects=True)\n",
    "        with open(filename, 'wb') as f:\n",
    "            f.write(r.content)\n",
    "    except:\n",
    "        print(f'{filename} error')\n",
    "\n",
    "\n",
    "\n",
    "# This function removes noisy data\n",
    "#lots/sets/groups of knives can\n",
    "#confuse the model from predicting\n",
    "#the appropriate value of individual knives\n",
    "def data_cleaner(df):\n",
    "    lot = re.compile('(?<!-\\S)lot(?![^\\s.,:?!])')\n",
    "    group = re.compile('(group)')\n",
    "    is_set = re.compile('(?<!-\\S)set(?![^\\s.,?!])')\n",
    "    df['title'] = df['title'].str.lower()\n",
    "    trim_list = [lot,group,is_set]\n",
    "    for item in trim_list:\n",
    "        df.loc[df['title'].apply(lambda x: re.search(item, x)).notnull(), 'trim'] = 1 \n",
    "    to_drop = df.loc[df['trim'] == 1].index\n",
    "    df.drop(to_drop, inplace=True)\n",
    "    df.drop('trim', axis=1, inplace=True)\n",
    "    \n",
    "    return df\n",
    "\n",
    "\n",
    "#take raw data and prepare it for modeling\n",
    "def prepare_listed(listed_data_df):\n",
    "    listed_used_knives = listed_data_df.loc[listed_data_df['condition'] != 1000.0]\n",
    "    listed_used_knives = data_cleaner(listed_used_knives.copy())\n",
    "    listed_used_knives.reset_index(drop=True, inplace=True)\n",
    "    \n",
    "    return listed_used_knives\n",
    "\n",
    "#take raw data and prepare it for modeling\n",
    "def prepare_tera_df(df, x, overhead_cost=3):\n",
    "    df['price_in_US'] = df['price_in_US'].str.replace(\"$\", \"\")\n",
    "    df['price_in_US'] = df['price_in_US'].str.replace(\",\", \"\")\n",
    "    df['price_in_US'] = df['price_in_US'].apply(float)\n",
    "    \n",
    "    df['shipping_cost'] = df['shipping_cost'].str.replace(\"$\", \"\")\n",
    "    df['shipping_cost'] = df['shipping_cost'].str.replace(\",\", \"\")\n",
    "    df['shipping_cost'] = df['shipping_cost'].apply(float)\n",
    "    \n",
    "    df['brand'] = list(bucket_dict.keys())[x]\n",
    "    df['converted_price'] = (df['price_in_US'] + df['shipping_cost'])\n",
    "    df['cost'] = list(bucket_dict.values())[x] + overhead_cost + 4.95\n",
    "    df['profit'] = ((df['converted_price']*.87) -  df['cost'])\n",
    "    df['ROI'] = (df['profit']/ df['cost'])*100.0\n",
    "    \n",
    "    return df   \n",
    "\n",
    "\n",
    "def avg_word_len(x):\n",
    "    words = x.split()\n",
    "    word_len = 0\n",
    "    for word in words:\n",
    "        word_len += len(word)\n",
    "        \n",
    "    return word_len / len(words)"
   ]
  },
  {
   "cell_type": "markdown",
   "metadata": {},
   "source": [
    "The above code imports a variety of libraries and packages to help with data manipulation and analysis. It also defines a few functions to help with pagination, data preparation, and image download. The main logic of the code is in the knife_request() function which makes API calls to eBay using the ebaysdk.finding Connection function. The function prepares data, creates a new feature, and prepares the brands. The download() function downloads images from URLs."
   ]
  },
  {
   "cell_type": "markdown",
   "metadata": {},
   "source": [
    "### Load Data"
   ]
  },
  {
   "cell_type": "code",
   "execution_count": 4,
   "metadata": {},
   "outputs": [
    {
     "name": "stdout",
     "output_type": "stream",
     "text": [
      "/Users/dylandey/Documents/GitHub/Neural_Network_Predicting_Reseller_Success_Ebay\n"
     ]
    }
   ],
   "source": [
    "cd .."
   ]
  },
  {
   "cell_type": "code",
   "execution_count": 5,
   "metadata": {},
   "outputs": [],
   "source": [
    "#load Finding API data\n",
    "df_bench = pd.read_csv(\"listed_data/df_bench.csv\")\n",
    "df_buck = pd.read_csv(\"listed_data/df_buck.csv\")\n",
    "df_case = pd.read_csv(\"listed_data/df_case.csv\")\n",
    "df_caseXX = pd.read_csv(\"listed_data/df_CaseXX.csv\")\n",
    "df_crkt = pd.read_csv(\"listed_data/df_crkt.csv\")\n",
    "df_kersh = pd.read_csv(\"listed_data/df_kershaw.csv\")\n",
    "df_sog = pd.read_csv(\"listed_data/df_sog.csv\")\n",
    "df_spyd = pd.read_csv(\"listed_data/df_spyderco.csv\")\n",
    "df_vict = pd.read_csv(\"listed_data/df_victorinox.csv\")\n",
    "\n",
    "\n",
    "#Load scraped terapeak sold data\n",
    "sold_bench = pd.read_csv(\"terapeak_data/bench_scraped2.csv\")\n",
    "sold_buck1 = pd.read_csv(\"terapeak_data/buck_scraped2.csv\")\n",
    "sold_buck2 = pd.read_csv(\"terapeak_data/buck_scraped2_reversed.csv\")\n",
    "sold_case = pd.read_csv(\"terapeak_data/case_scraped2.csv\")\n",
    "sold_caseXX1 = pd.read_csv(\"terapeak_data/caseXX_scraped2.csv\")\n",
    "sold_caseXX2 = pd.read_csv(\"terapeak_data/caseXX2_reversed.csv\")\n",
    "sold_crkt = pd.read_csv(\"terapeak_data/crkt_scraped.csv\")\n",
    "sold_kershaw1 = pd.read_csv(\"terapeak_data/kershaw_scraped2.csv\")\n",
    "sold_kershaw2 = pd.read_csv(\"terapeak_data/kershaw_scraped2_reversed.csv\")\n",
    "sold_sog = pd.read_csv(\"terapeak_data/SOG_scraped2.csv\")\n",
    "sold_spyd = pd.read_csv(\"terapeak_data/spyd_scraped2.csv\")\n",
    "sold_vict1 = pd.read_csv(\"terapeak_data/vict_scraped.csv\")\n",
    "sold_vict2 = pd.read_csv(\"terapeak_data/vict_reversed.csv\")\n",
    "\n",
    "sold_list = [sold_bench,sold_buck1,\n",
    "             sold_buck2,sold_case,\n",
    "             sold_caseXX1,sold_caseXX2,\n",
    "             sold_crkt,sold_kershaw1,\n",
    "             sold_kershaw2,sold_sog, \n",
    "             sold_spyd, sold_vict1,\n",
    "             sold_vict2]\n",
    "\n",
    "\n",
    "listed_df = pd.concat([df_bench,df_buck,\n",
    "                       df_case,df_caseXX,\n",
    "                       df_crkt,df_kersh,\n",
    "                       df_sog,df_spyd,\n",
    "                       df_vict])\n",
    "\n",
    "used_listed = prepare_listed(listed_df)\n",
    "\n",
    "bucket_dict = {'benchmade': 45.0,\n",
    "               'buck': 20.0,\n",
    "               'case': 20.0,\n",
    "               'crkt': 15.0,\n",
    "               'kershaw': 15.0,\n",
    "               'sog': 15.0,\n",
    "               'spyderco': 30.0,\n",
    "               'victorinox': 20.0\n",
    "               }"
   ]
  },
  {
   "cell_type": "markdown",
   "metadata": {},
   "source": [
    "### Prepare Data\n",
    "\n",
    "This code loads data from several CSV files into Pandas dataframes and prepares the data for analysis.\n",
    "\n",
    "1) The first block of code loads 9 dataframes of listed knife data (df_bench, df_buck, df_case, df_caseXX, df_crkt, df_kersh, df_sog, df_spyd, df_vict) from 9 corresponding CSV files.\n",
    "\n",
    "\n",
    "2) The second block of code loads 12 dataframes of sold knife data (sold_bench, sold_buck1, sold_buck2, sold_case, sold_caseXX1, sold_caseXX2, sold_crkt, sold_kershaw1, sold_kershaw2, sold_sog, sold_spyd, sold_vict1, sold_vict2) from 12 corresponding CSV files. All 12 dataframes are then combined into a list called sold_list.\n",
    "\n",
    "3) The code then concatenates the 9 listed knife dataframes into one dataframe called listed_df.\n",
    "\n",
    "4) The function prepare_listed is applied to the listed_df dataframe.\n",
    "\n",
    "5) The code then creates a dictionary called bucket_dict which maps knife brands to a price bucket.\n",
    "\n",
    "6) The next block of code renames the 'Text' and 'shipping_' columns in each of the 12 sold dataframes to 'title' and 'shipping_cost', respectively.\n",
    "\n",
    "7) The code then converts the 'date_sold' column in each of the 12 sold dataframes to a datetime type.\n",
    "\n",
    "8) The code then concatenates the two dataframes sold_buck1 and sold_buck2 into one dataframe called sold_buck. The same is done for sold_caseXX, sold_kershaw, and sold_vict.\n",
    "\n",
    "9) The prepare_tera_df function is applied to each of the 6 updated sold dataframes (sold_bench, sold_buck, sold_case, sold_caseXX, sold_crkt, sold_kershaw, sold_sog, sold_spyd, sold_vict) to remove characters from the price column and create new profit/ROI features."
   ]
  },
  {
   "cell_type": "code",
   "execution_count": 6,
   "metadata": {},
   "outputs": [],
   "source": [
    "for dataframe in sold_list:\n",
    "    dataframe.rename({'Text': 'title',\n",
    "                      'shipping_': 'shipping_cost'},\n",
    "                     axis=1, inplace=True)\n",
    "\n",
    "    dataframe['date_sold'] = pd.to_datetime(dataframe['date_sold'])\n",
    "\n",
    "#limited out at 10K columns while scraping. Combine dataframes that went over 10K.\n",
    "sold_buck = pd.concat([sold_buck1,sold_buck2])\n",
    "sold_caseXX = pd.concat([sold_caseXX1,sold_caseXX2])\n",
    "sold_kershaw = pd.concat([sold_kershaw1,sold_kershaw2])\n",
    "sold_vict = pd.concat([sold_vict1,sold_vict2])\n",
    "\n",
    "#apply function to remove characters from price\n",
    "#and create profit/ROI features\n",
    "sold_bench = prepare_tera_df(sold_bench, 0)\n",
    "sold_buck = prepare_tera_df(sold_buck, 1)\n",
    "sold_case = prepare_tera_df(sold_case, 2)\n",
    "sold_caseXX = prepare_tera_df(sold_caseXX, 2)\n",
    "sold_crkt = prepare_tera_df(sold_crkt, 3)\n",
    "sold_kershaw = prepare_tera_df(sold_kershaw, 4)\n",
    "sold_sog = prepare_tera_df(sold_sog, 5)\n",
    "sold_spyd = prepare_tera_df(sold_spyd, 6)\n",
    "sold_vict = prepare_tera_df(sold_vict, 7)"
   ]
  },
  {
   "cell_type": "code",
   "execution_count": 7,
   "metadata": {},
   "outputs": [],
   "source": [
    "#lowercase and strip titles and remove duplicates\n",
    "for dataframe in sold_list:\n",
    "    dataframe['title'] = dataframe['title'].str.lower()\n",
    "    dataframe['title'] = dataframe['title'].str.strip()\n",
    "    dataframe.drop_duplicates(\n",
    "        subset = ['date_sold','price_in_US', \n",
    "                  'shipping_cost'],\n",
    "        keep = 'last', inplace=True)"
   ]
  },
  {
   "cell_type": "code",
   "execution_count": 8,
   "metadata": {},
   "outputs": [],
   "source": [
    "sold_df = pd.concat([sold_bench, sold_buck,\n",
    "                     sold_case, sold_caseXX, \n",
    "                     sold_crkt, sold_kershaw,\n",
    "                     sold_sog, sold_spyd,\n",
    "                     sold_vict]) \n",
    "#remove lots\n",
    "sold_knives = data_cleaner(sold_df).copy()\n",
    "\n",
    "#combine data\n",
    "df = pd.concat([sold_knives,used_listed]).copy()\n",
    "df['Image'].fillna(df['pictureURLLarge'], inplace=True)\n",
    "\n",
    "#apply IQR filtering\n",
    "df = apply_iqr_filter(df).copy()\n",
    "df.reset_index(drop=True, inplace=True)"
   ]
  },
  {
   "cell_type": "markdown",
   "metadata": {},
   "source": [
    "#### Text Preprocessing"
   ]
  },
  {
   "cell_type": "code",
   "execution_count": 9,
   "metadata": {},
   "outputs": [],
   "source": [
    "#load stopwords \n",
    "from nltk.corpus import stopwords\n",
    "stop = stopwords.words('english')\n",
    "#remove any special characters\n",
    "def remove_special_char(x):\n",
    "    pattern = r'[^a-zA-z0-9\\s]'\n",
    "    text = re.sub(pattern, '', x)\n",
    "    return text\n",
    "\n",
    "def remove_punctuations(x):\n",
    "    x.translate(str.maketrans('', '', string.punctuation))\n",
    "    return x\n",
    "#apply above functions to dataframe\n",
    "def apply_text_prep(df):\n",
    "\n",
    "    df['title'] = df['title'].apply(remove_punctuations)\n",
    "    df['title'] = df['title'].apply(remove_special_char)\n",
    "    #A lot of the strings had duplicate phrases\n",
    "    #create a set on split strings in order to\n",
    "    #only get unique words in each title\n",
    "    df['title'] = df['title'].apply(lambda s: ' '.join(list(set(s.split()))))\n",
    "\n",
    "\n",
    "    df['title_len'] = df['title'].apply(lambda x: len(x))\n",
    "    df['word_count'] = df['title'].apply(lambda x: len(x.split()))\n",
    "    df['avg_word_len'] = df['title'].apply(lambda x: avg_word_len(x))\n",
    "\n",
    "    stop = stopwords.words('english')\n",
    "\n",
    "    df['title_nostop'] = df['title'].apply(lambda x: ' '.join([word for word in x.split() if word not in stop]))\n",
    "    \n",
    "    return df\n",
    "df = apply_text_prep(df)"
   ]
  },
  {
   "cell_type": "markdown",
   "metadata": {},
   "source": [
    "# Model\n",
    "\n",
    "## Neural network with \"title\" column as input\n",
    "\n",
    ">A title is something that is essential when posting an item for sale on eBay. A lot of sellers use the same format for titles depending on the product. Titles on eBay are essentially a list of keywords in order to promote it higher in the algorathim. Each knife brand and model combination have features that are desirable to collectors that sellers want to put right up at the top of their listing. \n",
    "\n",
    ">Pricing a certain pocketknife correctly when listing it, however, is time consuming and requires scrolling through webpages trying to find the most similar knives and guessing what would be competitive while hoping that none of your filters reset or you didnt miss a cruicial one. Pricing the item correctly is very important. If you post the item for sale too low, it might sell quickly and avoid excess inventory piling up, but it is also leaving revenue on the table. Listing the knife too high would mean it may not move off the shelf at all. \n",
    "\n",
    ">Creating a model to predict the price to list a knife for sale and accurately determing it's true resale value can not only save time and make listing items more efficient, it can also optimize for an equilibrium between excess inventory and lost revenue. \n",
    "\n",
    ">A number of different vectorization methods and modeling was tested for this project. The appendix has some brief examples of training a Random Forest model with feature importances and TfIDF vectorization. This type of vectorization, like one-hot tend to be very sparse for NLP. An advantage over this type of reperesentation is Word-embeddings: a learned represntation for text where words that have similar meaning have similar representation. Word embeddings are dense, lower-dimensional and learned from the data.\n",
    "\n",
    ">Recurrent Neural Networks are a type of Neural Network in which the output from the previous step is fed as input to the current step, making it well suited for handling sequence data. \n",
    "\n",
    ">RNNs are particularly useful if the prediction has to be at word-level, as it stores the information for current feature as well neighboring features for prediction. A RNN maintains a memory based on history information. A simple RNN, however, has a \"short\" memory and can often lead into problems with vanishing gradients. LSTM were created to use gates in order to filter for feature importance in order to combat this problem. This makes them better at finding and exposing long range dependencies in data which is imperative for sentence structures.\n",
    "\n",
    ">LSTMs are a bit more complex than GRU, with 3 gates compared to 2 for the GRU. GRUs are relatively new compared to LSTMs and their performance is on par with them, but computationally more efficient (as pointed out, they have a less complex structure).\n",
    "\n",
    ">See below for model creation and hyperparameter tuning for different RNN architectures, inluding LSTMs and GRUs."
   ]
  },
  {
   "cell_type": "code",
   "execution_count": 10,
   "metadata": {},
   "outputs": [],
   "source": [
    "from tensorboard.plugins.hparams import api as hp"
   ]
  },
  {
   "cell_type": "code",
   "execution_count": 11,
   "metadata": {},
   "outputs": [
    {
     "data": {
      "text/plain": [
       "<AxesSubplot:title={'center':'Word Count Distribution'}, ylabel='Frequency'>"
      ]
     },
     "execution_count": 11,
     "metadata": {},
     "output_type": "execute_result"
    },
    {
     "data": {
      "image/png": "[encoded data removed]",
      "text/plain": [
       "<Figure size 432x288 with 1 Axes>"
      ]
     },
     "metadata": {},
     "output_type": "display_data"
    }
   ],
   "source": [
    "df['word_count'].plot(kind = 'hist', title = 'Word Count Distribution')"
   ]
  },
  {
   "cell_type": "code",
   "execution_count": 12,
   "metadata": {},
   "outputs": [
    {
     "data": {
      "text/plain": [
       "<AxesSubplot:title={'center':'Avg_Word_len Distribution'}, ylabel='Frequency'>"
      ]
     },
     "execution_count": 12,
     "metadata": {},
     "output_type": "execute_result"
    },
    {
     "data": {
      "image/png": "[encoded data removed]",
      "text/plain": [
       "<Figure size 432x288 with 1 Axes>"
      ]
     },
     "metadata": {},
     "output_type": "display_data"
    }
   ],
   "source": [
    "df['avg_word_len'].plot(kind='hist', bins = 50, title = 'Avg_Word_len Distribution')"
   ]
  },
  {
   "cell_type": "code",
   "execution_count": 13,
   "metadata": {
    "scrolled": true
   },
   "outputs": [
    {
     "data": {
      "image/png": "[encoded data removed]",
      "text/plain": [
       "<Figure size 432x288 with 1 Axes>"
      ]
     },
     "metadata": {},
     "output_type": "display_data"
    }
   ],
   "source": [
    "df['title_len'].plot(kind='hist', bins= 100,title = 'Title Length Distribution');"
   ]
  },
  {
   "cell_type": "markdown",
   "metadata": {},
   "source": [
    "## simpleRNN\n",
    "\n",
    "The mean max sequence for is not that long for eBay titles, thus a simpleRNN was tested to see if architecture with gates could be avoided to increase efficiency. Hyperparameter tuning is shown below. The best performing model had 100.00 units and dropout=0.4 in the RNN layer with a test MAE of 14.869. Different variations of max sequence length, vocab size, and number of embedding features was tested as well. Performed well but not as well as GRU model.\n"
   ]
  },
  {
   "cell_type": "code",
   "execution_count": 14,
   "metadata": {},
   "outputs": [],
   "source": [
    "df_title = df.loc[:, ['title_nostop', 'converted_price']]\n",
    "\n",
    "\n",
    "df_title.rename({'title_nostop': 'data',\n",
    "                 'converted_price': 'labels'},\n",
    "                axis=1, inplace=True)"
   ]
  },
  {
   "cell_type": "code",
   "execution_count": 15,
   "metadata": {},
   "outputs": [
    {
     "name": "stdout",
     "output_type": "stream",
     "text": [
      "<class 'pandas.core.frame.DataFrame'>\n",
      "RangeIndex: 76914 entries, 0 to 76913\n",
      "Data columns (total 2 columns):\n",
      " #   Column  Non-Null Count  Dtype  \n",
      "---  ------  --------------  -----  \n",
      " 0   data    76914 non-null  object \n",
      " 1   labels  76914 non-null  float64\n",
      "dtypes: float64(1), object(1)\n",
      "memory usage: 1.2+ MB\n"
     ]
    }
   ],
   "source": [
    "df_title.info()"
   ]
  },
  {
   "cell_type": "code",
   "execution_count": 16,
   "metadata": {},
   "outputs": [
    {
     "data": {
      "text/plain": [
       "49.993376628442164"
      ]
     },
     "execution_count": 16,
     "metadata": {},
     "output_type": "execute_result"
    }
   ],
   "source": [
    "df_title['labels'].mean()"
   ]
  },
  {
   "cell_type": "markdown",
   "metadata": {},
   "source": [
    "Split data into training and testing sets and the split the testing set to create equal size val and train sizes."
   ]
  },
  {
   "cell_type": "code",
   "execution_count": 17,
   "metadata": {},
   "outputs": [],
   "source": [
    "# df_title['labels'] = (df_title['labels']/mean_price)\n",
    "y = df_title['labels'].values\n",
    "X_train, X_test, y_train, y_test = train_test_split(df_title['data'],\n",
    "                                                    y, \n",
    "                                                    test_size=0.3, \n",
    "                                                    random_state=42)"
   ]
  },
  {
   "cell_type": "code",
   "execution_count": 18,
   "metadata": {},
   "outputs": [],
   "source": [
    "X_val, X_test, y_val, y_test = train_test_split(X_test, \n",
    "                                                y_test, \n",
    "                                                test_size=0.5, \n",
    "                                                random_state=42)"
   ]
  },
  {
   "cell_type": "code",
   "execution_count": null,
   "metadata": {},
   "outputs": [],
   "source": [
    "#Vectorize vocab \n",
    "voc_size = 10000\n",
    "max_len = 10\n",
    "embedding_features = 300\n",
    "tokenizer = Tokenizer(num_words=voc_size, oov_token = '<OOV>')\n",
    "tokenizer.fit_on_texts(X_train)\n",
    "sequences_train = tokenizer.texts_to_sequences(X_train) \n",
    "sequences_val = tokenizer.texts_to_sequences(X_val)\n",
    "sequences_test = tokenizer.texts_to_sequences(X_test)"
   ]
  },
  {
   "cell_type": "code",
   "execution_count": null,
   "metadata": {},
   "outputs": [],
   "source": [
    "#add padding to ensure all inputs are the same size\n",
    "data_train = pad_sequences(sequences_train, maxlen=max_len, padding= 'post', truncating = 'post')\n",
    "data_val = pad_sequences(sequences_val, maxlen=max_len, padding= 'post', truncating = 'post')\n",
    "data_test = pad_sequences(sequences_test, maxlen=max_len, padding= 'post', truncating = 'post')"
   ]
  },
  {
   "cell_type": "code",
   "execution_count": null,
   "metadata": {},
   "outputs": [],
   "source": [
    "data_train.shape"
   ]
  },
  {
   "cell_type": "code",
   "execution_count": null,
   "metadata": {},
   "outputs": [],
   "source": [
    "model = models.Sequential()\n",
    "model.add(Embedding(voc_size, embedding_features, input_length = max_len)) \n",
    "model.add(GRU(100,dropout=0.3))\n",
    "model.add(Dense(1, activation = 'linear'))\n",
    "model.summary()"
   ]
  },
  {
   "cell_type": "code",
   "execution_count": null,
   "metadata": {
    "scrolled": true
   },
   "outputs": [],
   "source": [
    "# Compile and fit\n",
    "model.compile(\n",
    "  loss='MSE',\n",
    "  optimizer='adam',\n",
    "  metrics=['mae']\n",
    ")\n",
    "\n",
    "\n",
    "print('Training model...')\n",
    "r = model.fit(\n",
    "  data_train,\n",
    "  y_train,\n",
    "  epochs=5,\n",
    "  validation_data=(data_val, y_val)\n",
    ")"
   ]
  },
  {
   "cell_type": "code",
   "execution_count": null,
   "metadata": {},
   "outputs": [],
   "source": []
  },
  {
   "cell_type": "code",
   "execution_count": null,
   "metadata": {},
   "outputs": [],
   "source": [
    "#set values for hyperparamter testing of simpleRNN model\n",
    "HP_NUM_UNITS = hp.HParam('units', hp.Discrete([64,100,300,600]))\n",
    "HP_DROPOUT = hp.HParam('dropout', hp.RealInterval(0.2,0.4))\n",
    "\n",
    "\n",
    "METRIC_MAE = 'MAE'\n",
    "#set metrics\n",
    "with tf.summary.create_file_writer('logs/hparam_tuning').as_default():\n",
    "    hp.hparams_config(\n",
    "        hparams=[HP_NUM_UNITS, HP_DROPOUT],\n",
    "        metrics=[hp.Metric(METRIC_MAE, display_name='MAE')],\n",
    "    )"
   ]
  },
  {
   "cell_type": "code",
   "execution_count": null,
   "metadata": {},
   "outputs": [],
   "source": [
    "#create model for hyperparameter testing\n",
    "def train_test_model(hparams):\n",
    "    model = models.Sequential()\n",
    "    model.add(Embedding(voc_size, embedding_features, input_length = max_len)) \n",
    "    model.add(SimpleRNN(hparams[HP_NUM_UNITS],dropout=(hparams[HP_DROPOUT])))\n",
    "    model.add(Dense(1, activation = 'linear'))\n",
    "    model.compile(\n",
    "      optimizer='Adam',\n",
    "      loss='MSE',\n",
    "      metrics=['MAE'],\n",
    "    )\n",
    "    model.fit(data_train, \n",
    "              y_train, \n",
    "              epochs=5,\n",
    "              validation_data=(data_val, y_val)\n",
    "             )\n",
    "    _, MSE = model.evaluate(data_test, y_test)\n",
    "    return MSE"
   ]
  },
  {
   "cell_type": "code",
   "execution_count": null,
   "metadata": {},
   "outputs": [],
   "source": [
    "#write files\n",
    "def run(run_dir, hparams):\n",
    "    with tf.summary.create_file_writer(run_dir).as_default():\n",
    "        hp.hparams(hparams)  # record the values used in this trial\n",
    "        MSE = train_test_model(hparams)\n",
    "        tf.summary.scalar(METRIC_MAE, MSE, step=1)"
   ]
  },
  {
   "cell_type": "code",
   "execution_count": null,
   "metadata": {},
   "outputs": [],
   "source": [
    "# %load_ext tensorboard"
   ]
  },
  {
   "cell_type": "code",
   "execution_count": null,
   "metadata": {},
   "outputs": [],
   "source": [
    "# rm -rf ./logs/"
   ]
  },
  {
   "cell_type": "code",
   "execution_count": null,
   "metadata": {
    "scrolled": false
   },
   "outputs": [],
   "source": [
    "#run hyperparamter testing for simpleRNN Model\n",
    "session_num = 0\n",
    "\n",
    "for num_units in HP_NUM_UNITS.domain.values:\n",
    "    for dropout_rate in (HP_DROPOUT.domain.min_value, HP_DROPOUT.domain.max_value):\n",
    "        hparams = {\n",
    "          HP_NUM_UNITS: num_units,\n",
    "          HP_DROPOUT: dropout_rate,\n",
    "        }\n",
    "        run_name = \"run-%d\" % session_num\n",
    "        print('--- Starting trial: %s' % run_name)\n",
    "        print({h.name: hparams[h] for h in hparams})\n",
    "        run('logs/hparam_tuning/' + run_name, hparams)\n",
    "        session_num += 1"
   ]
  },
  {
   "cell_type": "markdown",
   "metadata": {},
   "source": [
    "[simpleRNN Hyperparamter Optimization](https://tensorboard.dev/experiment/sngivEMGR2KSgnBDe3ncLQ)"
   ]
  },
  {
   "cell_type": "markdown",
   "metadata": {},
   "source": [
    "### GRU\n",
    "An alternative to creating a simpleRNN layer after embedding is to use a GRU layer. The architecture of this layer is more efficient than an LSTM, but it is similar in its ability to filter features by importance before continuing in the network. This ability helps to fight short term memory and vanishing gradients. This usually works well with smaller sample size than more robust LSTM models. However, for this project the GRU model performed the best with a test MAE of 14.28. "
   ]
  },
  {
   "cell_type": "code",
   "execution_count": null,
   "metadata": {},
   "outputs": [],
   "source": [
    "#Vectorize vocab \n",
    "voc_size = 30000\n",
    "max_len = 11\n",
    "embedding_features = 100\n",
    "tokenizer = Tokenizer(num_words=voc_size, oov_token = '<OOV>')\n",
    "tokenizer.fit_on_texts(X_train)\n",
    "sequences_train = tokenizer.texts_to_sequences(X_train) \n",
    "sequences_val = tokenizer.texts_to_sequences(X_val)\n",
    "sequences_test = tokenizer.texts_to_sequences(X_test)"
   ]
  },
  {
   "cell_type": "code",
   "execution_count": null,
   "metadata": {},
   "outputs": [],
   "source": [
    "#add padding to ensure all inputs are the same size\n",
    "data_train = pad_sequences(sequences_train, maxlen=max_len, padding= 'post', truncating = 'post')\n",
    "data_val = pad_sequences(sequences_val, maxlen=max_len, padding= 'post', truncating = 'post')\n",
    "data_test = pad_sequences(sequences_test, maxlen=max_len, padding= 'post', truncating = 'post')"
   ]
  },
  {
   "cell_type": "code",
   "execution_count": null,
   "metadata": {},
   "outputs": [],
   "source": [
    "data_train.shape"
   ]
  },
  {
   "cell_type": "code",
   "execution_count": null,
   "metadata": {},
   "outputs": [],
   "source": [
    "#setup units for hyperparameter testing\n",
    "HP_NUM_UNITS = hp.HParam('units', hp.Discrete([64,100,300,600]))\n",
    "HP_DROPOUT = hp.HParam('dropout', hp.RealInterval(0.2,0.4))\n",
    "\n",
    "\n",
    "METRIC_MAE = 'MAE'\n",
    "#log performance\n",
    "with tf.summary.create_file_writer('logs/hparam_tuning').as_default():\n",
    "    hp.hparams_config(\n",
    "        hparams=[HP_NUM_UNITS, HP_DROPOUT],\n",
    "        metrics=[hp.Metric(METRIC_MAE, display_name='MAE')],\n",
    "    )"
   ]
  },
  {
   "cell_type": "code",
   "execution_count": null,
   "metadata": {},
   "outputs": [],
   "source": [
    "#define model for hyperparameter testing\n",
    "def train_test_model(hparams):\n",
    "    model = models.Sequential()\n",
    "    model.add(Embedding(voc_size, embedding_features, input_length = max_len)) \n",
    "    model.add(GRU(hparams[HP_NUM_UNITS],dropout=(hparams[HP_DROPOUT])))\n",
    "    model.add(Dense(1, activation = 'linear'))\n",
    "    model.compile(\n",
    "      optimizer='Adam',\n",
    "      loss='MSE',\n",
    "      metrics=['MAE'],\n",
    "    )\n",
    "    model.fit(data_train, \n",
    "              y_train, \n",
    "              epochs=5,\n",
    "              validation_data=(data_val, y_val)\n",
    "             )\n",
    "    _, MSE = model.evaluate(data_test, y_test)\n",
    "    return MSE"
   ]
  },
  {
   "cell_type": "code",
   "execution_count": null,
   "metadata": {},
   "outputs": [],
   "source": [
    "#write files\n",
    "def run(run_dir, hparams):\n",
    "    with tf.summary.create_file_writer(run_dir).as_default():\n",
    "        hp.hparams(hparams)  # record the values used in this trial\n",
    "        MSE = train_test_model(hparams)\n",
    "        tf.summary.scalar(METRIC_MAE, MSE, step=1)"
   ]
  },
  {
   "cell_type": "code",
   "execution_count": null,
   "metadata": {},
   "outputs": [],
   "source": [
    "# %load_ext tensorboard"
   ]
  },
  {
   "cell_type": "code",
   "execution_count": null,
   "metadata": {},
   "outputs": [],
   "source": [
    "# rm -rf ./logs/"
   ]
  },
  {
   "cell_type": "code",
   "execution_count": null,
   "metadata": {
    "scrolled": false
   },
   "outputs": [],
   "source": [
    "#run hyperparamter testing for GRU Model\n",
    "session_num = 0\n",
    "\n",
    "for num_units in HP_NUM_UNITS.domain.values:\n",
    "    for dropout_rate in (HP_DROPOUT.domain.min_value, HP_DROPOUT.domain.max_value):\n",
    "        hparams = {\n",
    "          HP_NUM_UNITS: num_units,\n",
    "          HP_DROPOUT: dropout_rate,\n",
    "        }\n",
    "        run_name = \"run-%d\" % session_num\n",
    "        print('--- Starting trial: %s' % run_name)\n",
    "        print({h.name: hparams[h] for h in hparams})\n",
    "        run('logs/hparam_tuning/' + run_name, hparams)\n",
    "        session_num += 1"
   ]
  },
  {
   "cell_type": "code",
   "execution_count": null,
   "metadata": {},
   "outputs": [],
   "source": [
    "%tensorboard --logdir logs/hparam_tuning"
   ]
  },
  {
   "cell_type": "markdown",
   "metadata": {},
   "source": [
    "[GRU Hyperparameter tuning](https://tensorboard.dev/experiment/k0ny5jh6Tvm8OALWMwBkWQ/#hparams)"
   ]
  },
  {
   "cell_type": "code",
   "execution_count": 19,
   "metadata": {},
   "outputs": [],
   "source": [
    "#Vectorize vocab \n",
    "voc_size = 30000\n",
    "max_len = 11\n",
    "embedding_features = 100\n",
    "tokenizer = Tokenizer(num_words=voc_size, oov_token = '<OOV>')\n",
    "tokenizer.fit_on_texts(X_train)\n",
    "sequences_train = tokenizer.texts_to_sequences(X_train) \n",
    "sequences_val = tokenizer.texts_to_sequences(X_val)\n",
    "sequences_test = tokenizer.texts_to_sequences(X_test)\n",
    "\n",
    "#add padding to ensure all inputs are the same size\n",
    "data_train = pad_sequences(sequences_train, maxlen=max_len, padding= 'post', truncating = 'post')\n",
    "data_val = pad_sequences(sequences_val, maxlen=max_len, padding= 'post', truncating = 'post')\n",
    "data_test = pad_sequences(sequences_test, maxlen=max_len, padding= 'post', truncating = 'post')"
   ]
  },
  {
   "cell_type": "code",
   "execution_count": 20,
   "metadata": {},
   "outputs": [
    {
     "name": "stdout",
     "output_type": "stream",
     "text": [
      "Model: \"sequential\"\n",
      "_________________________________________________________________\n",
      "Layer (type)                 Output Shape              Param #   \n",
      "=================================================================\n",
      "embedding (Embedding)        (None, 11, 100)           3000000   \n",
      "_________________________________________________________________\n",
      "gru (GRU)                    (None, 100)               60600     \n",
      "_________________________________________________________________\n",
      "dense (Dense)                (None, 1)                 101       \n",
      "=================================================================\n",
      "Total params: 3,060,701\n",
      "Trainable params: 3,060,701\n",
      "Non-trainable params: 0\n",
      "_________________________________________________________________\n"
     ]
    }
   ],
   "source": [
    "model = models.Sequential()\n",
    "model.add(Embedding(voc_size, embedding_features, input_length = max_len)) \n",
    "model.add(GRU(100,dropout=0.4))\n",
    "model.add(Dense(1, activation = 'linear'))\n",
    "model.summary()"
   ]
  },
  {
   "cell_type": "code",
   "execution_count": null,
   "metadata": {},
   "outputs": [
    {
     "name": "stdout",
     "output_type": "stream",
     "text": [
      "Training model...\n",
      "Epoch 1/5\n",
      "1683/1683 [==============================] - 41s 24ms/step - loss: 1088.0472 - mae: 22.9519 - val_loss: 553.6788 - val_mae: 16.2353\n",
      "Epoch 2/5\n",
      "1683/1683 [==============================] - 41s 24ms/step - loss: 466.1590 - mae: 14.8689 - val_loss: 457.7079 - val_mae: 14.7498\n",
      "Epoch 3/5\n",
      "1683/1683 [==============================] - 41s 24ms/step - loss: 356.8253 - mae: 12.7989 - val_loss: 446.2110 - val_mae: 14.2553\n",
      "Epoch 4/5\n",
      "1683/1683 [==============================] - 39s 23ms/step - loss: 301.8997 - mae: 11.6065 - val_loss: 451.4138 - val_mae: 14.0694\n",
      "Epoch 5/5\n",
      "1661/1683 [============================>.] - ETA: 0s - loss: 266.8204 - mae: 10.7925"
     ]
    }
   ],
   "source": [
    "# Compile and fit\n",
    "model.compile(\n",
    "  loss='MSE',\n",
    "  optimizer='adam',\n",
    "  metrics=['mae']\n",
    ")\n",
    "\n",
    "\n",
    "print('Training model...')\n",
    "r = model.fit(\n",
    "  data_train,\n",
    "  y_train,\n",
    "  epochs=5,\n",
    "  validation_data=(data_val, y_val)\n",
    ")"
   ]
  },
  {
   "cell_type": "code",
   "execution_count": null,
   "metadata": {},
   "outputs": [],
   "source": [
    "s1 = \"Spyderco Mantra 3 Liner Lock Knife Black Carbon Fiber & G-10 S30V Steel C233CFP\"\n",
    "s1_p = 136.1\n",
    "s2 = \"Benchmade 556 Green 154cm Combo Blade Pardue Design\"\n",
    "s2_p = 71.95\n",
    "s3 = \"Case XX 6207 SS Mini Trapper Brown Peachseed Bone Pocket Knife Made in Usa\"\n",
    "s3_p = 51.45"
   ]
  },
  {
   "cell_type": "code",
   "execution_count": null,
   "metadata": {},
   "outputs": [],
   "source": [
    "def test_single_string(s):\n",
    "    s = remove_special_char(s.lower())\n",
    "    s = remove_punctuations(s)\n",
    "    s = ' '.join(list(set(s.split())))\n",
    "    test = tokenizer.texts_to_sequences([s])\n",
    "    test2 = pad_sequences(test, maxlen=max_len, padding= 'post', truncating = 'post')\n",
    "    pred=model.predict(test2)\n",
    "    return pred"
   ]
  },
  {
   "cell_type": "code",
   "execution_count": null,
   "metadata": {},
   "outputs": [],
   "source": [
    "pred1 = test_single_string(s1)[0][0]\n",
    "pred2 = test_single_string(s2)[0][0]\n",
    "pred3 = test_single_string(s3)[0][0]"
   ]
  },
  {
   "cell_type": "code",
   "execution_count": null,
   "metadata": {},
   "outputs": [],
   "source": []
  },
  {
   "cell_type": "markdown",
   "metadata": {},
   "source": [
    "![sample1](images/RNN/randomSpyd.jpeg)\n",
    "![sample2](images/RNN/randomBench.jpeg)\n",
    "![sample3](images/RNN/randomCase.jpeg)"
   ]
  },
  {
   "cell_type": "code",
   "execution_count": null,
   "metadata": {},
   "outputs": [],
   "source": [
    "print(f'True value: ${s1_p}, Predicted Value: ${pred1:.2f}, difference: ${pred1 - s1_p:.2f}')\n",
    "print(f'True value: ${s2_p}, Predicted Value: ${pred2:.2f} difference: ${pred2 - s2_p:.2f}')\n",
    "print(f'True value: ${s3_p}, Predicted Value: ${pred3:.2f} difference: ${pred3 - s3_p:.2f}')"
   ]
  },
  {
   "cell_type": "code",
   "execution_count": null,
   "metadata": {},
   "outputs": [],
   "source": [
    "preds =model.predict(data_test)"
   ]
  },
  {
   "cell_type": "code",
   "execution_count": null,
   "metadata": {},
   "outputs": [],
   "source": [
    "preds = preds.reshape(len(preds))"
   ]
  },
  {
   "cell_type": "code",
   "execution_count": null,
   "metadata": {},
   "outputs": [],
   "source": [
    "test_results = model.evaluate(data_test, y_test)"
   ]
  },
  {
   "cell_type": "code",
   "execution_count": null,
   "metadata": {},
   "outputs": [],
   "source": [
    "fig = plt.subplots(figsize=(12,8))\n",
    "plt.plot(r.history['loss'], label='loss')\n",
    "plt.plot(r.history['val_loss'], label='val_loss')\n",
    "plt.title(\"Loss vs val Loss for RNN model on titles (MSE)\", fontsize=15)\n",
    "plt.xlabel(\"epochs\", fontsize=15)\n",
    "plt.ylabel(\"loss (mean squared error)\", fontsize=15)\n",
    "plt.legend();\n",
    "plt.savefig('images/RNN/RNN_GRU_MSE1.png')"
   ]
  },
  {
   "cell_type": "code",
   "execution_count": null,
   "metadata": {},
   "outputs": [],
   "source": [
    "fig = plt.subplots(figsize=(12,8))\n",
    "plt.plot(r.history['mae'], label='mae')\n",
    "plt.plot(r.history['val_mae'], label='val_mae')\n",
    "plt.title(\"Loss vs val Loss for RNN model on titles (MAE)\", fontsize=15)\n",
    "plt.xlabel(\"epochs\", fontsize=15)\n",
    "plt.ylabel(\"loss (mean absolute error)\", fontsize=15)\n",
    "plt.legend();\n",
    "plt.savefig('images/RNN/RNN_GRU_MAE1.png')"
   ]
  },
  {
   "cell_type": "code",
   "execution_count": null,
   "metadata": {},
   "outputs": [],
   "source": [
    "plot_model(model,show_shapes=True, to_file='images/RNN/RNN_GRU1_arc.png')"
   ]
  },
  {
   "cell_type": "code",
   "execution_count": null,
   "metadata": {},
   "outputs": [],
   "source": [
    "test_mae = mean_absolute_error(y_test, preds)"
   ]
  },
  {
   "cell_type": "code",
   "execution_count": null,
   "metadata": {},
   "outputs": [],
   "source": [
    "RMSE = np.sqrt(test_results[0])"
   ]
  },
  {
   "cell_type": "code",
   "execution_count": null,
   "metadata": {
    "scrolled": false
   },
   "outputs": [],
   "source": [
    "string_score = f'\\nMAE on training set: ${test_mae:.2f}'\n",
    "string_score += f'\\nRMSE on training set: ${RMSE:.2f}'\n",
    "fig, ax = plt.subplots(figsize=(12, 8))\n",
    "plt.scatter(y_test, preds)\n",
    "ax.plot([0, 1], [0, 1], transform=ax.transAxes, ls=\"--\", c=\"red\")\n",
    "plt.text(3, 150, string_score)\n",
    "plt.title('RNN Model for Predicting Resale Value')\n",
    "plt.ylabel('Model predictions for Resale Value($US)')\n",
    "plt.xlabel('True Values for Resale Value($US)')\n",
    "plt.show();\n",
    "# plt.savefig('images/regression_GRU_relu1.png');"
   ]
  },
  {
   "cell_type": "code",
   "execution_count": null,
   "metadata": {},
   "outputs": [],
   "source": [
    "plt.figure(figsize=(12,8))\n",
    "\n",
    "ax = sns.regplot(x=y_test,y=preds,marker='.')\n",
    "plt.title('Regression Plot for RNN Model Performance on Predicting Resale Value',\n",
    "         fontsize=20)\n",
    "plt.ylabel('Model predictions for Resale Value($US)',\n",
    "          fontsize=18)\n",
    "plt.xlabel('True Values for Resale Value($US)',\n",
    "          fontsize=18)\n",
    "plt.xticks([20,40,\n",
    "            60,80,\n",
    "            100,120,\n",
    "            140,160],\n",
    "           ['$20.00','$40.00',\n",
    "            '$60.00','$80.00',\n",
    "            '$100.00','$120.00',\n",
    "            '$140.00','$160.00'],\n",
    "          fontsize=15)\n",
    "plt.yticks([20,40,\n",
    "            60,80,\n",
    "            100,120,\n",
    "            140],\n",
    "           ['$20.00','$40.00',\n",
    "            '$60.00','$80.00',\n",
    "            '$100.00','$120.00',\n",
    "            '$140.00'],\n",
    "          fontsize=15)\n",
    "plt.savefig('images/RNN/regPlot_GRU_performance.png');"
   ]
  },
  {
   "cell_type": "code",
   "execution_count": null,
   "metadata": {},
   "outputs": [],
   "source": [
    "test_mae"
   ]
  },
  {
   "cell_type": "markdown",
   "metadata": {},
   "source": [
    "### LSTM"
   ]
  },
  {
   "cell_type": "code",
   "execution_count": null,
   "metadata": {},
   "outputs": [],
   "source": [
    "df_title = df.loc[:, ['title_nostop', 'converted_price']]\n",
    "\n",
    "\n",
    "df_title.rename({'title_nostop': 'data',\n",
    "                 'converted_price': 'labels'},\n",
    "                axis=1, inplace=True)"
   ]
  },
  {
   "cell_type": "code",
   "execution_count": null,
   "metadata": {},
   "outputs": [],
   "source": [
    "# df_title['labels'] = (df_title['labels']/mean_price)\n",
    "Y = df_title['labels'].values"
   ]
  },
  {
   "cell_type": "code",
   "execution_count": null,
   "metadata": {},
   "outputs": [],
   "source": [
    "df_train, df_test, Ytrain, Ytest = train_test_split(df_title['data'],\n",
    "                                                    Y, \n",
    "                                                    test_size=0.3, \n",
    "                                                    random_state=42)"
   ]
  },
  {
   "cell_type": "code",
   "execution_count": null,
   "metadata": {},
   "outputs": [],
   "source": [
    "X_val, X_test, Y_val, Y_test = train_test_split(df_test, \n",
    "                                                Ytest, \n",
    "                                                test_size=0.5, \n",
    "                                                random_state=42)"
   ]
  },
  {
   "cell_type": "code",
   "execution_count": null,
   "metadata": {},
   "outputs": [],
   "source": [
    "# Convert sentences to sequences\n",
    "MAX_VOCAB_SIZE = 30000\n",
    "tokenizer = Tokenizer(num_words=MAX_VOCAB_SIZE) \n",
    "tokenizer.fit_on_texts(df_train)\n",
    "sequences_train = tokenizer.texts_to_sequences(df_train) \n",
    "sequences_val = tokenizer.texts_to_sequences(X_val) \n",
    "sequences_test = tokenizer.texts_to_sequences(X_test)"
   ]
  },
  {
   "cell_type": "code",
   "execution_count": null,
   "metadata": {},
   "outputs": [],
   "source": [
    "# get word -> integer mapping\n",
    "word2idx = tokenizer.word_index\n",
    "V = len(word2idx)\n",
    "print('Found %s unique tokens.' % V)"
   ]
  },
  {
   "cell_type": "code",
   "execution_count": null,
   "metadata": {},
   "outputs": [],
   "source": [
    "# pad sequences so that we get a N x T matrix\n",
    "data_train = pad_sequences(sequences_train)\n",
    "print('Shape of data train tensor:', data_train.shape)\n",
    "\n",
    "# get sequence length\n",
    "T = data_train.shape[1]"
   ]
  },
  {
   "cell_type": "code",
   "execution_count": null,
   "metadata": {},
   "outputs": [],
   "source": [
    "data_val = pad_sequences(sequences_val, maxlen=T)\n",
    "print('Shape of data test tensor:', X_val.shape)"
   ]
  },
  {
   "cell_type": "code",
   "execution_count": null,
   "metadata": {},
   "outputs": [],
   "source": [
    "data_test = pad_sequences(sequences_test, maxlen=T)\n",
    "print('Shape of data test tensor:', X_test.shape)"
   ]
  },
  {
   "cell_type": "code",
   "execution_count": null,
   "metadata": {},
   "outputs": [],
   "source": [
    "HP_NUM_UNITS = hp.HParam('units', hp.Discrete([16,32,64,100,300]))\n",
    "HP_DROPOUT = hp.HParam('dropout', hp.RealInterval(0.2,0.4))\n",
    "\n",
    "\n",
    "METRIC_MAE = 'MAE'\n",
    "\n",
    "with tf.summary.create_file_writer('logs/hparam_tuning2').as_default():\n",
    "    hp.hparams_config(\n",
    "        hparams=[HP_NUM_UNITS, HP_DROPOUT],\n",
    "        metrics=[hp.Metric(METRIC_MAE, display_name='MAE')],\n",
    "    )"
   ]
  },
  {
   "cell_type": "code",
   "execution_count": null,
   "metadata": {},
   "outputs": [],
   "source": [
    "D = 11\n",
    "\n",
    "def train_test_model(hparams):\n",
    "    i = Input(shape=(T,))\n",
    "    x = Embedding(V + 1, D)(i)\n",
    "    x = LSTM(hparams[HP_NUM_UNITS],dropout=(hparams[HP_DROPOUT]),return_sequences=True)(x) \n",
    "    x = GlobalMaxPooling1D()(x)\n",
    "    x = Dense(1, activation='linear')(x)\n",
    "    model = Model(i, x)\n",
    "    model.compile(\n",
    "      optimizer='Adam',\n",
    "      loss='MSE',\n",
    "      metrics=['MAE'],\n",
    "    )\n",
    "    model.fit(data_train, \n",
    "              y_train, \n",
    "              epochs=5,\n",
    "              validation_data=(data_val, y_val)\n",
    "             )\n",
    "    _, MSE = model.evaluate(data_test, y_test)\n",
    "    return MSE"
   ]
  },
  {
   "cell_type": "code",
   "execution_count": null,
   "metadata": {},
   "outputs": [],
   "source": [
    "def run(run_dir, hparams):\n",
    "    with tf.summary.create_file_writer(run_dir).as_default():\n",
    "        hp.hparams(hparams)  # record the values used in this trial\n",
    "        MSE = train_test_model(hparams)\n",
    "        tf.summary.scalar(METRIC_MAE, MSE, step=1)"
   ]
  },
  {
   "cell_type": "code",
   "execution_count": null,
   "metadata": {},
   "outputs": [],
   "source": [
    "# %reload_ext tensorboard"
   ]
  },
  {
   "cell_type": "code",
   "execution_count": null,
   "metadata": {},
   "outputs": [],
   "source": [
    "# rm -rf ./logs/"
   ]
  },
  {
   "cell_type": "code",
   "execution_count": null,
   "metadata": {
    "scrolled": false
   },
   "outputs": [],
   "source": [
    "session_num = 0\n",
    "\n",
    "for num_units in HP_NUM_UNITS.domain.values:\n",
    "    for dropout_rate in (HP_DROPOUT.domain.min_value, HP_DROPOUT.domain.max_value):\n",
    "        hparams = {\n",
    "          HP_NUM_UNITS: num_units,\n",
    "          HP_DROPOUT: dropout_rate,\n",
    "        }\n",
    "        run_name = \"run-%d\" % session_num\n",
    "        print('--- Starting trial: %s' % run_name)\n",
    "        print({h.name: hparams[h] for h in hparams})\n",
    "        run('logs/hparam_tuning2/' + run_name, hparams)\n",
    "        session_num += 1"
   ]
  },
  {
   "cell_type": "code",
   "execution_count": null,
   "metadata": {},
   "outputs": [],
   "source": [
    "df_title.describe()"
   ]
  },
  {
   "cell_type": "markdown",
   "metadata": {},
   "source": [
    "[LSTM Hyperparameter Tuning](https://tensorboard.dev/experiment/TmUjuPT7RGCVp0dZ2pwUPQ/)\n",
    "The Tensorboard above summarizes some hyperaparmeter optimization for the LSTM Network."
   ]
  },
  {
   "cell_type": "markdown",
   "metadata": {},
   "source": [
    "# Business Recommendations\n",
    "<div class = \"alert alert-success\">\n",
    "    <p> Deploying use of the GRU Price Predictive Model while listing a knife for resale can not only save time for the lister but can also help optimize for the correct price to list the knife which can balance between listing the knife too low and losing potential revenue or pricing the knife to high and creating inventory that stagnates on the shelf. The model should help balance excess inventory costs for too high of prices vs loss revenue caused by pricing the item correctly. \n",
    "    \n",
    "Based on the statistics of the dataset, the range of knife prices on eBay is quite large, from 6.95 USD to 166.50 USD. The mean price of 49.99 USD and median price of 38.86 USD indicate that the prices are skewed towards the lower end, but with a standard deviation of 35.84 USD, there is still a significant spread of prices.\n",
    "\n",
    "The performance of the Recurrent Neural Network (RNN) can be evaluated by comparing its prediction error to the spread of prices in the dataset. With an absolute error of 14.28 USD, the RNN is able to accurately predict the price within a range of approximately 29.57 USD (14.28 USD * 2). This is relatively close to the range of prices in the 25th to 75th percentile (22.25 to 67.29 USD).\n",
    "\n",
    "Therefore, the performance of the RNN can be considered decent, especially given the large range of prices in the dataset.\n",
    "    \n",
    "**Summary: I reccomend deploying the Price Predicting Model before posting a pocket knife for sale on eBay.**\n",
    "    </p>\n",
    "</div>"
   ]
  },
  {
   "cell_type": "markdown",
   "metadata": {},
   "source": [
    "![regPlot GRU](https://github.com/ddey117/Neural_Network_Predicting_Reseller_Success_Ebay/blob/master/images/RNN/regPlot_GRU_performance.png?raw=true)"
   ]
  },
  {
   "cell_type": "markdown",
   "metadata": {},
   "source": [
    "### CNN Titles"
   ]
  },
  {
   "cell_type": "code",
   "execution_count": null,
   "metadata": {},
   "outputs": [],
   "source": [
    "# Create the CNN model\n",
    "\n",
    "# We get to choose embedding dimensionality\n",
    "D = 100\n",
    "\n",
    "\n",
    "\n",
    "i = Input(shape=(T,))\n",
    "x = Embedding(V + 1, D)(i)\n",
    "x = Conv1D(32, 3, activation='relu')(x)\n",
    "x = MaxPooling1D(3)(x)\n",
    "x = Conv1D(64, 3, activation='relu')(x)\n",
    "x = MaxPooling1D(3)(x)\n",
    "x = Dense(1, activation='linear')(x)\n",
    "\n",
    "model = Model(i, x)"
   ]
  },
  {
   "cell_type": "code",
   "execution_count": null,
   "metadata": {},
   "outputs": [],
   "source": [
    "# Compile and fit\n",
    "model.compile(\n",
    "  loss='MSE',\n",
    "  optimizer='adam',\n",
    "  metrics=['mae']\n",
    ")\n",
    "\n",
    "\n",
    "print('Training model...')\n",
    "r = model.fit(\n",
    "  data_train,\n",
    "  Ytrain,\n",
    "  epochs=5,\n",
    "  validation_data=(data_val, y_val)\n",
    ")\n"
   ]
  },
  {
   "cell_type": "code",
   "execution_count": null,
   "metadata": {},
   "outputs": [],
   "source": [
    "# Plot loss per iteration\n",
    "import matplotlib.pyplot as plt\n",
    "plt.plot(r.history['loss'], label='loss')\n",
    "plt.plot(r.history['val_loss'], label='val_loss')\n",
    "plt.legend();"
   ]
  },
  {
   "cell_type": "code",
   "execution_count": null,
   "metadata": {},
   "outputs": [],
   "source": [
    "# Plot accuracy per iteration\n",
    "plt.plot(r.history['loss'], label='MSE')\n",
    "plt.plot(r.history['val_loss'], label='val_MSE')\n",
    "plt.legend();"
   ]
  },
  {
   "cell_type": "markdown",
   "metadata": {},
   "source": [
    "### CNN using images as input"
   ]
  },
  {
   "cell_type": "code",
   "execution_count": null,
   "metadata": {},
   "outputs": [],
   "source": [
    "df_imgs = df.drop(['title', 'url', \n",
    "                   'date_sold', 'profit',\n",
    "                   'ROI', 'brand', 'cost',\n",
    "                   'pictureURLLarge'],\n",
    "                     axis=1).copy()"
   ]
  },
  {
   "cell_type": "code",
   "execution_count": null,
   "metadata": {},
   "outputs": [],
   "source": [
    "df_imgs.dropna(subset=['Image'], inplace=True)"
   ]
  },
  {
   "cell_type": "code",
   "execution_count": null,
   "metadata": {},
   "outputs": [],
   "source": [
    "df_imgs.reset_index(drop=True, inplace=True)"
   ]
  },
  {
   "cell_type": "code",
   "execution_count": null,
   "metadata": {},
   "outputs": [],
   "source": [
    "df_imgs['file_index'] = df_imgs.index.values\n",
    "df_imgs['file_index'] = df_imgs['file_index'].astype(str)"
   ]
  },
  {
   "cell_type": "code",
   "execution_count": null,
   "metadata": {},
   "outputs": [],
   "source": [
    "df_imgs['filename'] = df_imgs['file_index'] + '.jpg'"
   ]
  },
  {
   "cell_type": "code",
   "execution_count": null,
   "metadata": {},
   "outputs": [],
   "source": [
    "def download(row):\n",
    "    filename = row.filepath\n",
    "\n",
    "# create folder if it doesn't exist\n",
    "#     os.makedirs(os.path.dirname(filename), exist_ok=True)\n",
    "\n",
    "    url = row.Image\n",
    "#     print(f\"Downloading {url} to {filename}\")\n",
    "    \n",
    "    try:\n",
    "        r = requests.get(url, allow_redirects=True)\n",
    "        with open(filename, 'wb') as f:\n",
    "            f.write(r.content)\n",
    "    except:\n",
    "        print(f'{filename} error')"
   ]
  },
  {
   "cell_type": "code",
   "execution_count": null,
   "metadata": {},
   "outputs": [],
   "source": [
    "root_folder = 'C:/Users/12108/Documents/GitHub/Neural_Network_Predicting_Reseller_Success_Ebay/nn_images/'\n",
    "df_imgs['filepath'] = root_folder + df_imgs['filename']"
   ]
  },
  {
   "cell_type": "code",
   "execution_count": null,
   "metadata": {},
   "outputs": [],
   "source": [
    "df_imgs['filepath'].sample(2).apply(print)"
   ]
  },
  {
   "cell_type": "code",
   "execution_count": null,
   "metadata": {
    "scrolled": true
   },
   "outputs": [],
   "source": [
    "# df_imgs.apply(download, axis=1)"
   ]
  },
  {
   "cell_type": "markdown",
   "metadata": {},
   "source": [
    "#### All image files are stored locally for this project. The below markdown code is for reference."
   ]
  },
  {
   "cell_type": "markdown",
   "metadata": {},
   "source": [
    "```\n",
    "img_list = os.listdir('C:/Users/12108/Documents/GitHub/Neural_Network_Predicting_Reseller_Success_Ebay/nn_images/')\n",
    "\n",
    "img_df = df_imgs.loc[df_imgs['filename'].isin(img_list)].copy()\n",
    "\n",
    "img_df.reset_index(drop=True, inplace=True)\n",
    "```"
   ]
  },
  {
   "cell_type": "markdown",
   "metadata": {},
   "source": [
    "```\n",
    "img_df.rename({'Image': 'data',\n",
    "               'converted_price': 'labels'},\n",
    "                axis=1, inplace=True)\n",
    "```"
   ]
  },
  {
   "cell_type": "markdown",
   "metadata": {},
   "source": [
    "```\n",
    "df_train, df_test, Ytrain, Ytest = train_test_split(img_df, Y, test_size=0.20)\n",
    "datagen=ImageDataGenerator(rescale=1./255.,validation_split=0.20)\n",
    "\n",
    "train_generator=datagen.flow_from_dataframe(\n",
    "dataframe=df_train,\n",
    "directory= None,\n",
    "x_col=\"filepath\",\n",
    "y_col=\"labels\",\n",
    "subset=\"training\",\n",
    "batch_size=100,\n",
    "seed=55,\n",
    "shuffle=True,\n",
    "class_mode=\"raw\")\n",
    "    \n",
    "valid_generator=datagen.flow_from_dataframe(\n",
    "dataframe=df_train,\n",
    "directory=None,\n",
    "x_col=\"filepath\",\n",
    "y_col=\"labels\",\n",
    "subset=\"validation\",\n",
    "batch_size=100,\n",
    "seed=55,\n",
    "shuffle=True,\n",
    "class_mode=\"raw\")\n",
    "\n",
    "test_datagen=ImageDataGenerator(rescale=1./255.)\n",
    "test_generator=test_datagen.flow_from_dataframe(\n",
    "dataframe=df_test,\n",
    "directory=None,\n",
    "x_col=\"filepath\",\n",
    "y_col=\"labels\",\n",
    "batch_size=100,\n",
    "seed=55,\n",
    "shuffle=False,\n",
    "class_mode=\"raw\")\n",
    "```"
   ]
  },
  {
   "cell_type": "code",
   "execution_count": null,
   "metadata": {},
   "outputs": [],
   "source": [
    "# model = models.Sequential()\n",
    "\n",
    "# model.add(layers.Conv2D(16, (3, 3), padding='same', activation='relu',\n",
    "#                         input_shape=(256 ,256,  3)))\n",
    "# model.add(layers.BatchNormalization())\n",
    "# model.add(layers.Conv2D(16, (3, 3), activation='relu', padding='same'))\n",
    "# model.add(layers.BatchNormalization())\n",
    "# model.add(layers.MaxPooling2D((2, 2)))\n",
    "\n",
    "# model.add(layers.Conv2D(32, (3, 3), padding='same', activation='relu',\n",
    "#                         input_shape=(256 ,256,  3)))\n",
    "# model.add(layers.BatchNormalization())\n",
    "# model.add(layers.Conv2D(32, (3, 3), activation='relu', padding='same'))\n",
    "# model.add(layers.BatchNormalization())\n",
    "# model.add(layers.MaxPooling2D((2, 2)))\n",
    "\n",
    "# model.add(layers.Conv2D(64, (3, 3), activation='relu', padding='same'))\n",
    "# model.add(layers.BatchNormalization())\n",
    "# model.add(layers.Conv2D(64, (3, 3), activation='relu', padding='same'))\n",
    "# model.add(layers.BatchNormalization())\n",
    "# model.add(layers.MaxPooling2D((2, 2)))\n",
    "\n",
    "# model.add(layers.Conv2D(128, (3, 3), activation='relu', padding='same'))\n",
    "# model.add(layers.BatchNormalization())\n",
    "# model.add(layers.Conv2D(128, (3, 3), activation='relu', padding='same'))\n",
    "# model.add(layers.BatchNormalization())\n",
    "# model.add(layers.MaxPooling2D((2, 2)))\n",
    "\n",
    "# model.add(layers.Flatten())\n",
    "\n",
    "# model.add(Dense(512, activation='relu'))\n",
    "# model.add(Dropout(0.1))\n",
    "# model.add(Dense(256, activation='relu'))\n",
    "# model.add(Dropout(0.1))\n",
    "# model.add(Dense(128, activation='relu'))\n",
    "# model.add(Dense(1, activation='linear'))\n",
    "\n",
    "# model.compile(loss='MSE',\n",
    "#               optimizer='Adam',\n",
    "#                metrics=['mae', 'mse'])\n",
    "\n",
    "# summary = model.fit(train_generator, epochs=3, validation_data=valid_generator)"
   ]
  },
  {
   "cell_type": "code",
   "execution_count": null,
   "metadata": {},
   "outputs": [],
   "source": [
    "model = tf.keras.models.load_model('cnn_grayscale_relu1.h5',  compile=False)"
   ]
  },
  {
   "cell_type": "code",
   "execution_count": null,
   "metadata": {},
   "outputs": [],
   "source": [
    "plot_model(model, show_shapes=True, to_file=\"images/CNN_architecture.png\")"
   ]
  },
  {
   "cell_type": "code",
   "execution_count": null,
   "metadata": {},
   "outputs": [],
   "source": [
    "model.summary()"
   ]
  },
  {
   "cell_type": "markdown",
   "metadata": {},
   "source": [
    "# Results\n",
    "\n",
    "### Recurrent Neural Network (GRU)\n",
    "The performance of the Recurrent Neural Network (RNN) can be evaluated by comparing its prediction error to the spread of prices in the dataset. With an absolute error of 14.28 USD, the RNN is able to accurately predict the price within a range of approximately 29.57 USD (14.28 USD * 2). This is relatively close to the range of prices in the 25th to 75th percentile (22.25 to 67.29 USD). Therefore, the performance of the RNN can be considered decent, especially given the large range of prices in the dataset.\n",
    "\n",
    "**This model is recommend for use when listing a pocket knife on sale to help list it appropriately.**\n",
    "\n",
    "\n",
    "\n",
    "### Convoluted Neural Network on Grayscale Images\n",
    "\n",
    "- The MAE when testing the CNN was roughly \\\\$25.00. That is an error of plus or minus about 50\\% of the mean price of knives sold. Not acceptable yet as compared to the RNN with titles. Will address in future work.\n",
    "\n",
    "## Future Work\n",
    "- Expand data to include other products readily purchasable at the Surplus Store. \n",
    "\n",
    "- Attempt data augmentation on the CNN image network\n",
    "\n",
    "- Attempt to obtain more aspect data for sold knives. Some important aspect data is limited access to sellers who average a certain amount of money per month. "
   ]
  },
  {
   "cell_type": "markdown",
   "metadata": {},
   "source": [
    "# Appendix\n",
    "\n",
    "### CNN for titles on best brand of knife: Case Brands"
   ]
  },
  {
   "cell_type": "code",
   "execution_count": null,
   "metadata": {},
   "outputs": [],
   "source": [
    "# df_title['labels'] = (df_title['labels']/mean_price)\n",
    "y = df_title['labels'].values\n",
    "X_train, X_test, y_train, y_test = train_test_split(df_title['data'],\n",
    "                                                    y, \n",
    "                                                    test_size=0.3, \n",
    "                                                    random_state=42)\n",
    "\n",
    "X_val, X_test, y_val, y_test = train_test_split(X_test, \n",
    "                                                y_test, \n",
    "                                                test_size=0.5, \n",
    "                                                random_state=42)\n",
    "\n",
    "\n",
    "\n",
    "#Vectorize vocab \n",
    "voc_size = 10000\n",
    "max_len = 10\n",
    "embedding_features = 300\n",
    "tokenizer = Tokenizer(num_words=voc_size, oov_token = '<OOV>')\n",
    "tokenizer.fit_on_texts(X_train)\n",
    "sequences_train = tokenizer.texts_to_sequences(X_train) \n",
    "sequences_val = tokenizer.texts_to_sequences(X_val)\n",
    "sequences_test = tokenizer.texts_to_sequences(X_test)\n",
    "\n",
    "#add padding to ensure all inputs are the same size\n",
    "data_train = pad_sequences(sequences_train, maxlen=max_len, padding= 'post', truncating = 'post')\n",
    "data_val = pad_sequences(sequences_val, maxlen=max_len, padding= 'post', truncating = 'post')\n",
    "data_test = pad_sequences(sequences_test, maxlen=max_len, padding= 'post', truncating = 'post')\n",
    "\n",
    "data_train.shape\n",
    "\n",
    "model = models.Sequential()\n",
    "model.add(Embedding(voc_size, embedding_features, input_length = max_len)) \n",
    "model.add(GRU(100,dropout=0.3))\n",
    "model.add(Dense(1, activation = 'linear'))\n",
    "model.summary()\n",
    "\n",
    "# Compile and fit\n",
    "model.compile(\n",
    "  loss='MSE',\n",
    "  optimizer='adam',\n",
    "  metrics=['mae']\n",
    ")\n",
    "\n",
    "\n",
    "print('Training model...')\n",
    "r = model.fit(\n",
    "  data_train,\n",
    "  y_train,\n",
    "  epochs=5,\n",
    "  validation_data=(data_val, y_val)\n",
    ")"
   ]
  },
  {
   "cell_type": "markdown",
   "metadata": {},
   "source": [
    "### Random Forest with TFIDF vectorization and feature importance"
   ]
  },
  {
   "cell_type": "code",
   "execution_count": null,
   "metadata": {},
   "outputs": [],
   "source": [
    "# df_title['labels'] = (df_title['labels']/mean_price)\n",
    "Y = df_title['labels'].values"
   ]
  },
  {
   "cell_type": "code",
   "execution_count": null,
   "metadata": {},
   "outputs": [],
   "source": [
    "df_title['data'].sample(10).apply(print)"
   ]
  },
  {
   "cell_type": "code",
   "execution_count": null,
   "metadata": {},
   "outputs": [],
   "source": [
    "df_train, df_test, Ytrain, Ytest = train_test_split(df_title['data'],\n",
    "                                                    Y, \n",
    "                                                    test_size=0.3, \n",
    "                                                    random_state=51)\n",
    "\n",
    "\n"
   ]
  },
  {
   "cell_type": "code",
   "execution_count": null,
   "metadata": {},
   "outputs": [],
   "source": [
    "# X_val, X_test, Y_val, Y_test = train_test_split(df_test, \n",
    "#                                                 Ytest, \n",
    "#                                                 test_size=0.5, \n",
    "#                                                 random_state=51)"
   ]
  },
  {
   "cell_type": "code",
   "execution_count": null,
   "metadata": {},
   "outputs": [],
   "source": [
    "tfidf_vectorizer = TfidfVectorizer()\n",
    "tfidf_vectorizer.fit(df_train)\n",
    "X_train_vec = tfidf_vectorizer.transform(df_train)\n",
    "x_test_vec = tfidf_vectorizer.transform(df_test)"
   ]
  },
  {
   "cell_type": "code",
   "execution_count": null,
   "metadata": {},
   "outputs": [],
   "source": [
    "X_train_vec.get_shape()"
   ]
  },
  {
   "cell_type": "code",
   "execution_count": null,
   "metadata": {},
   "outputs": [],
   "source": [
    "tfidf_vectorizer.get_feature_names()"
   ]
  },
  {
   "cell_type": "code",
   "execution_count": null,
   "metadata": {},
   "outputs": [],
   "source": [
    "from sklearn.ensemble import RandomForestRegressor\n",
    "rf_model = RandomForestRegressor(verbose=3, n_jobs=-1, random_state=42)"
   ]
  },
  {
   "cell_type": "code",
   "execution_count": null,
   "metadata": {},
   "outputs": [],
   "source": [
    "rf_model.fit(X_train_vec,Ytrain)"
   ]
  },
  {
   "cell_type": "code",
   "execution_count": null,
   "metadata": {},
   "outputs": [],
   "source": [
    "from sklearn import metrics\n",
    "\n",
    "y_true = Ytest\n",
    "y_pred = rf_model.predict(x_test_vec)\n",
    "\n",
    "print('Mean Absolute Error (MAE):', metrics.mean_absolute_error(y_true, y_pred))\n",
    "print('Mean Squared Error (MSE):', metrics.mean_squared_error(y_true, y_pred))\n",
    "print('Root Mean Squared Error (RMSE):', metrics.mean_squared_error(y_true, y_pred, squared=False))\n",
    "print('Explained Variance Score:', metrics.explained_variance_score(y_true, y_pred))\n",
    "print('Max Error:', metrics.max_error(y_true, y_pred))\n",
    "print('Mean Squared Log Error:', metrics.mean_squared_log_error(y_true, y_pred))\n",
    "print('Median Absolute Error:', metrics.median_absolute_error(y_true, y_pred))\n",
    "print('R^2:', metrics.r2_score(y_true, y_pred))\n",
    "print('Mean Poisson Deviance:', metrics.mean_poisson_deviance(y_true, y_pred))\n",
    "print('Mean Gamma Deviance:', metrics.mean_gamma_deviance(y_true, y_pred))"
   ]
  },
  {
   "cell_type": "code",
   "execution_count": null,
   "metadata": {},
   "outputs": [],
   "source": [
    "features = tfidf_vectorizer.get_feature_names()\n",
    "fi = rf_model.feature_importances_\n",
    "importance = [(features[i], fi[i]) for i in range(0,2000)]"
   ]
  },
  {
   "cell_type": "code",
   "execution_count": null,
   "metadata": {},
   "outputs": [],
   "source": [
    "importance[:50]"
   ]
  },
  {
   "cell_type": "code",
   "execution_count": null,
   "metadata": {},
   "outputs": [],
   "source": [
    "# df_title['labels'] = (df_title['labels']/mean_price)\n",
    "Y = df_title['labels'].values\n",
    "\n",
    "df_title['data'].sample(10).apply(print)\n",
    "\n",
    "df_train, df_test, Ytrain, Ytest = train_test_split(df_title['data'],\n",
    "                                                    Y, \n",
    "                                                    test_size=0.3, \n",
    "                                                    random_state=51)\n",
    "\n",
    "\n",
    "\n",
    "\n",
    "# X_val, X_test, Y_val, Y_test = train_test_split(df_test, \n",
    "#                                                 Ytest, \n",
    "#                                                 test_size=0.5, \n",
    "#                                                 random_state=51)\n",
    "\n",
    "tfidf_vectorizer = TfidfVectorizer()\n",
    "tfidf_vectorizer.fit(df_train)\n",
    "X_train_vec = tfidf_vectorizer.transform(df_train)\n",
    "x_test_vec = tfidf_vectorizer.transform(df_test)\n",
    "\n",
    "X_train_vec.get_shape()\n",
    "\n",
    "tfidf_vectorizer.get_feature_names()\n",
    "\n",
    "from sklearn.ensemble import RandomForestRegressor\n",
    "rf_model = RandomForestRegressor(verbose=3, n_jobs=-1, random_state=42)\n",
    "\n",
    "rf_model.fit(X_train_vec,Ytrain)\n",
    "\n",
    "from sklearn import metrics\n",
    "\n",
    "y_true = Ytest\n",
    "y_pred = rf_model.predict(x_test_vec)\n",
    "\n",
    "print('Mean Absolute Error (MAE):', metrics.mean_absolute_error(y_true, y_pred))\n",
    "print('Mean Squared Error (MSE):', metrics.mean_squared_error(y_true, y_pred))\n",
    "print('Root Mean Squared Error (RMSE):', metrics.mean_squared_error(y_true, y_pred, squared=False))\n",
    "print('Explained Variance Score:', metrics.explained_variance_score(y_true, y_pred))\n",
    "print('Max Error:', metrics.max_error(y_true, y_pred))\n",
    "print('Mean Squared Log Error:', metrics.mean_squared_log_error(y_true, y_pred))\n",
    "print('Median Absolute Error:', metrics.median_absolute_error(y_true, y_pred))\n",
    "print('R^2:', metrics.r2_score(y_true, y_pred))\n",
    "print('Mean Poisson Deviance:', metrics.mean_poisson_deviance(y_true, y_pred))\n",
    "print('Mean Gamma Deviance:', metrics.mean_gamma_deviance(y_true, y_pred))\n",
    "\n",
    "features = tfidf_vectorizer.get_feature_names()\n",
    "fi = rf_model.feature_importances_\n",
    "importance = [(features[i], fi[i]) for i in range(0,2000)]\n",
    "\n",
    "importance[:50]"
   ]
  }
 ],
 "metadata": {
  "kernelspec": {
   "display_name": "Python (learn-env)",
   "language": "python",
   "name": "learn-env"
  },
  "language_info": {
   "codemirror_mode": {
    "name": "ipython",
    "version": 3
   },
   "file_extension": ".py",
   "mimetype": "text/x-python",
   "name": "python",
   "nbconvert_exporter": "python",
   "pygments_lexer": "ipython3",
   "version": "3.8.5"
  }
 },
 "nbformat": 4,
 "nbformat_minor": 4
}
