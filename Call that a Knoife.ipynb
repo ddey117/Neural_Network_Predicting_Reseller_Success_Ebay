{
 "cells": [
  {
   "cell_type": "code",
   "execution_count": 2,
   "metadata": {},
   "outputs": [],
   "source": [
    "import pandas as pd \n",
    "import numpy as np \n",
    "import matplotlib.pyplot as plt\n",
    "%matplotlib inline"
   ]
  },
  {
   "cell_type": "code",
   "execution_count": null,
   "metadata": {},
   "outputs": [],
   "source": [
    "!pip install git+ssh://git@github.com/ddey117/preprocess_ddey117.git"
   ]
  },
  {
   "cell_type": "code",
   "execution_count": null,
   "metadata": {},
   "outputs": [],
   "source": []
  },
  {
   "cell_type": "code",
   "execution_count": null,
   "metadata": {},
   "outputs": [],
   "source": []
  },
  {
   "cell_type": "code",
   "execution_count": null,
   "metadata": {},
   "outputs": [],
   "source": []
  },
  {
   "cell_type": "code",
   "execution_count": null,
   "metadata": {},
   "outputs": [],
   "source": []
  },
  {
   "cell_type": "code",
   "execution_count": 3,
   "metadata": {},
   "outputs": [
    {
     "name": "stdout",
     "output_type": "stream",
     "text": [
      " Volume in drive C has no label.\n",
      " Volume Serial Number is 26D5-9745\n",
      "\n",
      " Directory of C:\\Users\\12108\\Desktop\\ebay_knife_data\\dsc-5-capstone-project\n",
      "\n",
      "06/29/2022  06:53 PM    <DIR>          .\n",
      "06/29/2022  06:53 PM    <DIR>          ..\n",
      "06/24/2022  04:24 PM                29 .gitignore\n",
      "06/27/2022  04:00 PM    <DIR>          .ipynb_checkpoints\n",
      "06/24/2022  04:24 PM                92 .learn\n",
      "06/29/2022  06:53 PM            22,005 Call that a Knoife.ipynb\n",
      "06/24/2022  04:24 PM             1,849 CONTRIBUTING.md\n",
      "06/27/2022  10:06 AM    <DIR>          data\n",
      "06/27/2022  09:56 AM            17,853 Ebay Finding API.ipynb\n",
      "06/24/2022  04:24 PM                57 ebay_api_key.env\n",
      "06/24/2022  04:24 PM        49,147,416 full_dataset.csv\n",
      "06/24/2022  04:24 PM         8,873,178 full_dataset.csv2\n",
      "06/24/2022  04:24 PM         9,324,754 full_dataset2.csv\n",
      "06/29/2022  05:51 PM    <DIR>          images\n",
      "06/24/2022  04:24 PM             1,371 LICENSE.md\n",
      "06/27/2022  10:25 AM    <DIR>          preparedData\n",
      "06/24/2022  04:24 PM            12,259 README.md\n",
      "06/27/2022  04:02 PM               567 Untitled.ipynb\n",
      "06/24/2022  04:24 PM                 2 x\n",
      "              13 File(s)     67,401,432 bytes\n",
      "               6 Dir(s)  1,863,228,522,496 bytes free\n"
     ]
    }
   ],
   "source": [
    "ls"
   ]
  },
  {
   "cell_type": "markdown",
   "metadata": {},
   "source": [
    "![benchmade](images/benchmadePriceBucket2.jpg)\n",
    "\n",
    "\n",
    "![buck](images/buckPriceBucket2.jpg)\n",
    "\n",
    "![case](images/casePriceBucket2.jpg)\n",
    "\n",
    "\n",
    "![crkt](images/crktPriceBucket2.jpg)\n",
    "\n",
    "\n",
    "\n",
    "![kershaw](images/kershawPriceBucket2.jpg)\n",
    "\n",
    "\n",
    "\n",
    "\n",
    "![LeatherMan](images/LeatherMen2.jpg)\n",
    "\n",
    "\n",
    "\n",
    "\n",
    "\n",
    "\n",
    "\n",
    "\n",
    "![Sog](images/sogPriceBucket2.jpg)\n",
    "\n",
    "\n",
    "\n",
    "\n",
    "![spyderco](images/sypdercoPriceBucket2.jpg)\n",
    "\n",
    "\n",
    "\n",
    "\n",
    "![victorinix](images/victorinixPriceBucket2.jpg)\n",
    "\n",
    "\n",
    "\n",
    "\n"
   ]
  },
  {
   "cell_type": "code",
   "execution_count": 4,
   "metadata": {},
   "outputs": [],
   "source": [
    "df1 = pd.read_csv(\"full_dataset.csv\")\n",
    "df2 = pd.read_csv(\"full_dataset2.csv\")"
   ]
  },
  {
   "cell_type": "code",
   "execution_count": 5,
   "metadata": {},
   "outputs": [
    {
     "name": "stdout",
     "output_type": "stream",
     "text": [
      "<class 'pandas.core.frame.DataFrame'>\n",
      "RangeIndex: 49588 entries, 0 to 49587\n",
      "Data columns (total 13 columns):\n",
      " #   Column           Non-Null Count  Dtype  \n",
      "---  ------           --------------  -----  \n",
      " 0   itemId           49588 non-null  int64  \n",
      " 1   title            49588 non-null  object \n",
      " 2   galleryURL       49588 non-null  object \n",
      " 3   viewItemURL      49588 non-null  object \n",
      " 4   postalCode       49588 non-null  object \n",
      " 5   location         49588 non-null  object \n",
      " 6   country          49588 non-null  object \n",
      " 7   shippingInfo     49588 non-null  object \n",
      " 8   sellingStatus    49588 non-null  object \n",
      " 9   listingInfo      49588 non-null  object \n",
      " 10  returnsAccepted  49588 non-null  bool   \n",
      " 11  condition        49588 non-null  object \n",
      " 12  price_in_US      49588 non-null  float64\n",
      "dtypes: bool(1), float64(1), int64(1), object(10)\n",
      "memory usage: 4.6+ MB\n"
     ]
    }
   ],
   "source": [
    "df1.info()"
   ]
  },
  {
   "cell_type": "code",
   "execution_count": 6,
   "metadata": {},
   "outputs": [
    {
     "data": {
      "text/plain": [
       "28962    Spyderco 8Cr13MoV Folding Plain Edge Locking P...\n",
       "14521                        Spyderco Folding Pocket Knife\n",
       "15654    Sanrenmu 7010 EDC Frame Lock Folding Pocket Knife\n",
       "49167                                serge panchenko knife\n",
       "14237    Browning 5682 Pocket Knife Liner Lock Plain Ed...\n",
       "49485    Benchmade Bugout 535 Knife Aluminum Scales and...\n",
       "24327    CJRB 1 BLADE  LOCK BACK BLACK CARBON FIBRE HAN...\n",
       "6114     VINTAGE New Old Stock GCCO Italian Made  Stile...\n",
       "14717                        Spyderco Folding Pocket Knife\n",
       "25912    SPYDERCO VG-10 Seki-City Japan DELICA 4 Serrat...\n",
       "5543              A.M. Leonard Pruning Knife Made in Italy\n",
       "2893     Spyderco Delica Clipit G-2 Serrated Folding Lo...\n",
       "17885    Strider AR .75 Tanto Blade Knife with Custom Z...\n",
       "4601     Benchmade Bugout 535 Knife Aluminum Scales and...\n",
       "3107                                 serge panchenko knife\n",
       "34031    KABAR / KA-BAR CUTLERY CO OLEAN NY USA SAW-CUT...\n",
       "5917     Civivi Baby Banter Folding Knife 2.34\" Nitro-V...\n",
       "30438    Coast Small 3 Blade Stockman Black Folding Poc...\n",
       "38311    Vtg Shimano Hiro Knives Seki Japan Rigging Fol...\n",
       "39413                        Spyderco Folding Pocket Knife\n",
       "Name: title, dtype: object"
      ]
     },
     "execution_count": 6,
     "metadata": {},
     "output_type": "execute_result"
    }
   ],
   "source": [
    "df1.title.sample(20)"
   ]
  },
  {
   "cell_type": "markdown",
   "metadata": {},
   "source": [
    "benchmade, buck, case, crkt, kershaw, leatherman, sog, spyderco, victorinox"
   ]
  },
  {
   "cell_type": "code",
   "execution_count": 7,
   "metadata": {},
   "outputs": [],
   "source": [
    "test = \"\"\n",
    "for val in df1.title.sample(20):\n",
    "    val + val\n",
    "    test += val"
   ]
  },
  {
   "cell_type": "code",
   "execution_count": 8,
   "metadata": {},
   "outputs": [
    {
     "data": {
      "text/plain": [
       "'SPYDERCO VG-10 Seki-City Japan DELICA 4 Serrated Edge Folding Pocket KnifeRidge Runner Tactical Hawkbill Liner Lock Folding Pocket Clip KnifeLot of 20 Assorted Project Pocket KnivesSpyderco Folding Pocket KnifeCJRB 1 BLADE  LOCK BACK BLACK CARBON FIBRE HANDLES KNIFEWenger Delemont Silver ALOX Swiss Army Knife with BoxVtg NOS 1980 Explorer Seki Japan 4\" Bird Hook Folding Hunter Lockback KnifeBlack Vintage Wenger Swiss Army Pocket KnifeKershaw 6054BRNBLK Emerson Folding Knife. Excellent Condition.VINTAGE MIKOV CZECHO FAUX STAG BAREHEAD FOLDING HUNTER BOWIE KNIFE KNIVES POCKETSpyderco Folding Pocket Knifecollector knife, pistolRare Benchmade 580 Osborne 154CM Barrage Folding Pocket Knife 8\" OverallJAGUAR FOLDING KNIFEcase knifeVictorinox Replacement SWISS CARD KNIFE - TRANSLUCENT BLUE BODY Low ShippingBenchmade Large folding knife 477Ridge Runner Tactical Hawkbill Liner Lock Folding Pocket Clip KnifeVictorinox Grand Prix Swiss Army knifeCAMILLUS MARLIN SPIKE RIGGERS KNIFE'"
      ]
     },
     "execution_count": 8,
     "metadata": {},
     "output_type": "execute_result"
    }
   ],
   "source": [
    "test"
   ]
  },
  {
   "cell_type": "code",
   "execution_count": 9,
   "metadata": {},
   "outputs": [
    {
     "data": {
      "text/plain": [
       "array(['VINTAGE Wild Turkey HANDMADE 2 Blade Bone Handle Folding Pocket KNIFE',\n",
       "       'Benchmade Bugout 535 Knife Aluminum Scales and Black Blade',\n",
       "       'Assorted folding knives LOT',\n",
       "       'Kershaw Scrambler 3890 Assisted Open Pocket Knife Frame Lock Plain Edge Blade',\n",
       "       'Civivi Baby Banter Folding Knife 2.34\" Nitro-V Steel Blade Black G10 Handle',\n",
       "       'LOT VINTAGE KNIVES POCKET KNIFE CUSTOM WHITTLER LOCKBACK FOLDING TACTICAL HUNTER',\n",
       "       'Vtg Shimano Hiro Knives Seki Japan Rigging Folding Lockback Sailor Marlin Spike',\n",
       "       'Kershaw 6054BRNBLK Emerson Folding Knife. Excellent Condition.',\n",
       "       'Choice of Multi Tool Keychain Knife',\n",
       "       'Vintage 4\" Blade Wildcat Japan Lock back Folding Knife',\n",
       "       'VINTAGE MIKOV CZECHO FAUX STAG BAREHEAD FOLDING HUNTER BOWIE KNIFE KNIVES POCKET',\n",
       "       'CAMILLUS MARLIN SPIKE RIGGERS KNIFE',\n",
       "       'Authentic SWISS ARMY KNIFE Mini',\n",
       "       '5\" Long Closed Fantasy Templar Knight\\'s Cross Knife Collectible',\n",
       "       'Spyderco Delica Clipit G-2 Serrated Folding Lockback Knife.',\n",
       "       'Bulldog Canoe Knife 1990 Germany VERY UNIQUE two different handles',\n",
       "       'Victorinox Midnite Mini Champ Swiss Army Knife - Emerald',\n",
       "       'LOT VINTAGE KNIVES POCKET KNIFE CUSTOM WHITTLER LOCKBACK FOLDING TACTICAL HUNTER',\n",
       "       'case knife', 'Assorted folding knives LOT'], dtype=object)"
      ]
     },
     "execution_count": 9,
     "metadata": {},
     "output_type": "execute_result"
    }
   ],
   "source": [
    "df1.title.sample(20).values"
   ]
  },
  {
   "cell_type": "code",
   "execution_count": 10,
   "metadata": {},
   "outputs": [],
   "source": [
    "import re"
   ]
  },
  {
   "cell_type": "code",
   "execution_count": 11,
   "metadata": {},
   "outputs": [],
   "source": [
    "pattern = \"(^(?:\\S+\\s+\\n?){1,3})\""
   ]
  },
  {
   "cell_type": "code",
   "execution_count": null,
   "metadata": {},
   "outputs": [],
   "source": [
    "re.findall(pattern, test)[0]"
   ]
  },
  {
   "cell_type": "code",
   "execution_count": null,
   "metadata": {},
   "outputs": [],
   "source": [
    "df2['messy_brand'] = df2.title.apply(lambda x: re.findall(pattern, x)[0])"
   ]
  },
  {
   "cell_type": "code",
   "execution_count": null,
   "metadata": {},
   "outputs": [],
   "source": [
    "df2['messy_brand'].sample(20)"
   ]
  },
  {
   "cell_type": "code",
   "execution_count": null,
   "metadata": {},
   "outputs": [],
   "source": [
    "pattern = \"(#\\w+)\""
   ]
  },
  {
   "cell_type": "code",
   "execution_count": null,
   "metadata": {},
   "outputs": [],
   "source": [
    "re.findall(pattern, test)"
   ]
  },
  {
   "cell_type": "code",
   "execution_count": null,
   "metadata": {},
   "outputs": [],
   "source": [
    "df2['cleaner_brand'] = df2['messy_brand'].str.replace(\"(#\\w+)\", '')"
   ]
  },
  {
   "cell_type": "code",
   "execution_count": null,
   "metadata": {},
   "outputs": [],
   "source": [
    "df2['cleaner_brand']"
   ]
  },
  {
   "cell_type": "code",
   "execution_count": null,
   "metadata": {},
   "outputs": [],
   "source": [
    "ls data"
   ]
  },
  {
   "cell_type": "code",
   "execution_count": null,
   "metadata": {
    "scrolled": true
   },
   "outputs": [],
   "source": [
    "df2.info()"
   ]
  },
  {
   "cell_type": "code",
   "execution_count": null,
   "metadata": {},
   "outputs": [],
   "source": [
    "df2.head()"
   ]
  },
  {
   "cell_type": "code",
   "execution_count": null,
   "metadata": {},
   "outputs": [],
   "source": []
  },
  {
   "cell_type": "code",
   "execution_count": null,
   "metadata": {},
   "outputs": [],
   "source": []
  },
  {
   "cell_type": "code",
   "execution_count": null,
   "metadata": {},
   "outputs": [],
   "source": []
  },
  {
   "cell_type": "code",
   "execution_count": null,
   "metadata": {},
   "outputs": [],
   "source": []
  },
  {
   "cell_type": "code",
   "execution_count": null,
   "metadata": {},
   "outputs": [],
   "source": []
  },
  {
   "cell_type": "code",
   "execution_count": null,
   "metadata": {},
   "outputs": [],
   "source": []
  },
  {
   "cell_type": "code",
   "execution_count": null,
   "metadata": {},
   "outputs": [],
   "source": [
    "df_benchmade = pd.read_csv('data/full_dataset_benchmade.csv')\n",
    "df_buck = pd.read_csv('data/full_dataset_buck.csv')\n",
    "df_cam = pd.read_csv('data/full_dataset_cam.csv')\n",
    "df_case = pd.read_csv('data/full_dataset_case.csv')\n",
    "df_CRKT = pd.read_csv('data/full_dataset_CRKT.csv')\n",
    "df_gerber = pd.read_csv('data/full_dataset_gerber.csv')\n",
    "df_kershaw = pd.read_csv('data/full_dataset_kershaw.csv')\n",
    "df_schrade = pd.read_csv('data/full_dataset_schrade.csv')\n",
    "df_SOG = pd.read_csv('data/full_dataset_SOG.csv')\n",
    "df_spy = pd.read_csv('data/full_dataset_spy.csv')\n",
    "df_sw = pd.read_csv('data/full_dataset_sw.csv')"
   ]
  },
  {
   "cell_type": "code",
   "execution_count": null,
   "metadata": {},
   "outputs": [],
   "source": [
    "print('benchmade')\n",
    "display(df_benchmade.head())\n",
    "print('---------------------------------------------------------------------')\n",
    "print('buck')\n",
    "display(df_buck.head())\n",
    "print('----------------------------------------------------------------------')\n",
    "print('cam')\n",
    "display(df_cam.head())\n",
    "print('-------------------------------------------------------------------')\n",
    "print('case')\n",
    "display(df_case.head())\n",
    "print('-------------------------------------------------------------------')\n",
    "print('CRKT')\n",
    "print('-------------------------------------------------------------------')\n",
    "display(df_CRKT.head())\n",
    "print('gerber')\n",
    "display(df_gerber.head())\n",
    "print('-------------------------------------------------------------------')\n",
    "print('kershaw')\n",
    "display(df_kershaw.head())\n",
    "print('-------------------------------------------------------------------')\n",
    "print('schrade')\n",
    "display(df_schrade.head())\n",
    "print('-------------------------------------------------------------------')\n",
    "print('SOG')\n",
    "display(df_SOG.head())\n",
    "print('-------------------------------------------------------------------')\n",
    "print('spy')\n",
    "display(df_spy.head())\n",
    "print('-------------------------------------------------------------------')\n",
    "print('df_sw')\n",
    "df_sw.head()"
   ]
  },
  {
   "cell_type": "code",
   "execution_count": null,
   "metadata": {},
   "outputs": [],
   "source": [
    "df_benchmade.head()"
   ]
  },
  {
   "cell_type": "code",
   "execution_count": null,
   "metadata": {},
   "outputs": [],
   "source": [
    "df_benchmade.viewItemURL.sample(10).values"
   ]
  },
  {
   "cell_type": "code",
   "execution_count": null,
   "metadata": {},
   "outputs": [],
   "source": []
  },
  {
   "cell_type": "code",
   "execution_count": null,
   "metadata": {},
   "outputs": [],
   "source": []
  },
  {
   "cell_type": "code",
   "execution_count": null,
   "metadata": {},
   "outputs": [],
   "source": []
  },
  {
   "cell_type": "code",
   "execution_count": null,
   "metadata": {},
   "outputs": [],
   "source": []
  },
  {
   "cell_type": "code",
   "execution_count": null,
   "metadata": {},
   "outputs": [],
   "source": []
  },
  {
   "cell_type": "code",
   "execution_count": null,
   "metadata": {},
   "outputs": [],
   "source": []
  },
  {
   "cell_type": "code",
   "execution_count": null,
   "metadata": {},
   "outputs": [],
   "source": [
    "#last column \"bias term essentially\"\n",
    "#these are formulas for my binary classification point\n",
    "#for common low end knives we want rare knives and therefore the bias term is higher\n",
    "#and we would avoid common knives that arent worth selling\n",
    "#the model would return less knives for the lesser brands\n",
    "#decreasing the bias on the more sought after brands will help to ensure\n",
    "#that the model returns these brands more often \n",
    "\n",
    "\n",
    "#THE LAST 'BIAS' TERM IS ALSO A ROI TERM AND HELPS AVOID EXCESS INVENTORY ETC\n",
    "\n",
    "#MUST EXPLAIN ALL OF THIS \n",
    "\n",
    "df_spy['spyderco_bias'] = 30 + 4.95 + 30\n",
    "df_benchmade['benchmade_bias'] = 45 + 4.95 + 35\n",
    "df_buck['buck_bias'] = 10 + 4.95 + 20 \n",
    "df_cam['camillus_bias'] = 8 + 4.95 + 20\n",
    "df_CRKT['crkt_bias'] = 12 + 4.95 + 20\n",
    "df_gerber['gerber_bias'] = 8 + 4.95 + 30\n",
    "df_schrade['schrade_bias'] = 8 + 4.95 + 20 \n",
    "df_SOG['sog_bias'] = 8 + 4.95 + 20 \n",
    "df_sw['smith_wess_bias'] = 8 + 4.95 + 20\n",
    "df_kershaw['kershaw_bias'] = 10 + 4.95 + 20"
   ]
  },
  {
   "cell_type": "code",
   "execution_count": null,
   "metadata": {},
   "outputs": [],
   "source": [
    "df_benchmade.to_csv('data/full_dataset_benchmade.csv', index=False)\n",
    "df_buck.to_csv('data/full_dataset_buck.csv', index=False)\n",
    "df_cam.to_csv('data/full_dataset_cam.csv', index=False)\n",
    "df_case.to_csv('data/full_dataset_case.csv', index=False)\n",
    "df_CRKT.to_csv('data/full_dataset_CRKT.csv', index=False)\n",
    "df_gerber.to_csv('data/full_dataset_gerber.csv', index=False)\n",
    "df_kershaw.to_csv('data/full_dataset_kershaw.csv', index=False)\n",
    "df_schrade.to_csv('data/full_dataset_schrade.csv', index=False)\n",
    "df_SOG.to_csv('data/full_dataset_SOG.csv', index=False)\n",
    "df_spy.to_csv('data/full_dataset_spy.csv', index=False)\n",
    "df_sw.to_csv('data/full_dataset_sw.csv', index=False)"
   ]
  },
  {
   "cell_type": "code",
   "execution_count": null,
   "metadata": {},
   "outputs": [],
   "source": [
    "import glob\n",
    "import os\n",
    "\n",
    "\n",
    "path = r'C:\\Users\\12108\\Desktop\\ebay_knife_data\\dsc-5-capstone-project\\data'                     # use your path\n",
    "all_files = glob.glob(os.path.join(path, \"*.csv\"))     # advisable to use os.path.join as this makes concatenation OS independent\n",
    "\n",
    "df_from_each_file = (pd.read_csv(f) for f in all_files)\n",
    "concatenated_df   = pd.concat(df_from_each_file, ignore_index=True)"
   ]
  },
  {
   "cell_type": "code",
   "execution_count": null,
   "metadata": {},
   "outputs": [],
   "source": [
    "concatenated_df.head()"
   ]
  },
  {
   "cell_type": "code",
   "execution_count": null,
   "metadata": {},
   "outputs": [],
   "source": [
    "concatenated_df.info()"
   ]
  },
  {
   "cell_type": "code",
   "execution_count": null,
   "metadata": {},
   "outputs": [],
   "source": [
    "to_drop = ['country', 'shippingInfo', 'sellingStatus', 'listingInfo',\n",
    "           'benchmade_cost','buck_cost','camillus_cost','crkt_cost', 'gerber_cost',\n",
    "           'schrade_cost', 'sog_cost','spyderco_cost', 'smith_wess_cost',\n",
    "           'returnsAccepted', 'location']"
   ]
  },
  {
   "cell_type": "code",
   "execution_count": null,
   "metadata": {},
   "outputs": [],
   "source": [
    "concatenated_df.drop(columns=to_drop, inplace=True)"
   ]
  },
  {
   "cell_type": "code",
   "execution_count": null,
   "metadata": {},
   "outputs": [],
   "source": [
    "df = concatenated_df.fillna(0).copy()"
   ]
  },
  {
   "cell_type": "code",
   "execution_count": null,
   "metadata": {},
   "outputs": [],
   "source": [
    "mkdir preparedData"
   ]
  },
  {
   "cell_type": "code",
   "execution_count": null,
   "metadata": {},
   "outputs": [],
   "source": [
    "df.to_csv('preparedData/bias_termedData.csv')"
   ]
  },
  {
   "cell_type": "code",
   "execution_count": null,
   "metadata": {},
   "outputs": [],
   "source": []
  },
  {
   "cell_type": "code",
   "execution_count": null,
   "metadata": {},
   "outputs": [],
   "source": []
  },
  {
   "cell_type": "code",
   "execution_count": null,
   "metadata": {},
   "outputs": [],
   "source": []
  },
  {
   "cell_type": "code",
   "execution_count": null,
   "metadata": {},
   "outputs": [],
   "source": []
  },
  {
   "cell_type": "code",
   "execution_count": null,
   "metadata": {
    "scrolled": true
   },
   "outputs": [],
   "source": [
    "df1 = pd.read_csv(\"full_dataset.csv\")\n",
    "df2 = pd.read_csv(\"full_dataset2.csv\")\n",
    "\n",
    "\n",
    "print('dataset_1')\n",
    "display(df1.head())\n",
    "print('---------------------------------------------------------------------')\n",
    "display(df1.info())\n",
    "print('dataset2')\n",
    "display(df2.head())\n",
    "df2.info()"
   ]
  },
  {
   "cell_type": "code",
   "execution_count": null,
   "metadata": {},
   "outputs": [],
   "source": [
    "df2.title.sample(20)"
   ]
  },
  {
   "cell_type": "code",
   "execution_count": null,
   "metadata": {},
   "outputs": [],
   "source": [
    "test = \"\"\n",
    "for val in df2.title.sample(20):\n",
    "    val + val\n",
    "    test += val"
   ]
  },
  {
   "cell_type": "code",
   "execution_count": null,
   "metadata": {},
   "outputs": [],
   "source": [
    "test"
   ]
  },
  {
   "cell_type": "code",
   "execution_count": null,
   "metadata": {},
   "outputs": [],
   "source": [
    "df2.title.sample(20).values"
   ]
  },
  {
   "cell_type": "code",
   "execution_count": null,
   "metadata": {},
   "outputs": [],
   "source": [
    "import re"
   ]
  },
  {
   "cell_type": "code",
   "execution_count": null,
   "metadata": {},
   "outputs": [],
   "source": [
    "pattern = \"(^(?:\\S+\\s+\\n?){1,3})\""
   ]
  },
  {
   "cell_type": "code",
   "execution_count": null,
   "metadata": {},
   "outputs": [],
   "source": [
    "re.findall(pattern, test)[0]"
   ]
  },
  {
   "cell_type": "code",
   "execution_count": null,
   "metadata": {},
   "outputs": [],
   "source": [
    "df2['messy_brand'] = df2.title.apply(lambda x: re.findall(pattern, x)[0])"
   ]
  },
  {
   "cell_type": "code",
   "execution_count": null,
   "metadata": {},
   "outputs": [],
   "source": [
    "df2['messy_brand'].sample(20)"
   ]
  },
  {
   "cell_type": "code",
   "execution_count": null,
   "metadata": {},
   "outputs": [],
   "source": [
    "pattern = \"(#\\w+)\""
   ]
  },
  {
   "cell_type": "code",
   "execution_count": null,
   "metadata": {},
   "outputs": [],
   "source": [
    "re.findall(pattern, test)"
   ]
  },
  {
   "cell_type": "code",
   "execution_count": null,
   "metadata": {},
   "outputs": [],
   "source": [
    "df2['cleaner_brand'] = df2['messy_brand'].str.replace(\"(#\\w+)\", '')"
   ]
  },
  {
   "cell_type": "code",
   "execution_count": null,
   "metadata": {},
   "outputs": [],
   "source": [
    "df2['cleaner_brand']"
   ]
  },
  {
   "cell_type": "code",
   "execution_count": null,
   "metadata": {},
   "outputs": [],
   "source": [
    "ls data"
   ]
  },
  {
   "cell_type": "code",
   "execution_count": null,
   "metadata": {
    "scrolled": true
   },
   "outputs": [],
   "source": [
    "df2.info()"
   ]
  },
  {
   "cell_type": "code",
   "execution_count": null,
   "metadata": {},
   "outputs": [],
   "source": [
    "df2.head()"
   ]
  },
  {
   "cell_type": "code",
   "execution_count": null,
   "metadata": {},
   "outputs": [],
   "source": [
    "df1 = pd.read_csv('full_dataset.csv')"
   ]
  },
  {
   "cell_type": "code",
   "execution_count": null,
   "metadata": {},
   "outputs": [],
   "source": [
    "df1.columns"
   ]
  },
  {
   "cell_type": "code",
   "execution_count": null,
   "metadata": {},
   "outputs": [],
   "source": [
    "df1.price_in_US"
   ]
  },
  {
   "cell_type": "code",
   "execution_count": null,
   "metadata": {},
   "outputs": [],
   "source": [
    "75.5 - 30 - 4.95 - (75.5*.135)"
   ]
  },
  {
   "cell_type": "code",
   "execution_count": null,
   "metadata": {},
   "outputs": [],
   "source": [
    "df"
   ]
  },
  {
   "cell_type": "code",
   "execution_count": null,
   "metadata": {},
   "outputs": [],
   "source": [
    "df_spy.price_in_US.describe()"
   ]
  },
  {
   "cell_type": "code",
   "execution_count": null,
   "metadata": {},
   "outputs": [],
   "source": [
    "ls images"
   ]
  },
  {
   "cell_type": "markdown",
   "metadata": {},
   "source": [
    "![benchmade](images/benchmadePriceBucket.jpg)"
   ]
  },
  {
   "cell_type": "code",
   "execution_count": null,
   "metadata": {},
   "outputs": [],
   "source": [
    "ls images"
   ]
  }
 ],
 "metadata": {
  "kernelspec": {
   "display_name": "Python (learn-env)",
   "language": "python",
   "name": "learn-env"
  },
  "language_info": {
   "codemirror_mode": {
    "name": "ipython",
    "version": 3
   },
   "file_extension": ".py",
   "mimetype": "text/x-python",
   "name": "python",
   "nbconvert_exporter": "python",
   "pygments_lexer": "ipython3",
   "version": "3.8.5"
  }
 },
 "nbformat": 4,
 "nbformat_minor": 4
}
