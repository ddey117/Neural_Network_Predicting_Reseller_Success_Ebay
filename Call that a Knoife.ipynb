{
 "cells": [
  {
   "cell_type": "code",
   "execution_count": null,
   "metadata": {},
   "outputs": [],
   "source": [
    "import pandas as pd \n",
    "import numpy as np\n",
    "import re\n",
    "import preprocess_ddey117 as pp\n",
    "import matplotlib.pyplot as plt\n",
    "%matplotlib inline"
   ]
  },
  {
   "cell_type": "code",
   "execution_count": null,
   "metadata": {},
   "outputs": [],
   "source": [
    "ls"
   ]
  },
  {
   "cell_type": "markdown",
   "metadata": {},
   "source": [
    "![benchmade](images/benchmadePriceBucket2.jpg)\n",
    "\n",
    "\n",
    "![buck](images/buckPriceBucket2.jpg)\n",
    "\n",
    "![case](images/casePriceBucket2.jpg)\n",
    "\n",
    "\n",
    "![crkt](images/crktPriceBucket2.jpg)\n",
    "\n",
    "\n",
    "\n",
    "![kershaw](images/kershawPriceBucket2.jpg)\n",
    "\n",
    "\n",
    "\n",
    "\n",
    "![LeatherMan](images/LeatherMen2.jpg)\n",
    "\n",
    "\n",
    "\n",
    "\n",
    "\n",
    "\n",
    "\n",
    "\n",
    "![Sog](images/sogPriceBucket2.jpg)\n",
    "\n",
    "\n",
    "\n",
    "\n",
    "![spyderco](images/sypdercoPriceBucket2.jpg)\n",
    "\n",
    "\n",
    "\n",
    "\n",
    "![victorinix](images/victorinixPriceBucket2.jpg)\n",
    "\n",
    "\n",
    "\n",
    "\n"
   ]
  },
  {
   "cell_type": "code",
   "execution_count": null,
   "metadata": {},
   "outputs": [],
   "source": [
    "df = pd.read_csv(\"surplusStore/workingDataFrame2.csv\")"
   ]
  },
  {
   "cell_type": "code",
   "execution_count": null,
   "metadata": {},
   "outputs": [],
   "source": [
    "df.columns"
   ]
  },
  {
   "cell_type": "code",
   "execution_count": null,
   "metadata": {},
   "outputs": [],
   "source": [
    "costs = {'benchmade': 45,\n",
    "         'buck': 20,\n",
    "         'case': 20,\n",
    "         'crkt': 15,\n",
    "         'kershaw': 15,\n",
    "         'leatherman': 30,\n",
    "         'sog': 15,\n",
    "         'spyderco': 30,\n",
    "         'victorinox': 20,\n",
    "        }"
   ]
  },
  {
   "cell_type": "code",
   "execution_count": null,
   "metadata": {},
   "outputs": [],
   "source": [
    "df['is_profitable'] = (df['price_in_US'] - df[list(costs.keys())].sum(axis=1))>0"
   ]
  },
  {
   "cell_type": "code",
   "execution_count": null,
   "metadata": {},
   "outputs": [],
   "source": [
    "df.info()"
   ]
  },
  {
   "cell_type": "code",
   "execution_count": null,
   "metadata": {},
   "outputs": [],
   "source": []
  },
  {
   "cell_type": "code",
   "execution_count": null,
   "metadata": {},
   "outputs": [],
   "source": []
  },
  {
   "cell_type": "code",
   "execution_count": null,
   "metadata": {},
   "outputs": [],
   "source": []
  },
  {
   "cell_type": "code",
   "execution_count": null,
   "metadata": {},
   "outputs": [],
   "source": []
  },
  {
   "cell_type": "code",
   "execution_count": null,
   "metadata": {},
   "outputs": [],
   "source": []
  },
  {
   "cell_type": "code",
   "execution_count": null,
   "metadata": {},
   "outputs": [],
   "source": []
  },
  {
   "cell_type": "code",
   "execution_count": null,
   "metadata": {},
   "outputs": [],
   "source": []
  },
  {
   "cell_type": "code",
   "execution_count": null,
   "metadata": {},
   "outputs": [],
   "source": []
  },
  {
   "cell_type": "code",
   "execution_count": null,
   "metadata": {},
   "outputs": [],
   "source": [
    "# (0.865*df['price_in_US'] - 4.95) > 0"
   ]
  },
  {
   "cell_type": "markdown",
   "metadata": {},
   "source": [
    "```\n",
    "df.apply(lambda row: row['num_legs'] * row['num_wings'], axis=1)\n",
    "```"
   ]
  },
  {
   "cell_type": "code",
   "execution_count": null,
   "metadata": {},
   "outputs": [],
   "source": [
    "# costs = {'bec': 45,\n",
    "#          'buc': 20,\n",
    "#          'cac': 20,\n",
    "#          'crc': 15,\n",
    "#          'kec': 15,\n",
    "#          'lec': 30,\n",
    "#          'soc': 15,\n",
    "#          'spc': 30,\n",
    "#          'vic': 20,\n",
    "#         }"
   ]
  },
  {
   "cell_type": "code",
   "execution_count": null,
   "metadata": {},
   "outputs": [],
   "source": [
    "# def adjust_target(x):\n",
    "#     (0.865*x) - 4.95 - df['bec'][0]\n",
    "# #     (0.865*x) - 4.95 - df['buc'][0]\n",
    "# #     (0.865*x) - 4.95 - df['cac'][0]\n",
    "# #     (0.865*x) - 4.95 - df['crc'][0]\n",
    "# #     (0.865*x) - 4.95 - df['kec'][0]\n",
    "# #     (0.865*x) - 4.95 - df['lec'][0]\n",
    "# #     (0.865*x) - 4.95 - df['soc'][0]\n",
    "# #     (0.865*x) - 4.95 - df['spc'][0]\n",
    "# #     (0.865*x) - 4.95 - df['vic'][0]\n",
    "#     return x"
   ]
  },
  {
   "cell_type": "code",
   "execution_count": null,
   "metadata": {},
   "outputs": [],
   "source": [
    "# df['target'] = df.loc[df['benchmade']==True]['price_in_US'].apply(lambda x: 0.865*x - 4.95  - df['bec'])\n",
    "# df['target'] = df.loc[df['buck']==True]['price_in_US'].apply(lambda x: 0.865*x - 4.95  - costs['buck'])\n",
    "# df['target'] = df.loc[df['case']==True]['price_in_US'].apply(lambda x: 0.865*x - 4.95  - costs['case'])\n",
    "# df['target'] = df.loc[df['crkt']==True]['price_in_US'].apply(lambda x: 0.865*x - 4.95  - costs['crkt'])\n",
    "# df['target'] = df.loc[df['kershaw']==True]['price_in_US'].apply(lambda x: 0.865*x - 4.95  - costs['kershaw'])\n",
    "# df['target'] = df.loc[df['leatherman']==True]['price_in_US'].apply(lambda x: 0.865*x - 4.95  - costs['leatherman'])\n",
    "# df['target'] = df.loc[df['sog']==True]['price_in_US'].apply(lambda x: 0.865*x - 4.95  - costs['sog'])\n",
    "# df['target'] = df.loc[df['spyderco']==True]['price_in_US'].apply(lambda x: 0.865*x - 4.95  - costs['spyderco'])\n",
    "# df['target'] = df.loc[df['victorinox']==True]['price_in_US'].apply(lambda x: 0.865*x - 4.95  - costs['victorinox'])"
   ]
  },
  {
   "cell_type": "code",
   "execution_count": null,
   "metadata": {},
   "outputs": [],
   "source": [
    "# adjusted_costs = []\n",
    "# flat_shipping = 4.95\n",
    "# def adjust_target(col, brand_cost):\n",
    "#     adj_vals = df.loc[df[col]==1, 'target'].apply(lambda x: (0.865*x) - brand_cost - flat_shipping)\n",
    "#     df['adjust_target'] = adj_vals\n",
    "#     return df"
   ]
  },
  {
   "cell_type": "code",
   "execution_count": null,
   "metadata": {},
   "outputs": [],
   "source": [
    "# df1 = pd.read_csv(\"full_dataset.csv\")\n",
    "# df2 = pd.read_csv(\"full_dataset2.csv\")"
   ]
  },
  {
   "cell_type": "code",
   "execution_count": null,
   "metadata": {},
   "outputs": [],
   "source": [
    "# df1.info()"
   ]
  },
  {
   "cell_type": "markdown",
   "metadata": {},
   "source": [
    "benchmade, buck, case, crkt, kershaw, leatherman, sog, spyderco, victorinox"
   ]
  },
  {
   "cell_type": "code",
   "execution_count": null,
   "metadata": {},
   "outputs": [],
   "source": [
    "# #lowercase titles\n",
    "# df1.title = df1.title.apply(str.lower)\n",
    "\n",
    "# #remove special characters\n",
    "# df1.title.apply(pp.remove_special_chars)"
   ]
  },
  {
   "cell_type": "code",
   "execution_count": null,
   "metadata": {},
   "outputs": [],
   "source": [
    "# #remove special characters\n",
    "# df1.title.apply(pp.remove_special_chars)"
   ]
  },
  {
   "cell_type": "code",
   "execution_count": null,
   "metadata": {},
   "outputs": [],
   "source": [
    "# test = ' '.join(df1['title'].sample(500))\n",
    "# test"
   ]
  },
  {
   "cell_type": "code",
   "execution_count": null,
   "metadata": {},
   "outputs": [],
   "source": [
    "# #REGEX BRAND PATTERNS AFTERN LOWERCASING TITLES AND REMOVING SPEVIAL CHARACTERS\n",
    "\n",
    "# benchmade_pattern = \"benchmade\"\n",
    "# buck_pattern = \"buck\"\n",
    "# case_pattern = \"case\"\n",
    "# crkt_pattern = \"crkt\"\n",
    "# kershaw_pattern = \"kershaw\"\n",
    "# leatherman_pattern = \"leatherman\"\n",
    "# sog_pattern = \"sog\"\n",
    "# spyderco_pattern = \"spyderco\"\n",
    "# victorinox_pattern = \"victorinox\""
   ]
  },
  {
   "cell_type": "code",
   "execution_count": null,
   "metadata": {},
   "outputs": [],
   "source": [
    "# re.findall(kershaw_pattern, test)"
   ]
  },
  {
   "cell_type": "code",
   "execution_count": null,
   "metadata": {},
   "outputs": [],
   "source": [
    "# test"
   ]
  },
  {
   "cell_type": "code",
   "execution_count": null,
   "metadata": {},
   "outputs": [],
   "source": [
    "# df1['benchmade'] = df1.title.apply(lambda x: re.findall(benchmade_pattern, x))\n",
    "# df1['buck'] = df1.title.apply(lambda x: re.findall(buck_pattern, x))\n",
    "# df1['case'] = df1.title.apply(lambda x: re.findall(case_pattern, x))\n",
    "# df1['crkt'] = df1.title.apply(lambda x: re.findall(crkt_pattern, x))\n",
    "# df1['kershaw'] = df1.title.apply(lambda x: re.findall(kershaw_pattern, x))\n",
    "# df1['leatherman'] = df1.title.apply(lambda x: re.findall(leatherman_pattern, x))\n",
    "# df1['sog'] = df1.title.apply(lambda x: re.findall(sog_pattern, x))\n",
    "# df1['spyderco'] = df1.title.apply(lambda x: re.findall(spyderco_pattern, x))\n",
    "# df1['victorinox'] = df1.title.apply(lambda x: re.findall(victorinox_pattern, x))"
   ]
  },
  {
   "cell_type": "code",
   "execution_count": null,
   "metadata": {},
   "outputs": [],
   "source": [
    "# patterns = ['benchmade', 'buck', 'case', 'crkt', 'kershaw', 'leatherman', 'sog', 'spyderco', 'victorinox']\n",
    "\n",
    "# def find_brands(pattern):\n",
    "#     df1[pattern] = df1.title.apply(lambda x: re.findall(pattern, x))\n",
    "#     df1[pattern] = df1[pattern].apply(lambda x: np.nan if len(x)==0 else 1)\n",
    "#     df1[pattern].fillna(0, inplace=True)\n",
    "#     return df1"
   ]
  },
  {
   "cell_type": "code",
   "execution_count": null,
   "metadata": {},
   "outputs": [],
   "source": [
    "# for pattern in patterns:\n",
    "#     find_brands(pattern)"
   ]
  },
  {
   "cell_type": "code",
   "execution_count": null,
   "metadata": {},
   "outputs": [],
   "source": [
    "# to_drop = ['country', 'shippingInfo', 'sellingStatus','listingInfo','returnsAccepted', 'location']\n",
    "# df1.drop(columns=to_drop, inplace=True)"
   ]
  },
  {
   "cell_type": "code",
   "execution_count": null,
   "metadata": {},
   "outputs": [],
   "source": [
    "# display(df1.condition.value_counts())\n",
    "# df1.drop(columns='condition', inplace=True)\n",
    "# df1.info()"
   ]
  },
  {
   "cell_type": "code",
   "execution_count": null,
   "metadata": {},
   "outputs": [],
   "source": [
    "# print('Benchmade Value Counts')\n",
    "# display(df1.benchmade.value_counts(normalize=False))\n",
    "# print('-------------------------------------------')\n",
    "\n",
    "# print('Buck Value Counts')\n",
    "# display(df1.buck.value_counts(normalize=False))\n",
    "# print('-------------------------------------------')\n",
    "\n",
    "# print('Case Value Counts')\n",
    "# display(df1.case.value_counts(normalize=False))\n",
    "# print('-------------------------------------------')\n",
    "\n",
    "# print('CRKT Value Counts (Normalized)')\n",
    "# display(df1.crkt.value_counts(normalize=True))\n",
    "# print('-------------------------------------------')\n",
    "\n",
    "# print('Kershaw Value Counts')\n",
    "# display(df1.kershaw.value_counts(normalize=False))\n",
    "# print('-------------------------------------------')\n",
    "\n",
    "# print('Leatherman Value Counts')\n",
    "# display(df1.leatherman.value_counts(normalize=False))\n",
    "# print('-------------------------------------------')\n",
    "\n",
    "# print('Sog Value Counts (Normalized)')\n",
    "# display(df1.sog.value_counts(normalize=True))\n",
    "# print('-------------------------------------------')\n",
    "\n",
    "# print('Spyderco Value Counts')\n",
    "# display(df1.spyderco.value_counts(normalize=False))\n",
    "# print('-------------------------------------------')\n",
    "\n",
    "# print('Victorinox Value Counts')\n",
    "# df1.victorinox.value_counts(normalize=False)\n"
   ]
  },
  {
   "cell_type": "code",
   "execution_count": null,
   "metadata": {},
   "outputs": [],
   "source": [
    "# df1.drop(columns=['sog', 'crkt'], inplace=True)"
   ]
  },
  {
   "cell_type": "code",
   "execution_count": null,
   "metadata": {},
   "outputs": [],
   "source": [
    "# df_surplus = df1.loc[(df1['benchmade'] != 0) |\n",
    "#                      (df1['buck'] != 0) | \n",
    "#                      (df1['case'] != 0) | \n",
    "#                      (df1['kershaw'] != 0) | \n",
    "#                      (df1['leatherman'] != 0) | \n",
    "#                      (df1['spyderco'] != 0) | \n",
    "#                      (df1['victorinox'] != 0)].copy()"
   ]
  },
  {
   "cell_type": "code",
   "execution_count": null,
   "metadata": {},
   "outputs": [],
   "source": [
    "# df_surplus.info()"
   ]
  },
  {
   "cell_type": "code",
   "execution_count": null,
   "metadata": {},
   "outputs": [],
   "source": [
    "# df_CRKT = pd.read_csv('data/full_dataset_CRKT.csv')\n",
    "# df_SOG = pd.read_csv('data/full_dataset_SOG.csv')"
   ]
  },
  {
   "cell_type": "code",
   "execution_count": null,
   "metadata": {},
   "outputs": [],
   "source": [
    "# to_drop_CRKT= ['country', 'shippingInfo', 'sellingStatus','listingInfo','returnsAccepted', 'location', 'crkt_cost', 'crkt_bias', 'condition']\n",
    "# to_drop_SOG= ['country', 'shippingInfo', 'sellingStatus','listingInfo','returnsAccepted', 'location', 'sog_cost', 'sog_bias', 'condition']"
   ]
  },
  {
   "cell_type": "code",
   "execution_count": null,
   "metadata": {},
   "outputs": [],
   "source": [
    "# df_CRKT.drop(columns=to_drop_CRKT, inplace=True)"
   ]
  },
  {
   "cell_type": "code",
   "execution_count": null,
   "metadata": {},
   "outputs": [],
   "source": [
    "# df_SOG.drop(columns=to_drop_SOG, inplace=True)"
   ]
  },
  {
   "cell_type": "code",
   "execution_count": null,
   "metadata": {},
   "outputs": [],
   "source": [
    "# df_SOG.info()"
   ]
  },
  {
   "cell_type": "code",
   "execution_count": null,
   "metadata": {},
   "outputs": [],
   "source": [
    "# df_SOG['sog'] = 1.0\n",
    "# df_SOG['sog'] = 1.0"
   ]
  },
  {
   "cell_type": "code",
   "execution_count": null,
   "metadata": {},
   "outputs": [],
   "source": [
    "# mkdir surplusStore"
   ]
  },
  {
   "cell_type": "code",
   "execution_count": null,
   "metadata": {},
   "outputs": [],
   "source": [
    "# df_surplus.to_csv('surplusStore/workingDataFrame.csv', index=False)\n",
    "# df_CRKT.to_csv('surplusStore/df_CRKT.csv', index=False)\n",
    "# df_SOG.to_csv('surplusStore/df_SOG.csv', index=False)"
   ]
  },
  {
   "cell_type": "code",
   "execution_count": null,
   "metadata": {},
   "outputs": [],
   "source": [
    "# df_surplus.head()"
   ]
  },
  {
   "cell_type": "code",
   "execution_count": null,
   "metadata": {},
   "outputs": [],
   "source": []
  },
  {
   "cell_type": "code",
   "execution_count": null,
   "metadata": {},
   "outputs": [],
   "source": []
  },
  {
   "cell_type": "code",
   "execution_count": null,
   "metadata": {},
   "outputs": [],
   "source": []
  },
  {
   "cell_type": "code",
   "execution_count": null,
   "metadata": {},
   "outputs": [],
   "source": []
  },
  {
   "cell_type": "code",
   "execution_count": null,
   "metadata": {},
   "outputs": [],
   "source": []
  },
  {
   "cell_type": "code",
   "execution_count": null,
   "metadata": {},
   "outputs": [],
   "source": []
  },
  {
   "cell_type": "code",
   "execution_count": null,
   "metadata": {},
   "outputs": [],
   "source": []
  },
  {
   "cell_type": "code",
   "execution_count": null,
   "metadata": {},
   "outputs": [],
   "source": [
    "# df1['benchmade'] = df1['benchmade'].apply(lambda x: np.nan if len(x)==0 else 1)\n",
    "# df1['benchmade'].fillna(0, inplace=True)\n",
    "\n",
    "# df1['buck'] = df1['buck'].apply(lambda x: np.nan if len(x)==0 else 1)\n",
    "# df1['buck'].fillna(0, inplace=True)\n",
    "\n",
    "# df1['case'] = df1['case'].apply(lambda x: np.nan if len(x)==0 else 1)\n",
    "# df1['case'].fillna(0, inplace=True)\n",
    "\n",
    "# df1['crkt'] = df1['crkt'].apply(lambda x: np.nan if len(x)==0 else 1)\n",
    "# df1['crkt'].fillna(0, inplace=True)\n",
    "\n",
    "# df1['kershaw'] = df1['kershaw'].apply(lambda x: np.nan if len(x)==0 else 1)\n",
    "# df1['kershaw'].fillna(0, inplace=True)\n",
    "\n",
    "# df1['leatherman'] = df1['leatherman'].apply(lambda x: np.nan if len(x)==0 else 1)\n",
    "# df1['leatherman'].fillna(0, inplace=True)\n",
    "\n",
    "# df1['sog'] = df1['sog'].apply(lambda x: np.nan if len(x)==0 else 1)\n",
    "# df1['sog'].fillna(0, inplace=True)\n",
    "\n",
    "# df1['spyderco'] = df1['spyderco'].apply(lambda x: np.nan if len(x)==0 else 1)\n",
    "# df1['spyderco'].fillna(0, inplace=True)\n",
    "\n",
    "# df1['victorinox'] = df1['victorinox'].apply(lambda x: np.nan if len(x)==0 else 1)\n",
    "# df1['victorinox'].fillna(0, inplace=True)"
   ]
  },
  {
   "cell_type": "code",
   "execution_count": null,
   "metadata": {},
   "outputs": [],
   "source": [
    "# df_benchmade = pd.read_csv('data/full_dataset_benchmade.csv')\n",
    "# df_buck = pd.read_csv('data/full_dataset_buck.csv')\n",
    "# df_cam = pd.read_csv('data/full_dataset_cam.csv')\n",
    "# df_case = pd.read_csv('data/full_dataset_case.csv')\n",
    "# df_CRKT = pd.read_csv('data/full_dataset_CRKT.csv')\n",
    "# df_gerber = pd.read_csv('data/full_dataset_gerber.csv')\n",
    "# df_kershaw = pd.read_csv('data/full_dataset_kershaw.csv')\n",
    "# df_schrade = pd.read_csv('data/full_dataset_schrade.csv')\n",
    "# df_SOG = pd.read_csv('data/full_dataset_SOG.csv')\n",
    "# df_spy = pd.read_csv('data/full_dataset_spy.csv')\n",
    "# df_sw = pd.read_csv('data/full_dataset_sw.csv')"
   ]
  },
  {
   "cell_type": "code",
   "execution_count": null,
   "metadata": {},
   "outputs": [],
   "source": [
    "# print('benchmade')\n",
    "# display(df_benchmade.head())\n",
    "# print('---------------------------------------------------------------------')\n",
    "# print('buck')\n",
    "# display(df_buck.head())\n",
    "# print('----------------------------------------------------------------------')\n",
    "# print('cam')\n",
    "# display(df_cam.head())\n",
    "# print('-------------------------------------------------------------------')\n",
    "# print('case')\n",
    "# display(df_case.head())\n",
    "# print('-------------------------------------------------------------------')\n",
    "# print('CRKT')\n",
    "# print('-------------------------------------------------------------------')\n",
    "# display(df_CRKT.head())\n",
    "# print('gerber')\n",
    "# display(df_gerber.head())\n",
    "# print('-------------------------------------------------------------------')\n",
    "# print('kershaw')\n",
    "# display(df_kershaw.head())\n",
    "# print('-------------------------------------------------------------------')\n",
    "# print('schrade')\n",
    "# display(df_schrade.head())\n",
    "# print('-------------------------------------------------------------------')\n",
    "# print('SOG')\n",
    "# display(df_SOG.head())\n",
    "# print('-------------------------------------------------------------------')\n",
    "# print('spy')\n",
    "# display(df_spy.head())\n",
    "# print('-------------------------------------------------------------------')\n",
    "# print('df_sw')\n",
    "# df_sw.head()"
   ]
  },
  {
   "cell_type": "code",
   "execution_count": null,
   "metadata": {},
   "outputs": [],
   "source": [
    "#last column \"bias term essentially\"\n",
    "#these are formulas for my binary classification point\n",
    "#for common low end knives we want rare knives and therefore the bias term is higher\n",
    "#and we would avoid common knives that arent worth selling\n",
    "#the model would return less knives for the lesser brands\n",
    "#decreasing the bias on the more sought after brands will help to ensure\n",
    "#that the model returns these brands more often \n",
    "\n",
    "\n",
    "#THE LAST 'BIAS' TERM IS ALSO A ROI TERM AND HELPS AVOID EXCESS INVENTORY ETC\n",
    "\n",
    "#MUST EXPLAIN ALL OF THIS \n",
    "\n",
    "# df_spy['spyderco_bias'] = 30 + 4.95 + 30\n",
    "# df_benchmade['benchmade_bias'] = 45 + 4.95 + 35\n",
    "# df_buck['buck_bias'] = 10 + 4.95 + 20 \n",
    "# df_cam['camillus_bias'] = 8 + 4.95 + 20\n",
    "# df_CRKT['crkt_bias'] = 12 + 4.95 + 20\n",
    "# df_gerber['gerber_bias'] = 8 + 4.95 + 30\n",
    "# df_schrade['schrade_bias'] = 8 + 4.95 + 20 \n",
    "# df_SOG['sog_bias'] = 8 + 4.95 + 20 \n",
    "# df_sw['smith_wess_bias'] = 8 + 4.95 + 20\n",
    "# df_kershaw['kershaw_bias'] = 10 + 4.95 + 20"
   ]
  },
  {
   "cell_type": "code",
   "execution_count": null,
   "metadata": {},
   "outputs": [],
   "source": [
    "# df_benchmade.to_csv('data/full_dataset_benchmade.csv', index=False)\n",
    "# df_buck.to_csv('data/full_dataset_buck.csv', index=False)\n",
    "# df_cam.to_csv('data/full_dataset_cam.csv', index=False)\n",
    "# df_case.to_csv('data/full_dataset_case.csv', index=False)\n",
    "# df_CRKT.to_csv('data/full_dataset_CRKT.csv', index=False)\n",
    "# df_gerber.to_csv('data/full_dataset_gerber.csv', index=False)\n",
    "# df_kershaw.to_csv('data/full_dataset_kershaw.csv', index=False)\n",
    "# df_schrade.to_csv('data/full_dataset_schrade.csv', index=False)\n",
    "# df_SOG.to_csv('data/full_dataset_SOG.csv', index=False)\n",
    "# df_spy.to_csv('data/full_dataset_spy.csv', index=False)\n",
    "# df_sw.to_csv('data/full_dataset_sw.csv', index=False)"
   ]
  },
  {
   "cell_type": "code",
   "execution_count": null,
   "metadata": {},
   "outputs": [],
   "source": [
    "# import glob\n",
    "# import os\n",
    "\n",
    "\n",
    "# path = r'C:\\Users\\12108\\Desktop\\ebay_knife_data\\dsc-5-capstone-project\\surplusStore'                     # use your path\n",
    "# all_files = glob.glob(os.path.join(path, \"*.csv\"))     # advisable to use os.path.join as this makes concatenation OS independent\n",
    "\n",
    "# df_from_each_file = (pd.read_csv(f) for f in all_files)\n",
    "# concatenated_df   = pd.concat(df_from_each_file, ignore_index=True)"
   ]
  },
  {
   "cell_type": "code",
   "execution_count": null,
   "metadata": {
    "scrolled": true
   },
   "outputs": [],
   "source": [
    "# concatenated_df.head()"
   ]
  },
  {
   "cell_type": "code",
   "execution_count": null,
   "metadata": {},
   "outputs": [],
   "source": [
    "# concatenated_df.fillna(0, inplace=True)"
   ]
  },
  {
   "cell_type": "code",
   "execution_count": null,
   "metadata": {},
   "outputs": [],
   "source": [
    "# concatenated_df.info()"
   ]
  },
  {
   "cell_type": "code",
   "execution_count": null,
   "metadata": {},
   "outputs": [],
   "source": [
    "# concatenated_df.to_csv('surplusStore/workingDataFrame2.csv')"
   ]
  }
 ],
 "metadata": {
  "kernelspec": {
   "display_name": "Python (learn-env)",
   "language": "python",
   "name": "learn-env"
  },
  "language_info": {
   "codemirror_mode": {
    "name": "ipython",
    "version": 3
   },
   "file_extension": ".py",
   "mimetype": "text/x-python",
   "name": "python",
   "nbconvert_exporter": "python",
   "pygments_lexer": "ipython3",
   "version": "3.8.5"
  }
 },
 "nbformat": 4,
 "nbformat_minor": 4
}
