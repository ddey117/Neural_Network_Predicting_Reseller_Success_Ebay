{
 "cells": [
  {
   "cell_type": "markdown",
   "metadata": {
    "id": "Ly0Flp1GSKsM"
   },
   "source": [
    "\n",
    "# Constructing A Neural Network To Classify Knives from a Texas Government Surplus Store\n",
    "\n",
    "## Categorizing Nine Different Knives as Profitable or Not Profitable using a CNN for Knife Images and a RNN for Titles from Ebay Listings \n",
    "\n",
    "**Author:** Dylan Dey\n",
    "***\n",
    "\n",
    "# Overview\n",
    "[Texas State Surplus Store](https://www.tfc.texas.gov/divisions/supportserv/prog/statesurplus/)\n",
    "\n",
    "[What happens to all those items that get confiscated by the TSA? Some end up in a Texas store.](https://www.wfaa.com/article/news/local/what-happens-to-all-those-items-that-get-confiscated-by-the-tsa-some-end-up-in-a-texas-store/287-ba80dac3-d91a-4b28-952a-0aaf4f69ff95)\n",
    "\n",
    "[Texas Surplus Store PDF](https://www.tfc.texas.gov/divisions/supportserv/prog/statesurplus/State%20Surplus%20Brochure-one%20bar_rev%201-10-2022.pdf)\n",
    "\n",
    "![Texas State Surplus Store](https://encrypted-tbn0.gstatic.com/images?q=tbn:ANd9GcRYkwyu20VBuQ52PrXdVRaGRIIg9OPXJg86lA&usqp=CAU)\n",
    "\n",
    "![Texas Knives In Stores](https://arc-anglerfish-arc2-prod-bostonglobe.s3.amazonaws.com/public/MWJCCFBSR4I6FCSNKONTFJIRAI.jpg)\n",
    "\n",
    "[Everything that doesn't make it through Texas airports can be found at one Austin store](https://cbsaustin.com/news/local/everything-that-doesnt-make-it-through-texas-airports-can-be-found-at-one-austin-store)\n",
    "\n",
    "\n",
    "> The Texas Facilities Commission collects left behind possessions, salvage, and surplus from Texas state agencies such as DPS, TXDOT, TCEQ, and Texas Parks & Wildlife. Examples of commonly available items include vehicles, furniture, office equipment and supplies, small electronics, and heavy equipment. The goal of this project is to create a Neural Network Classification Model in order to categorize knives available at this store as either profitable or not on ebay. \n",
    "\n",
    "# Business Problem\n",
    "\n",
    "[Family Ebay Store Front](https://www.ebay.com/str/texasdave3?mkcid=16&mkevt=1&mkrid=711-127632-2357-0&ssspo=ZW3G27tGR_m&sssrc=3418065&ssuid=&widget_ver=artemis&media=COPY)\n",
    "\n",
    "![Father's Ebay Account Since 1999](texas_dave.jpg)\n",
    "\n",
    "[Texas Dave's Knives](https://www.ebay.com/str/texasdave3/Knives/_i.html?store_cat=3393246519)\n",
    "\n",
    "\n",
    "> While taking online courses to transition careers during a difficult time of my life, I was also helping my family during a turbulent time for everyone. I have been employed at their retail store in San Antonio for the past several months and have been contributing significantly to their online reselling business on eBay. I would help source newer, cheaper products from Austin to try and resell at the retail store in San Antonio or online to earn some money, support our family business and keep us all afloat. This is how I discovered the Texas Facillities Retail Store. \n",
    "\n",
    "\n",
    "> My family has been running a resale shop and selling on Ebay and other sites for years and lately the business has picked up.  Consumer behavior is shifting:  getting a deal on eBay, or Goodwill, or hitting up a vintage boutique shop to find a unique treasure is now brag worthy.  Plus, people like the idea of sustainability - sending items to landfills is becoming very socially unacceptable – why not repurpose a used item?  With the pandemic related disruption of “normal” business and supply chains and the economic uncertainty of these times there is definitely an upswing in interest in the resale market. \n",
    "\n",
    "> Online sales sites like Ebay offer a worldwide robust buyer base for just about every product regardless of condition. Ebay  allows the reseller to find both  bargain hunters for common items and  enthusiasts searching for rare  collectible items. \n",
    "\n",
    "> An Ebay business has some pain points, however.  Selection of an item to sell is the main pain point. The item should be readily available in decent condition for the seller to purchase at a low price but not so widely available that the market is saturated with that item.  Then there needs to be a demand for the item – it should be something collectible that with appeal to hobbyists that would pay premium prices for hard-to-get items. Alternatively, it would be something useful to a large number of people even in a used condition. The item should be small enough to be easily shipped. It should not be difficult to ship either—that is it should not have hazardous chemicals, batteries etc. that would add costs to the shipping. Additionally, Ebay has strict rules about authentication and certification in many item categories- so obvious “high value” items like jewelry or designer purses are so restricted that it is not  feasible  for the average Ebay seller  to offer them . \n",
    "\n",
    "> This project recommends an item that would answer these concerns – pocket knives, These can be rare and collectible and also practical and useful. There are knife collector forums and subReddits, showing there is an interest among collectors.  A look at eBay listings shows rare knives selling for thousands of \n",
    "dollars each.  Knives are also a handy every day tool –  and based on the number  showing up in the Texas Surplus shop they are easy to lose and so need replacing often. This means there is a market for more common ones as well.  The great thing about single blade, modern, factory manufactured pocketknives is that they all weigh roughly 0.5 lbs making them cheap to ship. For my modeling purposes, it is safe to assume a flat shipping rate of 4.95(US Dollars) including the cost of wholesale purchased padded envelopes. And there are no restrictions on mailing these items and they are not frsgile so no special packaging is needed. \n",
    "\n",
    "> The second pain point is buying at a cost low enough to make a profit. It is not enough to just buy low and sell at a higher price as expenses need to be considered.  Ebay collects insertion fees and final value fees on all sales.  The fees vary with seller level (rating)  and some portions  are a percent of final sale. I have been selling knives from the lower priced bins and the mean seller fee for my sales so far is about 13.5% of the sold price.  So that is a cost to consider right up front. \n",
    "\n",
    "> A third pain point is the cost of excess inventory. A seller can obtain quality items at a reasonable cost and then the inventory may sit with no sales, meaning the capital expended is sitting tied up in unwanted items. This inventory carry cost is a drain on profitability.  This project is meant to help avoid purchasing the wrong items for resale. \n",
    "\n",
    "\n",
    "> As already mentioned, I have been experimenting with low cost used knives for resale but have not risked a large capital investment in the higher end items. The goal of this project is to attempt to address the pain points to determine if a larger investment would pay off. Can I identify which knives are worth investing in so that I can turn a decent profit and hopefully avoid excess inventory? A data driven approach would help avoid costly mistakes from the \"system\" resellers currently employ, which seems to be mainly a gambler’s approach. By managing resources upfront through a model, I can effectively increase my return on investment with messy data such as pictures and titles. The magic of Neural Networks!\n",
    "\n",
    "\n",
    "\n",
    "\n",
    "\n",
    "\n",
    "\n",
    "\n",
    "\n",
    "\n",
    "\n",
    "\n",
    "\n",
    "\n",
    "\n",
    "\n",
    "\n",
    "\n",
    "\n",
    "\n",
    "\n",
    "> There are nine buckets of presorted brand knives that I was interested in, specifically. The other buckets are full of unbranded knives that usually are crowded with way too many people. These other bins, however, are behind glass, presorted, branded(and therefore have specific characteristics and logos for my model to identify), and priced higher. \n",
    "\n",
    "\n",
    "\n",
    "** knife bucket image ** \n",
    "\n",
    "\n",
    "\n",
    "\n",
    "[Ebay Developer Website](https://developer.ebay.com/)\n",
    "> Ebay has a seperate website for develoers in order to create an account and register an application keyset in order to make API call requests to their live website. By making a findItemsAdvanced call to the eBay Finding APIVersion 1.13.0, I was able to get a large dataset of[category_id=<48818>](https://www.ebay.com/sch/48818/i.html?_from=R40&_nkw=knife) knives.\n",
    "\n",
    "> When you log into Ebay as a buyer and search knife in the search bar, the response that loads outputs  Knives, Swords & Blades. Nested one category furtheris Collectible Folding Knives with an id of 182981. Nested one further is Modern Folding Knives(43333), and then finally, the category_id of most interest, 48818, Factory Manufactured Modern Collectible Folding Knives.\n",
    "\n",
    "#\n",
    "\n",
    "\n",
    "\n",
    "\n",
    "\n",
    "\n",
    "\n",
    "\n",
    "\n",
    "\n",
    "\n",
    "***\n",
    "Questions to consider:\n",
    "* What are the business's pain points related to this project?\n",
    "* How did you pick the data analysis question(s) that you did?\n",
    "* Why are these questions important from a business perspective?\n",
    "***\n",
    "\n",
    "\n",
    "\n",
    "\n",
    "\n",
    "\n",
    "\n",
    "\n",
    "\n",
    "\n",
    "\n",
    "\n",
    "\n",
    "\n",
    "\n",
    "\n",
    "\n",
    "\n",
    "\n",
    "\n",
    "\n",
    "## Data Understanding\n",
    "\n",
    "Describe the data being used for this project.\n",
    "***\n",
    "Questions to consider:\n",
    "* Where did the data come from, and how do they relate to the data analysis questions?\n",
    "* What do the data represent? Who is in the sample and what variables are included?\n",
    "* What is the target variable?\n",
    "* What are the properties of the variables you intend to use?\n",
    "***"
   ]
  },
  {
   "cell_type": "markdown",
   "metadata": {},
   "source": [
    "# Data Obtainment \n",
    "## 'Ebay FindingService',  '1.12.0', 'findItemsAdvanced', 'eBaySDK/2.2.0 Python/3.8.5 Windows/10'\n",
    "\n",
    "[Ebay suggested  SDKs on ebay developer website](https://developer.ebay.com/develop/ebay-sdks)\n",
    "\n",
    "[Python SDK to simplify making calls](https://github.com/timotheus/ebaysdk-python/wiki/Trading-API-Class)\n",
    "\n",
    "[eBay Finding APIVersion 1.13.0 call index](https://developer.ebay.com/devzone/finding/CallRef/index.html)\n",
    "\n",
    "[finditemsAdvanced Call Reference](https://developer.ebay.com/devzone/finding/CallRef/findItemsAdvanced.html)\n",
    "\n",
    "\n",
    "\n",
    "The Ebay developer website suggests using an SDK in order to make a call to their APIs. I decided to git clone [the Python SDK to simplify making calls](https://github.com/timotheus/ebaysdk-python/wiki/Trading-API-Class) and used the .yaml file from the github repository in order to store all of my necessary developer/security keys. Please feel free to read through the documentation in the github and the documentation in the API reference to see what all is available using this SDK and API.\n",
    "\n",
    "Unfortunately, the API limits you to 100 pages and 100 entries MAX. So even if I tried to loop to page 101 to grab just one more entry, ebay will throw an error to the connection. However, 10,000 items seems like a reasonable amount of data for this project. "
   ]
  },
  {
   "cell_type": "markdown",
   "metadata": {},
   "source": [
    "The test cell Below Sends a findItemsAdvancedRequest call to the ebay traditional (non-RESTful) finding api. If I were browsing on Ebay's website, I would be doing the following on the webpage:\n",
    "- Typing the keywords 'knife' in the search bar\n",
    "- filter for only used knives using the navigation box \n",
    "- filter for only fixed price buy type (no auctions) using the navigation box\n",
    "- filter for only a select few brands that I care about by placing check marks in appropriate boxes\n",
    "- set the max items on my page to 10 and scroll all the way down and gawk at all the pretty knives"
   ]
  },
  {
   "cell_type": "markdown",
   "metadata": {},
   "source": [
    "```\n",
    "#import sdk and establish connnection\n",
    "from ebaysdk.finding import Connection\n",
    "\n",
    "if __name__ == '__main__':\n",
    "    api = Connection(config_file='ebay.yaml', debug=True, siteid=\"EBAY-US\")\n",
    "#create the request\n",
    "    request = {\n",
    "        'keywords': 'knife',\n",
    "        'itemFilter': [\n",
    "            {'name': 'condition', 'value': 'Used'},\n",
    "            {'name': 'ListingType', 'value': 'FixedPrice'}\n",
    "        ],\n",
    "        'aspectFilter': [\n",
    "            {'aspectName': 'Brand', 'aspectValueName': 'Benchmade'},\n",
    "            {'aspectName': 'Brand', 'aspectValueName': 'Buck'},\n",
    "            {'aspectName': 'Brand', 'aspectValueName': 'Case'},\n",
    "            {'aspectName': 'Brand', 'aspectValueName': 'CRKT'},\n",
    "            {'aspectName': 'Brand', 'aspectValueName': 'Kershaw'},\n",
    "            {'aspectName': 'Brand', 'aspectValueName': 'Leatherman'},\n",
    "            {'aspectName': 'Brand', 'aspectValueName': 'Spyderco'},\n",
    "            {'aspectName': 'Brand', 'aspectValueName': 'Victorinox'},\n",
    "        ],\n",
    "        'paginationInput': {\n",
    "            'entriesPerPage': 10,\n",
    "            'pageNumber': 1\n",
    "        },\n",
    "        'sortOrder': 'PricePlusShippingLowest'\n",
    "    }\n",
    "\n",
    "    response = api.execute('findItemsAdvanced', request)\n",
    "```"
   ]
  },
  {
   "cell_type": "markdown",
   "metadata": {},
   "source": [
    "```\n",
    "#create function for organizing API call\n",
    "def prepare_data(data_list):\n",
    "    \"\"\"\n",
    "    This function takes in a list of dictionaries and prepares it\n",
    "    for analysis\n",
    "    \"\"\"\n",
    "    \n",
    "    # Make a new list to hold results\n",
    "    results = []\n",
    "    \n",
    "    for business_data in data_list:\n",
    "    \n",
    "        # Make a new dictionary to hold prepared data for this business\n",
    "        prepared_data = {}\n",
    "        \n",
    "        # Extract name, review_count, rating, and price key-value pairs\n",
    "        # from business_data and add to prepared_data\n",
    "        # If a key is not present in business_data, add it to prepared_data\n",
    "        # with an associated value of None\n",
    "        \n",
    "        keys = ['itemId', 'title', 'galleryURL', \n",
    "                'viewItemURL', 'postalCode', 'sellingStatus',  \n",
    "                'shippingInfo', 'listingInfo']\n",
    "        \n",
    "        for key in keys:\n",
    "            prepared_data[key] = business_data.get(key, None)\n",
    "    \n",
    "       \n",
    "        # Add to list if all values are present\n",
    "        if all(prepared_data.values()):\n",
    "            results.append(prepared_data)\n",
    "    \n",
    "    return results\n",
    "```"
   ]
  },
  {
   "cell_type": "markdown",
   "metadata": {},
   "source": [
    "## Ebay only allows 100 pages and 100 items max"
   ]
  },
  {
   "cell_type": "markdown",
   "metadata": {},
   "source": [
    "```\n",
    "# Create an empty list for the full prepared dataset\n",
    "full_dataset = []\n",
    "\n",
    "for page in range(1, 100):\n",
    "    # Add or update the \"offset\" key-value pair in url_params\n",
    "    request['paginationInput']['pageNumber'] = page\n",
    "    \n",
    "    # Make the query and get the response\n",
    "\n",
    "    api = Connection(config_file='ebay.yaml', debug=True, siteid=\"EBAY-US\")\n",
    "\n",
    "    request = {\n",
    "                'keywords': 'knife',\n",
    "                'itemFilter': [\n",
    "                                {'name': 'condition', 'value': 'Used'},\n",
    "                                {'name': 'ListingType', 'value': 'FixedPrice'}\n",
    "                              ],\n",
    "                'aspectFilter': [\n",
    "                                  {'aspectName': 'Brand', 'aspectValueName': 'Benchmade'},\n",
    "                                  {'aspectName': 'Brand', 'aspectValueName': 'Buck'},\n",
    "                                  {'aspectName': 'Brand', 'aspectValueName': 'Case'},\n",
    "                                  {'aspectName': 'Brand', 'aspectValueName': 'CRKT'},\n",
    "                                  {'aspectName': 'Brand', 'aspectValueName': 'Kershaw'},\n",
    "                                  {'aspectName': 'Brand', 'aspectValueName': 'Leatherman'},\n",
    "                                  {'aspectName': 'Brand', 'aspectValueName': 'Spyderco'},\n",
    "                                  {'aspectName': 'Brand', 'aspectValueName': 'Victorinox'},\n",
    "                                 ],\n",
    "                'paginationInput': {\n",
    "                                    'entriesPerPage': 100,\n",
    "                                    'pageNumber': page\n",
    "                    \n",
    "                                    },\n",
    "               \n",
    "                }\n",
    "\n",
    "    response = api.execute('findItemsAdvanced', request)\n",
    "\n",
    "    #save the response as a json dict\n",
    "    response_dict = response.dict()\n",
    "\n",
    "\n",
    "\n",
    "    #index dict to appropriate index\n",
    "    results_list_of_dicts = response_dict['searchResult']['item']\n",
    "\n",
    "    # Call the prepare_data function to get a list of processed data\n",
    "    prepared_knives = prepare_data(results_list_of_dicts)\n",
    "\n",
    "    # Extend full_dataset with this list (don't append, or you'll get\n",
    "    # a list of lists instead of a flat list)\n",
    "    full_dataset.extend(prepared_knives)\n",
    "\n",
    "# Check the length of the full dataset. It will be up to `total`,\n",
    "# potentially less if there were missing values\n",
    "display(len(full_dataset))\n",
    "\n",
    "\n",
    "df = pd.DataFrame(full_dataset)\n",
    "df.to_csv('data/full_dataset.csv', index=False)\n",
    "```"
   ]
  },
  {
   "cell_type": "markdown",
   "metadata": {},
   "source": [
    "After succesfully going through 10,000 items on ebay's website and extracting everything possible, there is still a little bit more extracting to do from the json dictionary before saving the dataframe again. We need to get the price of the knives out of the nested dictionary in the dataframe as well as the shipping cost. After that, I would like to create a new feature called\n",
    "**\"converted price,\" which is simply the price of the knife listed on the ebay's website plus shipping.**"
   ]
  },
  {
   "cell_type": "markdown",
   "metadata": {},
   "source": [
    "```\n",
    "#Create row for converted Price of Knives in US dollars\n",
    "price_list = []\n",
    "for row in full_dataset:\n",
    "    listed_price = np.float(row['sellingStatus']['convertedCurrentPrice']['value'])\n",
    "    price_list.append(listed_price)\n",
    "    \n",
    "df['price_in_US'] = price_list\n",
    "```"
   ]
  },
  {
   "cell_type": "markdown",
   "metadata": {},
   "source": [
    "```\n",
    "#atttempt to pull shipping cost from json dict\n",
    "shipping_cost_list = []\n",
    "for row in full_dataset:\n",
    "    shipping_cost = np.float(row['shippingInfo']['shippingServiceCost']['value'])\n",
    "    shipping_cost_list.append(shipping_cost)\n",
    "    \n",
    "df['shipping_price'] = shipping_cost_list\n",
    "```"
   ]
  },
  {
   "cell_type": "markdown",
   "metadata": {},
   "source": [
    "```\n",
    "#pull shipping cost from json dict with regex \n",
    "df['shipping_cost'] = df['shippingInfo'].apply(lambda x: re.findall(\"(\\d+\\S+\\d)\", json.dumps(x)))\n",
    "df['shipping_cost'] = df['shipping_cost'].apply(lambda x: ''.join(x))\n",
    "df.drop(df[df['shipping_cost'] == ''].index, inplace=True)\n",
    "df['shipping_cost'] = df['shipping_cost'].apply(lambda x: np.float(x))\n",
    "\n",
    "#create new feature 'converted price'\n",
    "df['converted_price'] = df['shipping_cost'] + df['price_in_US']\n",
    "df = df.drop_duplicates(subset=['title', 'galleryURL'], keep='first')\n",
    "display(df.head())\n",
    "display(df.info())\n",
    "\n",
    "df.to_csv('data/full_dataset.csv', index=False)\n",
    "```"
   ]
  },
  {
   "cell_type": "markdown",
   "metadata": {
    "id": "nwLbGNr0TbIj"
   },
   "source": [
    "## Data Preparation\n",
    "\n",
    "Describe and justify the process for preparing the data for analysis.\n",
    "\n",
    "***\n",
    "Questions to consider:\n",
    "* Were there variables you dropped or created?\n",
    "* How did you address missing values or outliers?\n",
    "* Why are these choices appropriate given the data and the business problem?\n",
    "***\n",
    "\n",
    "\n",
    "# here you run your code to clean the data\n",
    "\n",
    "```\n",
    "import code.data_cleaning as dc\n",
    "\n",
    "full_dataset = dc.full_clean()\n",
    "```\n",
    "\n",
    "## Data Modeling\n",
    "Describe and justify the process for analyzing or modeling the data.\n",
    "\n",
    "***\n",
    "Questions to consider:\n",
    "* How did you analyze or model the data?\n",
    "* How did you iterate on your initial approach to make it better?\n",
    "* Why are these choices appropriate given the data and the business problem?\n",
    "***\n",
    "# here you run your code to model the data\n",
    "\n",
    "\n",
    "## Evaluation\n",
    "Evaluate how well your work solves the stated business problem.\n",
    "\n",
    "***\n",
    "Questions to consider:\n",
    "* How do you interpret the results?\n",
    "* How well does your model fit your data? How much better is this than your baseline model?\n",
    "* How confident are you that your results would generalize beyond the data you have?\n",
    "* How confident are you that this model would benefit the business if put into use?\n",
    "***\n",
    "\n",
    "\n",
    "## Conclusions\n",
    "Provide your conclusions about the work you've done, including any limitations or next steps.\n",
    "\n",
    "***\n",
    "Questions to consider:\n",
    "* What would you recommend the business do as a result of this work?\n",
    "* What are some reasons why your analysis might not fully solve the business problem?\n",
    "* What else could you do in the future to improve this project?\n",
    "***\n",
    "\n"
   ]
  },
  {
   "cell_type": "code",
   "execution_count": 1,
   "metadata": {},
   "outputs": [],
   "source": [
    "# from ebaysdk.finding import Connection\n",
    "import pandas as pd \n",
    "import  json\n",
    "# import requests\n",
    "import numpy as np\n",
    "import re\n",
    "import preprocess_ddey117 as pp\n",
    "import matplotlib.pyplot as plt\n",
    "%matplotlib inline\n",
    "from PIL import Image\n",
    "\n",
    "\n",
    "import seaborn as sns "
   ]
  },
  {
   "cell_type": "code",
   "execution_count": 2,
   "metadata": {},
   "outputs": [
    {
     "name": "stdout",
     "output_type": "stream",
     "text": [
      "<class 'pandas.core.frame.DataFrame'>\n",
      "RangeIndex: 7745 entries, 0 to 7744\n",
      "Data columns (total 11 columns):\n",
      " #   Column           Non-Null Count  Dtype  \n",
      "---  ------           --------------  -----  \n",
      " 0   itemId           7745 non-null   int64  \n",
      " 1   title            7745 non-null   object \n",
      " 2   galleryURL       7745 non-null   object \n",
      " 3   viewItemURL      7745 non-null   object \n",
      " 4   postalCode       7745 non-null   object \n",
      " 5   sellingStatus    7745 non-null   object \n",
      " 6   shippingInfo     7745 non-null   object \n",
      " 7   listingInfo      7745 non-null   object \n",
      " 8   price_in_US      7745 non-null   float64\n",
      " 9   shipping_cost    7745 non-null   float64\n",
      " 10  converted_price  7745 non-null   float64\n",
      "dtypes: float64(3), int64(1), object(7)\n",
      "memory usage: 665.7+ KB\n"
     ]
    },
    {
     "data": {
      "text/plain": [
       "None"
      ]
     },
     "metadata": {},
     "output_type": "display_data"
    },
    {
     "data": {
      "text/html": [
       "<div>\n",
       "<style scoped>\n",
       "    .dataframe tbody tr th:only-of-type {\n",
       "        vertical-align: middle;\n",
       "    }\n",
       "\n",
       "    .dataframe tbody tr th {\n",
       "        vertical-align: top;\n",
       "    }\n",
       "\n",
       "    .dataframe thead th {\n",
       "        text-align: right;\n",
       "    }\n",
       "</style>\n",
       "<table border=\"1\" class=\"dataframe\">\n",
       "  <thead>\n",
       "    <tr style=\"text-align: right;\">\n",
       "      <th></th>\n",
       "      <th>itemId</th>\n",
       "      <th>title</th>\n",
       "      <th>galleryURL</th>\n",
       "      <th>viewItemURL</th>\n",
       "      <th>postalCode</th>\n",
       "      <th>sellingStatus</th>\n",
       "      <th>shippingInfo</th>\n",
       "      <th>listingInfo</th>\n",
       "      <th>price_in_US</th>\n",
       "      <th>shipping_cost</th>\n",
       "      <th>converted_price</th>\n",
       "    </tr>\n",
       "  </thead>\n",
       "  <tbody>\n",
       "    <tr>\n",
       "      <th>0</th>\n",
       "      <td>324946521772</td>\n",
       "      <td>Victorinox Classic SD Mini Swiss Army Pocket K...</td>\n",
       "      <td>https://i.ebayimg.com/thumbs/images/g/smEAAOSw...</td>\n",
       "      <td>https://www.ebay.com/itm/Victorinox-Classic-SD...</td>\n",
       "      <td>228**</td>\n",
       "      <td>{'currentPrice': {'_currencyId': 'USD', 'value...</td>\n",
       "      <td>{'shippingServiceCost': {'_currencyId': 'USD',...</td>\n",
       "      <td>{'bestOfferEnabled': 'false', 'buyItNowAvailab...</td>\n",
       "      <td>7.25</td>\n",
       "      <td>3.5</td>\n",
       "      <td>10.75</td>\n",
       "    </tr>\n",
       "    <tr>\n",
       "      <th>1</th>\n",
       "      <td>113729888404</td>\n",
       "      <td>Kershaw Misdirect Gray Assisted Open Framelock...</td>\n",
       "      <td>https://i.ebayimg.com/thumbs/images/g/zCgAAOSw...</td>\n",
       "      <td>https://www.ebay.com/itm/Kershaw-Misdirect-Gra...</td>\n",
       "      <td>242**</td>\n",
       "      <td>{'currentPrice': {'_currencyId': 'USD', 'value...</td>\n",
       "      <td>{'shippingServiceCost': {'_currencyId': 'USD',...</td>\n",
       "      <td>{'bestOfferEnabled': 'false', 'buyItNowAvailab...</td>\n",
       "      <td>26.84</td>\n",
       "      <td>0.0</td>\n",
       "      <td>26.84</td>\n",
       "    </tr>\n",
       "    <tr>\n",
       "      <th>2</th>\n",
       "      <td>175006871402</td>\n",
       "      <td>Kershaw Kuro Linerlock Folding Knife 3.1\" 8Cr1...</td>\n",
       "      <td>https://i.ebayimg.com/thumbs/images/g/2o4AAOSw...</td>\n",
       "      <td>https://www.ebay.com/itm/Kershaw-Kuro-Linerloc...</td>\n",
       "      <td>243**</td>\n",
       "      <td>{'currentPrice': {'_currencyId': 'USD', 'value...</td>\n",
       "      <td>{'shippingServiceCost': {'_currencyId': 'USD',...</td>\n",
       "      <td>{'bestOfferEnabled': 'false', 'buyItNowAvailab...</td>\n",
       "      <td>24.99</td>\n",
       "      <td>0.0</td>\n",
       "      <td>24.99</td>\n",
       "    </tr>\n",
       "    <tr>\n",
       "      <th>3</th>\n",
       "      <td>125406365289</td>\n",
       "      <td>Benchmade 556 Mini Griptilian Folding Pocket K...</td>\n",
       "      <td>https://i.ebayimg.com/thumbs/images/g/oLQAAOSw...</td>\n",
       "      <td>https://www.ebay.com/itm/Benchmade-556-Mini-Gr...</td>\n",
       "      <td>325**</td>\n",
       "      <td>{'currentPrice': {'_currencyId': 'USD', 'value...</td>\n",
       "      <td>{'shippingServiceCost': {'_currencyId': 'USD',...</td>\n",
       "      <td>{'bestOfferEnabled': 'false', 'buyItNowAvailab...</td>\n",
       "      <td>89.99</td>\n",
       "      <td>0.0</td>\n",
       "      <td>89.99</td>\n",
       "    </tr>\n",
       "    <tr>\n",
       "      <th>4</th>\n",
       "      <td>283684293533</td>\n",
       "      <td>1660 Kershaw Leek Knife silver plain Blade New...</td>\n",
       "      <td>https://i.ebayimg.com/thumbs/images/g/VQ0AAOSw...</td>\n",
       "      <td>https://www.ebay.com/itm/1660-Kershaw-Leek-Kni...</td>\n",
       "      <td>982**</td>\n",
       "      <td>{'currentPrice': {'_currencyId': 'USD', 'value...</td>\n",
       "      <td>{'shippingServiceCost': {'_currencyId': 'USD',...</td>\n",
       "      <td>{'bestOfferEnabled': 'false', 'buyItNowAvailab...</td>\n",
       "      <td>39.95</td>\n",
       "      <td>0.0</td>\n",
       "      <td>39.95</td>\n",
       "    </tr>\n",
       "  </tbody>\n",
       "</table>\n",
       "</div>"
      ],
      "text/plain": [
       "         itemId                                              title  \\\n",
       "0  324946521772  Victorinox Classic SD Mini Swiss Army Pocket K...   \n",
       "1  113729888404  Kershaw Misdirect Gray Assisted Open Framelock...   \n",
       "2  175006871402  Kershaw Kuro Linerlock Folding Knife 3.1\" 8Cr1...   \n",
       "3  125406365289  Benchmade 556 Mini Griptilian Folding Pocket K...   \n",
       "4  283684293533  1660 Kershaw Leek Knife silver plain Blade New...   \n",
       "\n",
       "                                          galleryURL  \\\n",
       "0  https://i.ebayimg.com/thumbs/images/g/smEAAOSw...   \n",
       "1  https://i.ebayimg.com/thumbs/images/g/zCgAAOSw...   \n",
       "2  https://i.ebayimg.com/thumbs/images/g/2o4AAOSw...   \n",
       "3  https://i.ebayimg.com/thumbs/images/g/oLQAAOSw...   \n",
       "4  https://i.ebayimg.com/thumbs/images/g/VQ0AAOSw...   \n",
       "\n",
       "                                         viewItemURL postalCode  \\\n",
       "0  https://www.ebay.com/itm/Victorinox-Classic-SD...      228**   \n",
       "1  https://www.ebay.com/itm/Kershaw-Misdirect-Gra...      242**   \n",
       "2  https://www.ebay.com/itm/Kershaw-Kuro-Linerloc...      243**   \n",
       "3  https://www.ebay.com/itm/Benchmade-556-Mini-Gr...      325**   \n",
       "4  https://www.ebay.com/itm/1660-Kershaw-Leek-Kni...      982**   \n",
       "\n",
       "                                       sellingStatus  \\\n",
       "0  {'currentPrice': {'_currencyId': 'USD', 'value...   \n",
       "1  {'currentPrice': {'_currencyId': 'USD', 'value...   \n",
       "2  {'currentPrice': {'_currencyId': 'USD', 'value...   \n",
       "3  {'currentPrice': {'_currencyId': 'USD', 'value...   \n",
       "4  {'currentPrice': {'_currencyId': 'USD', 'value...   \n",
       "\n",
       "                                        shippingInfo  \\\n",
       "0  {'shippingServiceCost': {'_currencyId': 'USD',...   \n",
       "1  {'shippingServiceCost': {'_currencyId': 'USD',...   \n",
       "2  {'shippingServiceCost': {'_currencyId': 'USD',...   \n",
       "3  {'shippingServiceCost': {'_currencyId': 'USD',...   \n",
       "4  {'shippingServiceCost': {'_currencyId': 'USD',...   \n",
       "\n",
       "                                         listingInfo  price_in_US  \\\n",
       "0  {'bestOfferEnabled': 'false', 'buyItNowAvailab...         7.25   \n",
       "1  {'bestOfferEnabled': 'false', 'buyItNowAvailab...        26.84   \n",
       "2  {'bestOfferEnabled': 'false', 'buyItNowAvailab...        24.99   \n",
       "3  {'bestOfferEnabled': 'false', 'buyItNowAvailab...        89.99   \n",
       "4  {'bestOfferEnabled': 'false', 'buyItNowAvailab...        39.95   \n",
       "\n",
       "   shipping_cost  converted_price  \n",
       "0            3.5            10.75  \n",
       "1            0.0            26.84  \n",
       "2            0.0            24.99  \n",
       "3            0.0            89.99  \n",
       "4            0.0            39.95  "
      ]
     },
     "execution_count": 2,
     "metadata": {},
     "output_type": "execute_result"
    }
   ],
   "source": [
    "df =  pd.read_csv('data/full_dataset.csv')\n",
    "display(df.info())\n",
    "df.head()"
   ]
  },
  {
   "cell_type": "code",
   "execution_count": 3,
   "metadata": {},
   "outputs": [],
   "source": [
    "#dictionary for cost of knives at surplus store\n",
    "bucket_dict = {'benchmade': 45.0,\n",
    "               'buck': 20.0,\n",
    "               'case': 20.0,\n",
    "               'crkt': 15.0,\n",
    "               'kershaw': 15.0,\n",
    "               'leatherman': 30.0, \n",
    "               'spyderco': 30.0,\n",
    "               'victorinox': 20.0\n",
    "              }\n",
    "\n",
    "#lowercase titles\n",
    "df.title = df.title.apply(str.lower)\n",
    "\n",
    "#remove special characters\n",
    "df.title.apply(pp.remove_special_chars)\n",
    "\n",
    "#function for finding brands using regex\n",
    "def find_brand(pattern):\n",
    "    df[pattern] = df.title.apply(lambda x: re.findall(pattern, x.lower()))\n",
    "    df[pattern] = df[pattern].apply(lambda x: np.nan if len(x)==0 else 1)\n",
    "    df[pattern].fillna(0, inplace=True)\n",
    "    return df\n",
    "\n",
    "\n",
    "#apply find_brand function\n",
    "for key in list(bucket_dict.keys()):\n",
    "    find_brand(key)"
   ]
  },
  {
   "cell_type": "code",
   "execution_count": 4,
   "metadata": {
    "id": "k3-_pAWYVbtA"
   },
   "outputs": [
    {
     "name": "stdout",
     "output_type": "stream",
     "text": [
      "Benchmade Value Counts\n"
     ]
    },
    {
     "data": {
      "text/plain": [
       "0.0    7391\n",
       "1.0     354\n",
       "Name: benchmade, dtype: int64"
      ]
     },
     "metadata": {},
     "output_type": "display_data"
    },
    {
     "name": "stdout",
     "output_type": "stream",
     "text": [
      "-------------------------------------------\n",
      "Buck Value Counts\n"
     ]
    },
    {
     "data": {
      "text/plain": [
       "0.0    6938\n",
       "1.0     807\n",
       "Name: buck, dtype: int64"
      ]
     },
     "metadata": {},
     "output_type": "display_data"
    },
    {
     "name": "stdout",
     "output_type": "stream",
     "text": [
      "-------------------------------------------\n",
      "Case Value Counts\n"
     ]
    },
    {
     "data": {
      "text/plain": [
       "0.0    6153\n",
       "1.0    1592\n",
       "Name: case, dtype: int64"
      ]
     },
     "metadata": {},
     "output_type": "display_data"
    },
    {
     "name": "stdout",
     "output_type": "stream",
     "text": [
      "-------------------------------------------\n",
      "CRKT Value Counts\n"
     ]
    },
    {
     "data": {
      "text/plain": [
       "0.0    7290\n",
       "1.0     455\n",
       "Name: crkt, dtype: int64"
      ]
     },
     "metadata": {},
     "output_type": "display_data"
    },
    {
     "name": "stdout",
     "output_type": "stream",
     "text": [
      "-------------------------------------------\n",
      "Kershaw Value Counts\n"
     ]
    },
    {
     "data": {
      "text/plain": [
       "0.0    6154\n",
       "1.0    1591\n",
       "Name: kershaw, dtype: int64"
      ]
     },
     "metadata": {},
     "output_type": "display_data"
    },
    {
     "name": "stdout",
     "output_type": "stream",
     "text": [
      "-------------------------------------------\n",
      "Leatherman Value Counts\n"
     ]
    },
    {
     "data": {
      "text/plain": [
       "0.0    7682\n",
       "1.0      63\n",
       "Name: leatherman, dtype: int64"
      ]
     },
     "metadata": {},
     "output_type": "display_data"
    },
    {
     "name": "stdout",
     "output_type": "stream",
     "text": [
      "-------------------------------------------\n",
      "Spyderco Value Counts\n"
     ]
    },
    {
     "data": {
      "text/plain": [
       "0.0    6550\n",
       "1.0    1195\n",
       "Name: spyderco, dtype: int64"
      ]
     },
     "metadata": {},
     "output_type": "display_data"
    },
    {
     "name": "stdout",
     "output_type": "stream",
     "text": [
      "-------------------------------------------\n",
      "Victorinox Value Counts\n",
      "<class 'pandas.core.frame.DataFrame'>\n",
      "RangeIndex: 7745 entries, 0 to 7744\n",
      "Data columns (total 19 columns):\n",
      " #   Column           Non-Null Count  Dtype  \n",
      "---  ------           --------------  -----  \n",
      " 0   itemId           7745 non-null   int64  \n",
      " 1   title            7745 non-null   object \n",
      " 2   galleryURL       7745 non-null   object \n",
      " 3   viewItemURL      7745 non-null   object \n",
      " 4   postalCode       7745 non-null   object \n",
      " 5   sellingStatus    7745 non-null   object \n",
      " 6   shippingInfo     7745 non-null   object \n",
      " 7   listingInfo      7745 non-null   object \n",
      " 8   price_in_US      7745 non-null   float64\n",
      " 9   shipping_cost    7745 non-null   float64\n",
      " 10  converted_price  7745 non-null   float64\n",
      " 11  benchmade        7745 non-null   float64\n",
      " 12  buck             7745 non-null   float64\n",
      " 13  case             7745 non-null   float64\n",
      " 14  crkt             7745 non-null   float64\n",
      " 15  kershaw          7745 non-null   float64\n",
      " 16  leatherman       7745 non-null   float64\n",
      " 17  spyderco         7745 non-null   float64\n",
      " 18  victorinox       7745 non-null   float64\n",
      "dtypes: float64(11), int64(1), object(7)\n",
      "memory usage: 1.1+ MB\n"
     ]
    },
    {
     "data": {
      "text/plain": [
       "None"
      ]
     },
     "metadata": {},
     "output_type": "display_data"
    }
   ],
   "source": [
    "print('Benchmade Value Counts')\n",
    "display(df.benchmade.value_counts(normalize=False))\n",
    "print('-------------------------------------------')\n",
    "\n",
    "print('Buck Value Counts')\n",
    "display(df.buck.value_counts(normalize=False))\n",
    "print('-------------------------------------------')\n",
    "\n",
    "print('Case Value Counts')\n",
    "display(df.case.value_counts(normalize=False))\n",
    "print('-------------------------------------------')\n",
    "\n",
    "print('CRKT Value Counts')\n",
    "display(df.crkt.value_counts(normalize=False))\n",
    "print('-------------------------------------------')\n",
    "\n",
    "print('Kershaw Value Counts')\n",
    "display(df.kershaw.value_counts(normalize=False))\n",
    "print('-------------------------------------------')\n",
    "\n",
    "print('Leatherman Value Counts')\n",
    "display(df.leatherman.value_counts(normalize=False))\n",
    "print('-------------------------------------------')\n",
    "\n",
    "\n",
    "print('Spyderco Value Counts')\n",
    "display(df.spyderco.value_counts(normalize=False))\n",
    "print('-------------------------------------------')\n",
    "\n",
    "print('Victorinox Value Counts')\n",
    "df.victorinox.value_counts(normalize=False)\n",
    "\n",
    "\n",
    "display(df.info())"
   ]
  },
  {
   "cell_type": "code",
   "execution_count": 5,
   "metadata": {},
   "outputs": [
    {
     "data": {
      "text/plain": [
       "Index(['itemId', 'title', 'galleryURL', 'viewItemURL', 'postalCode',\n",
       "       'sellingStatus', 'shippingInfo', 'listingInfo', 'price_in_US',\n",
       "       'shipping_cost', 'converted_price', 'benchmade', 'buck', 'case', 'crkt',\n",
       "       'kershaw', 'leatherman', 'spyderco', 'victorinox'],\n",
       "      dtype='object')"
      ]
     },
     "execution_count": 5,
     "metadata": {},
     "output_type": "execute_result"
    }
   ],
   "source": [
    "df.columns"
   ]
  },
  {
   "cell_type": "code",
   "execution_count": 6,
   "metadata": {},
   "outputs": [],
   "source": [
    "#replace 1 with cost of knife from surplus store to create new features\n",
    "for key, val in bucket_dict.items():\n",
    "    df[key] = df[key].replace(1.0, val)"
   ]
  },
  {
   "cell_type": "markdown",
   "metadata": {},
   "source": [
    "### Domain Understading: Cost Breakdown\n",
    "- padded envelopes: \\$0.50 per knife\n",
    "- flatrate shipping: \\$4.45 per knife\n",
    "- brand knife at surplus store: 15, 20, 30, or 45 dollars per knife\n",
    "- overhead expenses (gas, cleaning suplies, sharpening supplies, etc): $7"
   ]
  },
  {
   "cell_type": "code",
   "execution_count": 7,
   "metadata": {},
   "outputs": [],
   "source": [
    "#define an  estimate for ovearhead_cost per knife\n",
    "#in order to define new profit feature\n",
    "overhead_cost = 7"
   ]
  },
  {
   "cell_type": "code",
   "execution_count": 8,
   "metadata": {},
   "outputs": [
    {
     "data": {
      "text/plain": [
       "True     4053\n",
       "False    3692\n",
       "Name: Binary_Target, dtype: int64"
      ]
     },
     "execution_count": 8,
     "metadata": {},
     "output_type": "execute_result"
    }
   ],
   "source": [
    "# Binary Classification target (make 30 bucks per knife all costs considered)\n",
    "\n",
    "df['Binary_Target'] = (df['converted_price'] - df[list(bucket_dict.keys())].sum(axis=1)) - 30>0\n",
    "\n",
    "df['Binary_Target'].value_counts()"
   ]
  },
  {
   "cell_type": "code",
   "execution_count": 9,
   "metadata": {},
   "outputs": [],
   "source": [
    "df['profit'] = (df['converted_price'] - df[list(bucket_dict.keys())].sum(axis=1) - overhead_cost)"
   ]
  },
  {
   "cell_type": "code",
   "execution_count": 10,
   "metadata": {},
   "outputs": [],
   "source": [
    "# df['ROI'] = ((df['converted_price'] - df[list(bucket_dict.keys())].sum(axis=1))/(df[list(bucket_dict.keys())].sum(axis=1)))*100"
   ]
  },
  {
   "cell_type": "code",
   "execution_count": 11,
   "metadata": {},
   "outputs": [
    {
     "data": {
      "text/html": [
       "<div>\n",
       "<style scoped>\n",
       "    .dataframe tbody tr th:only-of-type {\n",
       "        vertical-align: middle;\n",
       "    }\n",
       "\n",
       "    .dataframe tbody tr th {\n",
       "        vertical-align: top;\n",
       "    }\n",
       "\n",
       "    .dataframe thead th {\n",
       "        text-align: right;\n",
       "    }\n",
       "</style>\n",
       "<table border=\"1\" class=\"dataframe\">\n",
       "  <thead>\n",
       "    <tr style=\"text-align: right;\">\n",
       "      <th></th>\n",
       "      <th>itemId</th>\n",
       "      <th>title</th>\n",
       "      <th>galleryURL</th>\n",
       "      <th>viewItemURL</th>\n",
       "      <th>postalCode</th>\n",
       "      <th>price_in_US</th>\n",
       "      <th>shipping_cost</th>\n",
       "      <th>converted_price</th>\n",
       "      <th>benchmade</th>\n",
       "      <th>buck</th>\n",
       "      <th>case</th>\n",
       "      <th>crkt</th>\n",
       "      <th>kershaw</th>\n",
       "      <th>leatherman</th>\n",
       "      <th>spyderco</th>\n",
       "      <th>victorinox</th>\n",
       "      <th>Binary_Target</th>\n",
       "      <th>profit</th>\n",
       "    </tr>\n",
       "  </thead>\n",
       "  <tbody>\n",
       "    <tr>\n",
       "      <th>0</th>\n",
       "      <td>324946521772</td>\n",
       "      <td>victorinox classic sd mini swiss army pocket k...</td>\n",
       "      <td>https://i.ebayimg.com/thumbs/images/g/smEAAOSw...</td>\n",
       "      <td>https://www.ebay.com/itm/Victorinox-Classic-SD...</td>\n",
       "      <td>228**</td>\n",
       "      <td>7.25</td>\n",
       "      <td>3.5</td>\n",
       "      <td>10.75</td>\n",
       "      <td>0.0</td>\n",
       "      <td>0.0</td>\n",
       "      <td>0.0</td>\n",
       "      <td>0.0</td>\n",
       "      <td>0.0</td>\n",
       "      <td>0.0</td>\n",
       "      <td>0.0</td>\n",
       "      <td>20.0</td>\n",
       "      <td>False</td>\n",
       "      <td>-16.25</td>\n",
       "    </tr>\n",
       "    <tr>\n",
       "      <th>1</th>\n",
       "      <td>113729888404</td>\n",
       "      <td>kershaw misdirect gray assisted open framelock...</td>\n",
       "      <td>https://i.ebayimg.com/thumbs/images/g/zCgAAOSw...</td>\n",
       "      <td>https://www.ebay.com/itm/Kershaw-Misdirect-Gra...</td>\n",
       "      <td>242**</td>\n",
       "      <td>26.84</td>\n",
       "      <td>0.0</td>\n",
       "      <td>26.84</td>\n",
       "      <td>0.0</td>\n",
       "      <td>0.0</td>\n",
       "      <td>0.0</td>\n",
       "      <td>0.0</td>\n",
       "      <td>15.0</td>\n",
       "      <td>0.0</td>\n",
       "      <td>0.0</td>\n",
       "      <td>0.0</td>\n",
       "      <td>False</td>\n",
       "      <td>4.84</td>\n",
       "    </tr>\n",
       "    <tr>\n",
       "      <th>2</th>\n",
       "      <td>175006871402</td>\n",
       "      <td>kershaw kuro linerlock folding knife 3.1\" 8cr1...</td>\n",
       "      <td>https://i.ebayimg.com/thumbs/images/g/2o4AAOSw...</td>\n",
       "      <td>https://www.ebay.com/itm/Kershaw-Kuro-Linerloc...</td>\n",
       "      <td>243**</td>\n",
       "      <td>24.99</td>\n",
       "      <td>0.0</td>\n",
       "      <td>24.99</td>\n",
       "      <td>0.0</td>\n",
       "      <td>0.0</td>\n",
       "      <td>0.0</td>\n",
       "      <td>0.0</td>\n",
       "      <td>15.0</td>\n",
       "      <td>0.0</td>\n",
       "      <td>0.0</td>\n",
       "      <td>0.0</td>\n",
       "      <td>False</td>\n",
       "      <td>2.99</td>\n",
       "    </tr>\n",
       "    <tr>\n",
       "      <th>3</th>\n",
       "      <td>125406365289</td>\n",
       "      <td>benchmade 556 mini griptilian folding pocket k...</td>\n",
       "      <td>https://i.ebayimg.com/thumbs/images/g/oLQAAOSw...</td>\n",
       "      <td>https://www.ebay.com/itm/Benchmade-556-Mini-Gr...</td>\n",
       "      <td>325**</td>\n",
       "      <td>89.99</td>\n",
       "      <td>0.0</td>\n",
       "      <td>89.99</td>\n",
       "      <td>45.0</td>\n",
       "      <td>0.0</td>\n",
       "      <td>0.0</td>\n",
       "      <td>0.0</td>\n",
       "      <td>0.0</td>\n",
       "      <td>0.0</td>\n",
       "      <td>0.0</td>\n",
       "      <td>0.0</td>\n",
       "      <td>True</td>\n",
       "      <td>37.99</td>\n",
       "    </tr>\n",
       "    <tr>\n",
       "      <th>4</th>\n",
       "      <td>283684293533</td>\n",
       "      <td>1660 kershaw leek knife silver plain blade new...</td>\n",
       "      <td>https://i.ebayimg.com/thumbs/images/g/VQ0AAOSw...</td>\n",
       "      <td>https://www.ebay.com/itm/1660-Kershaw-Leek-Kni...</td>\n",
       "      <td>982**</td>\n",
       "      <td>39.95</td>\n",
       "      <td>0.0</td>\n",
       "      <td>39.95</td>\n",
       "      <td>0.0</td>\n",
       "      <td>0.0</td>\n",
       "      <td>0.0</td>\n",
       "      <td>0.0</td>\n",
       "      <td>15.0</td>\n",
       "      <td>0.0</td>\n",
       "      <td>0.0</td>\n",
       "      <td>0.0</td>\n",
       "      <td>False</td>\n",
       "      <td>17.95</td>\n",
       "    </tr>\n",
       "  </tbody>\n",
       "</table>\n",
       "</div>"
      ],
      "text/plain": [
       "         itemId                                              title  \\\n",
       "0  324946521772  victorinox classic sd mini swiss army pocket k...   \n",
       "1  113729888404  kershaw misdirect gray assisted open framelock...   \n",
       "2  175006871402  kershaw kuro linerlock folding knife 3.1\" 8cr1...   \n",
       "3  125406365289  benchmade 556 mini griptilian folding pocket k...   \n",
       "4  283684293533  1660 kershaw leek knife silver plain blade new...   \n",
       "\n",
       "                                          galleryURL  \\\n",
       "0  https://i.ebayimg.com/thumbs/images/g/smEAAOSw...   \n",
       "1  https://i.ebayimg.com/thumbs/images/g/zCgAAOSw...   \n",
       "2  https://i.ebayimg.com/thumbs/images/g/2o4AAOSw...   \n",
       "3  https://i.ebayimg.com/thumbs/images/g/oLQAAOSw...   \n",
       "4  https://i.ebayimg.com/thumbs/images/g/VQ0AAOSw...   \n",
       "\n",
       "                                         viewItemURL postalCode  price_in_US  \\\n",
       "0  https://www.ebay.com/itm/Victorinox-Classic-SD...      228**         7.25   \n",
       "1  https://www.ebay.com/itm/Kershaw-Misdirect-Gra...      242**        26.84   \n",
       "2  https://www.ebay.com/itm/Kershaw-Kuro-Linerloc...      243**        24.99   \n",
       "3  https://www.ebay.com/itm/Benchmade-556-Mini-Gr...      325**        89.99   \n",
       "4  https://www.ebay.com/itm/1660-Kershaw-Leek-Kni...      982**        39.95   \n",
       "\n",
       "   shipping_cost  converted_price  benchmade  buck  case  crkt  kershaw  \\\n",
       "0            3.5            10.75        0.0   0.0   0.0   0.0      0.0   \n",
       "1            0.0            26.84        0.0   0.0   0.0   0.0     15.0   \n",
       "2            0.0            24.99        0.0   0.0   0.0   0.0     15.0   \n",
       "3            0.0            89.99       45.0   0.0   0.0   0.0      0.0   \n",
       "4            0.0            39.95        0.0   0.0   0.0   0.0     15.0   \n",
       "\n",
       "   leatherman  spyderco  victorinox  Binary_Target  profit  \n",
       "0         0.0       0.0        20.0          False  -16.25  \n",
       "1         0.0       0.0         0.0          False    4.84  \n",
       "2         0.0       0.0         0.0          False    2.99  \n",
       "3         0.0       0.0         0.0           True   37.99  \n",
       "4         0.0       0.0         0.0          False   17.95  "
      ]
     },
     "execution_count": 11,
     "metadata": {},
     "output_type": "execute_result"
    }
   ],
   "source": [
    "df.drop(columns=['shippingInfo', 'listingInfo', 'sellingStatus'], inplace=True)\n",
    "df.head()"
   ]
  },
  {
   "cell_type": "code",
   "execution_count": 12,
   "metadata": {},
   "outputs": [
    {
     "data": {
      "text/plain": [
       "dict_keys(['benchmade', 'buck', 'case', 'crkt', 'kershaw', 'leatherman', 'spyderco', 'victorinox'])"
      ]
     },
     "execution_count": 12,
     "metadata": {},
     "output_type": "execute_result"
    }
   ],
   "source": [
    "bucket_dict.keys()"
   ]
  },
  {
   "cell_type": "code",
   "execution_count": 13,
   "metadata": {},
   "outputs": [],
   "source": [
    "#flip the bucket dictionary to divide dataframe by MY cost of knives\n",
    "#at the surplus store\n",
    "\n",
    "flipped = {}\n",
    "  \n",
    "for key, value in bucket_dict.items():\n",
    "    if value not in flipped:\n",
    "        flipped[value] = [key]\n",
    "    else:\n",
    "        flipped[value].append(key)"
   ]
  },
  {
   "cell_type": "code",
   "execution_count": 14,
   "metadata": {},
   "outputs": [
    {
     "data": {
      "text/plain": [
       "{45.0: ['benchmade'],\n",
       " 20.0: ['buck', 'case', 'victorinox'],\n",
       " 15.0: ['crkt', 'kershaw'],\n",
       " 30.0: ['leatherman', 'spyderco']}"
      ]
     },
     "execution_count": 14,
     "metadata": {},
     "output_type": "execute_result"
    }
   ],
   "source": [
    "#there are only 4 bins to work with. Much easier. \n",
    "flipped"
   ]
  },
  {
   "cell_type": "code",
   "execution_count": 15,
   "metadata": {},
   "outputs": [],
   "source": [
    "df_15 = df.loc[(df['crkt'] != 0) | (df['kershaw'] != 0)]\n",
    "df_20 = df.loc[(df['buck'] != 0) | (df['case'] != 0)| (df['victorinox'] != 0)]\n",
    "df_30 = df.loc[(df['leatherman'] != 0) | (df['spyderco'] != 0)]\n",
    "df_45 = df.loc[df['benchmade'] != 0] "
   ]
  },
  {
   "cell_type": "code",
   "execution_count": 16,
   "metadata": {},
   "outputs": [
    {
     "name": "stdout",
     "output_type": "stream",
     "text": [
      "<class 'pandas.core.frame.DataFrame'>\n",
      "Int64Index: 2043 entries, 1 to 7735\n",
      "Data columns (total 18 columns):\n",
      " #   Column           Non-Null Count  Dtype  \n",
      "---  ------           --------------  -----  \n",
      " 0   itemId           2043 non-null   int64  \n",
      " 1   title            2043 non-null   object \n",
      " 2   galleryURL       2043 non-null   object \n",
      " 3   viewItemURL      2043 non-null   object \n",
      " 4   postalCode       2043 non-null   object \n",
      " 5   price_in_US      2043 non-null   float64\n",
      " 6   shipping_cost    2043 non-null   float64\n",
      " 7   converted_price  2043 non-null   float64\n",
      " 8   benchmade        2043 non-null   float64\n",
      " 9   buck             2043 non-null   float64\n",
      " 10  case             2043 non-null   float64\n",
      " 11  crkt             2043 non-null   float64\n",
      " 12  kershaw          2043 non-null   float64\n",
      " 13  leatherman       2043 non-null   float64\n",
      " 14  spyderco         2043 non-null   float64\n",
      " 15  victorinox       2043 non-null   float64\n",
      " 16  Binary_Target    2043 non-null   bool   \n",
      " 17  profit           2043 non-null   float64\n",
      "dtypes: bool(1), float64(12), int64(1), object(4)\n",
      "memory usage: 289.3+ KB\n"
     ]
    },
    {
     "data": {
      "text/plain": [
       "None"
      ]
     },
     "metadata": {},
     "output_type": "display_data"
    },
    {
     "name": "stdout",
     "output_type": "stream",
     "text": [
      "<class 'pandas.core.frame.DataFrame'>\n",
      "Int64Index: 3987 entries, 0 to 7743\n",
      "Data columns (total 18 columns):\n",
      " #   Column           Non-Null Count  Dtype  \n",
      "---  ------           --------------  -----  \n",
      " 0   itemId           3987 non-null   int64  \n",
      " 1   title            3987 non-null   object \n",
      " 2   galleryURL       3987 non-null   object \n",
      " 3   viewItemURL      3987 non-null   object \n",
      " 4   postalCode       3987 non-null   object \n",
      " 5   price_in_US      3987 non-null   float64\n",
      " 6   shipping_cost    3987 non-null   float64\n",
      " 7   converted_price  3987 non-null   float64\n",
      " 8   benchmade        3987 non-null   float64\n",
      " 9   buck             3987 non-null   float64\n",
      " 10  case             3987 non-null   float64\n",
      " 11  crkt             3987 non-null   float64\n",
      " 12  kershaw          3987 non-null   float64\n",
      " 13  leatherman       3987 non-null   float64\n",
      " 14  spyderco         3987 non-null   float64\n",
      " 15  victorinox       3987 non-null   float64\n",
      " 16  Binary_Target    3987 non-null   bool   \n",
      " 17  profit           3987 non-null   float64\n",
      "dtypes: bool(1), float64(12), int64(1), object(4)\n",
      "memory usage: 564.6+ KB\n"
     ]
    },
    {
     "data": {
      "text/plain": [
       "None"
      ]
     },
     "metadata": {},
     "output_type": "display_data"
    },
    {
     "name": "stdout",
     "output_type": "stream",
     "text": [
      "<class 'pandas.core.frame.DataFrame'>\n",
      "Int64Index: 1258 entries, 15 to 7744\n",
      "Data columns (total 18 columns):\n",
      " #   Column           Non-Null Count  Dtype  \n",
      "---  ------           --------------  -----  \n",
      " 0   itemId           1258 non-null   int64  \n",
      " 1   title            1258 non-null   object \n",
      " 2   galleryURL       1258 non-null   object \n",
      " 3   viewItemURL      1258 non-null   object \n",
      " 4   postalCode       1258 non-null   object \n",
      " 5   price_in_US      1258 non-null   float64\n",
      " 6   shipping_cost    1258 non-null   float64\n",
      " 7   converted_price  1258 non-null   float64\n",
      " 8   benchmade        1258 non-null   float64\n",
      " 9   buck             1258 non-null   float64\n",
      " 10  case             1258 non-null   float64\n",
      " 11  crkt             1258 non-null   float64\n",
      " 12  kershaw          1258 non-null   float64\n",
      " 13  leatherman       1258 non-null   float64\n",
      " 14  spyderco         1258 non-null   float64\n",
      " 15  victorinox       1258 non-null   float64\n",
      " 16  Binary_Target    1258 non-null   bool   \n",
      " 17  profit           1258 non-null   float64\n",
      "dtypes: bool(1), float64(12), int64(1), object(4)\n",
      "memory usage: 178.1+ KB\n"
     ]
    },
    {
     "data": {
      "text/plain": [
       "None"
      ]
     },
     "metadata": {},
     "output_type": "display_data"
    },
    {
     "name": "stdout",
     "output_type": "stream",
     "text": [
      "<class 'pandas.core.frame.DataFrame'>\n",
      "Int64Index: 354 entries, 3 to 7691\n",
      "Data columns (total 18 columns):\n",
      " #   Column           Non-Null Count  Dtype  \n",
      "---  ------           --------------  -----  \n",
      " 0   itemId           354 non-null    int64  \n",
      " 1   title            354 non-null    object \n",
      " 2   galleryURL       354 non-null    object \n",
      " 3   viewItemURL      354 non-null    object \n",
      " 4   postalCode       354 non-null    object \n",
      " 5   price_in_US      354 non-null    float64\n",
      " 6   shipping_cost    354 non-null    float64\n",
      " 7   converted_price  354 non-null    float64\n",
      " 8   benchmade        354 non-null    float64\n",
      " 9   buck             354 non-null    float64\n",
      " 10  case             354 non-null    float64\n",
      " 11  crkt             354 non-null    float64\n",
      " 12  kershaw          354 non-null    float64\n",
      " 13  leatherman       354 non-null    float64\n",
      " 14  spyderco         354 non-null    float64\n",
      " 15  victorinox       354 non-null    float64\n",
      " 16  Binary_Target    354 non-null    bool   \n",
      " 17  profit           354 non-null    float64\n",
      "dtypes: bool(1), float64(12), int64(1), object(4)\n",
      "memory usage: 50.1+ KB\n"
     ]
    },
    {
     "data": {
      "text/plain": [
       "None"
      ]
     },
     "metadata": {},
     "output_type": "display_data"
    }
   ],
   "source": [
    "display(df_15.info())\n",
    "display(df_20.info())\n",
    "display(df_30.info())\n",
    "display(df_45.info())"
   ]
  },
  {
   "cell_type": "markdown",
   "metadata": {},
   "source": [
    "There is a considerbly long tail on the distrubtion of of price for this dataset. In order to clean the dataset, I have decided to drop the values that are statistically the least likely to occur. According to my dataset, the probability of selling a knife on ebay for more than \\$270 is less than 5\\% and therefore keeping data past this point should not affect my model significantly. The same goes for knives lower than \\$14.52. I have provided a simple formula to show the exact percentage of data dropped from the original dataset when removing the tails from the dataset in this way, and have also provided clean visualizions to show how it has seemingly imrpoved the distrubtion. \n"
   ]
  },
  {
   "cell_type": "code",
   "execution_count": 17,
   "metadata": {},
   "outputs": [
    {
     "data": {
      "text/plain": [
       "14.516000000000004"
      ]
     },
     "execution_count": 17,
     "metadata": {},
     "output_type": "execute_result"
    }
   ],
   "source": [
    "#there is five percent chance of selling a knife for less than $14.52 on ebay\n",
    "df['converted_price'].quantile(.05)"
   ]
  },
  {
   "cell_type": "code",
   "execution_count": 18,
   "metadata": {},
   "outputs": [
    {
     "data": {
      "text/plain": [
       "269.15"
      ]
     },
     "execution_count": 18,
     "metadata": {},
     "output_type": "execute_result"
    }
   ],
   "source": [
    "#There is a five percent chance of selling a knife for 269.15 dollars on ebay. \n",
    "df['converted_price'].quantile(.95)"
   ]
  },
  {
   "cell_type": "code",
   "execution_count": 19,
   "metadata": {},
   "outputs": [
    {
     "data": {
      "image/png": "[encoded data removed]",
      "text/plain": [
       "<Figure size 1440x720 with 1 Axes>"
      ]
     },
     "metadata": {
      "needs_background": "light"
     },
     "output_type": "display_data"
    }
   ],
   "source": [
    "sns.displot(df['converted_price'], height=10,aspect=2, bins=100)\n",
    "plt.show();"
   ]
  },
  {
   "cell_type": "code",
   "execution_count": 20,
   "metadata": {},
   "outputs": [],
   "source": [
    "df_scrub = df[(df['converted_price'] > 14) & (df['converted_price'] < 270)]"
   ]
  },
  {
   "cell_type": "code",
   "execution_count": 21,
   "metadata": {},
   "outputs": [
    {
     "data": {
      "text/plain": [
       "9.296320206584893"
      ]
     },
     "execution_count": 21,
     "metadata": {},
     "output_type": "execute_result"
    }
   ],
   "source": [
    "((len(df) - len(df_scrub)) / len(df)) *100"
   ]
  },
  {
   "cell_type": "code",
   "execution_count": 22,
   "metadata": {},
   "outputs": [
    {
     "data": {
      "image/png": "[encoded data removed]",
      "text/plain": [
       "<Figure size 1440x720 with 1 Axes>"
      ]
     },
     "metadata": {
      "needs_background": "light"
     },
     "output_type": "display_data"
    }
   ],
   "source": [
    "sns.displot(df_scrub['converted_price'], height=10,aspect=2, bins=200)\n",
    "plt.show();"
   ]
  },
  {
   "cell_type": "code",
   "execution_count": 23,
   "metadata": {},
   "outputs": [
    {
     "data": {
      "image/png": "[encoded data removed]",
      "text/plain": [
       "<Figure size 1440x720 with 1 Axes>"
      ]
     },
     "metadata": {
      "needs_background": "light"
     },
     "output_type": "display_data"
    }
   ],
   "source": [
    "sns.displot(df_scrub['profit'], height=10,aspect=2, bins=200)\n",
    "plt.show();"
   ]
  },
  {
   "cell_type": "code",
   "execution_count": 24,
   "metadata": {},
   "outputs": [],
   "source": [
    "df_15 = df_scrub.loc[(df_scrub['crkt'] != 0) | (df_scrub['kershaw'] != 0)]\n",
    "df_20 = df_scrub.loc[(df_scrub['buck'] != 0) | (df_scrub['case'] != 0)| (df_scrub['victorinox'] != 0)]\n",
    "df_30 = df_scrub.loc[(df_scrub['leatherman'] != 0) | (df_scrub['spyderco'] != 0)]\n",
    "df_45 = df_scrub.loc[df_scrub['benchmade'] != 0] "
   ]
  },
  {
   "cell_type": "code",
   "execution_count": 25,
   "metadata": {},
   "outputs": [
    {
     "data": {
      "image/png": "[encoded data removed]",
      "text/plain": [
       "<Figure size 720x720 with 1 Axes>"
      ]
     },
     "metadata": {
      "needs_background": "light"
     },
     "output_type": "display_data"
    }
   ],
   "source": [
    "sns.displot(df_30.converted_price, height=10,aspect=1, bins=50)\n",
    "plt.show();"
   ]
  },
  {
   "cell_type": "code",
   "execution_count": 26,
   "metadata": {},
   "outputs": [
    {
     "data": {
      "image/png": "[encoded data removed]",
      "text/plain": [
       "<Figure size 720x720 with 1 Axes>"
      ]
     },
     "metadata": {
      "needs_background": "light"
     },
     "output_type": "display_data"
    }
   ],
   "source": [
    "sns.displot(df_45.converted_price, height=10,aspect=1, bins=50)\n",
    "plt.show();"
   ]
  },
  {
   "cell_type": "code",
   "execution_count": 27,
   "metadata": {},
   "outputs": [
    {
     "data": {
      "image/png": "[encoded data removed]",
      "text/plain": [
       "<Figure size 1440x864 with 1 Axes>"
      ]
     },
     "metadata": {
      "needs_background": "light"
     },
     "output_type": "display_data"
    }
   ],
   "source": [
    "fig, ax = plt.subplots(figsize=(20,12))\n",
    "sns.histplot(df_20['converted_price'], ax=ax, color='b', label='$20 surplus store knives')\n",
    "sns.histplot(df_15['converted_price'], ax=ax, thresh=.5, color='r', label='$15 surplus store knives')\n",
    "# sns.histplot(df_30['converted_price'], ax=ax, thresh=.7, color='b')\n",
    "# sns.histplot(df_45['converted_price'], ax=ax, thresh=.7, color='r')\n",
    "ax.legend(title=\"Count of knives\")\n",
    "plt.show();"
   ]
  },
  {
   "cell_type": "code",
   "execution_count": 28,
   "metadata": {},
   "outputs": [
    {
     "data": {
      "image/png": "[encoded data removed]",
      "text/plain": [
       "<Figure size 1440x864 with 1 Axes>"
      ]
     },
     "metadata": {
      "needs_background": "light"
     },
     "output_type": "display_data"
    }
   ],
   "source": [
    "fig, ax = plt.subplots(figsize=(20,12))\n",
    "# sns.histplot(df_15['converted_price'], ax=ax, thresh=.7, color='r')\n",
    "# sns.histplot(df_20['converted_price'], ax=ax, thresh=.1, color='b')\n",
    "sns.histplot(df_30['converted_price'], ax=ax, thresh=1, color='g', label='$30 surplus store knives')\n",
    "sns.histplot(df_45['converted_price'], ax=ax, thresh=.6, color='orange', label='$45 surplus store knives')\n",
    "ax.legend(title=\"Count of knives\")\n",
    "plt.show();"
   ]
  },
  {
   "cell_type": "code",
   "execution_count": 29,
   "metadata": {},
   "outputs": [
    {
     "data": {
      "image/png": "[encoded data removed]",
      "text/plain": [
       "<Figure size 1440x864 with 1 Axes>"
      ]
     },
     "metadata": {
      "needs_background": "light"
     },
     "output_type": "display_data"
    }
   ],
   "source": [
    "fig, ax = plt.subplots(figsize=(20,12))\n",
    "sns.histplot(df_20['converted_price'], ax=ax, thresh=.1, color='b', label='$20 surplus store knives')\n",
    "sns.histplot(df_30['converted_price'], ax=ax, thresh=.5, color='g', label='$30 surplus store knives')\n",
    "sns.histplot(df_45['converted_price'], ax=ax, thresh=.3, color='orange', label='$45 surplus store knives')\n",
    "sns.histplot(df_15['converted_price'], ax=ax, thresh=.2, color='r', label='$15 surplus store knives')\n",
    "ax.legend(title=\"Count of knives\")\n",
    "plt.show();"
   ]
  },
  {
   "cell_type": "markdown",
   "metadata": {},
   "source": [
    "## PROFIT GRAPHS"
   ]
  },
  {
   "cell_type": "code",
   "execution_count": 30,
   "metadata": {},
   "outputs": [
    {
     "data": {
      "image/png": "[encoded data removed]",
      "text/plain": [
       "<Figure size 1440x864 with 1 Axes>"
      ]
     },
     "metadata": {
      "needs_background": "light"
     },
     "output_type": "display_data"
    }
   ],
   "source": [
    "fig, ax = plt.subplots(figsize=(20,12))\n",
    "sns.histplot(df_20['profit'], ax=ax, color='b', label='$20 surplus store knives')\n",
    "sns.histplot(df_15['profit'], ax=ax, thresh=.5, color='r', label='$15 surplus store knives')\n",
    "plt.axvline(x = 0, color = 'yellow', label = 'zero: break-even point')\n",
    "# sns.histplot(df_30['converted_price'], ax=ax, thresh=.7, color='b')\n",
    "# sns.histplot(df_45['converted_price'], ax=ax, thresh=.7, color='r')\n",
    "ax.legend(title=\"Count of knives\")\n",
    "plt.show();"
   ]
  },
  {
   "cell_type": "code",
   "execution_count": 31,
   "metadata": {},
   "outputs": [
    {
     "data": {
      "image/png": "[encoded data removed]",
      "text/plain": [
       "<Figure size 1440x864 with 1 Axes>"
      ]
     },
     "metadata": {
      "needs_background": "light"
     },
     "output_type": "display_data"
    }
   ],
   "source": [
    "fig, ax = plt.subplots(figsize=(20,12))\n",
    "# sns.histplot(df_15['converted_price'], ax=ax, thresh=.7, color='r')\n",
    "# sns.histplot(df_20['converted_price'], ax=ax, thresh=.1, color='b')\n",
    "plt.axvline(x = 0, color = 'black', label = 'zero: break-even point')\n",
    "sns.histplot(df_30['profit'], ax=ax, thresh=1, color='g', label='$30 surplus store knives')\n",
    "sns.histplot(df_45['profit'], ax=ax, thresh=.6, color='orange', label='$45 surplus store knives')\n",
    "ax.legend(title=\"Count of knives\")\n",
    "plt.show();"
   ]
  },
  {
   "cell_type": "code",
   "execution_count": 32,
   "metadata": {},
   "outputs": [
    {
     "data": {
      "image/png": "[encoded data removed]",
      "text/plain": [
       "<Figure size 1440x864 with 1 Axes>"
      ]
     },
     "metadata": {
      "needs_background": "light"
     },
     "output_type": "display_data"
    }
   ],
   "source": [
    "fig, ax = plt.subplots(figsize=(20,12))\n",
    "plt.axvline(x = 0, color = 'yellow', label = 'zero: break-even point')\n",
    "sns.histplot(df_20['profit'], ax=ax, thresh=.1, color='b', label='$20 surplus store knives')\n",
    "sns.histplot(df_30['profit'], ax=ax, thresh=.5, color='g', label='$30 surplus store knives')\n",
    "sns.histplot(df_45['profit'], ax=ax, thresh=.3, color='orange', label='$45 surplus store knives')\n",
    "sns.histplot(df_15['profit'], ax=ax, thresh=.2, color='r', label='$15 surplus store knives')\n",
    "ax.legend(title=\"Count of knives\")\n",
    "plt.show();"
   ]
  },
  {
   "cell_type": "code",
   "execution_count": 33,
   "metadata": {},
   "outputs": [
    {
     "data": {
      "image/png": "[encoded data removed]",
      "text/plain": [
       "<Figure size 720x1080 with 2 Axes>"
      ]
     },
     "metadata": {
      "needs_background": "light"
     },
     "output_type": "display_data"
    }
   ],
   "source": [
    "fig, (ax1, ax2) = plt.subplots(figsize=(10,15), nrows=2)\n",
    "\n",
    "sns.histplot(df_15['profit'], ax=ax2, color='gold')\n",
    "sns.histplot(df_20['profit'], ax=ax1, color='firebrick')\n",
    "sns.histplot(df_30['profit'], ax=ax2,  color='skyblue')\n",
    "sns.histplot(df_45['profit'], ax=ax1, color='palegreen')\n",
    "\n",
    "fig.suptitle(\"Expected Profit By Price At Surplus Store\", fontsize=24, x=0.44)\n",
    "ax1.set_xlabel('profit', fontsize=20)\n",
    "ax1.set_ylabel('number of knives listed (ebay)', fontsize=15)\n",
    "ax2.set_xlabel('profit', fontsize=20)\n",
    "ax2.set_ylabel('number of knives listed (ebay)', fontsize=15)\n",
    "\n",
    "\n",
    "# Add a legend to the figure\n",
    "# (in general, these are quite nitpicky to style and position)\n",
    "fig.legend(labels=[\"$20 knives\", \"$45 knives\", \"$15 knives\", \"$30 knives\"], loc=(.68, .78), fontsize='x-large')\n",
    "plt.show();"
   ]
  },
  {
   "cell_type": "code",
   "execution_count": 34,
   "metadata": {},
   "outputs": [],
   "source": [
    "df_benchmade =  df_scrub.loc[df_scrub['benchmade'] != 0]\n",
    "df_buck = df_scrub.loc[df_scrub['buck'] != 0]\n",
    "df_case = df_scrub.loc[df_scrub['case'] != 0]\n",
    "df_crkt = df_scrub.loc[df_scrub['crkt'] != 0]\n",
    "df_kershaw = df_scrub.loc[df_scrub['kershaw'] != 0]\n",
    "df_leatherman = df_scrub.loc[df_scrub['leatherman'] != 0]\n",
    "df_spyderco = df_scrub.loc[df_scrub['spyderco'] != 0]\n",
    "df_victorinox = df_scrub.loc[df_scrub['victorinox'] != 0]"
   ]
  },
  {
   "cell_type": "code",
   "execution_count": 35,
   "metadata": {},
   "outputs": [],
   "source": [
    "ax1x_labels = [0,0,50,100,150,200]\n",
    "ax1y_labels = [0,10,20,30,40,50,60,70,80]\n",
    "ax2x_labels = [0,0,50,100,150,200, 250]\n",
    "ax2y_labels = [0,25,50,75,200,125,150,175,200]"
   ]
  },
  {
   "cell_type": "code",
   "execution_count": 36,
   "metadata": {},
   "outputs": [
    {
     "name": "stderr",
     "output_type": "stream",
     "text": [
      "<ipython-input-36-041f8b402783>:9: UserWarning: FixedFormatter should only be used together with FixedLocator\n",
      "  ax1.set_xticklabels(ax1x_labels, fontsize=15)\n",
      "<ipython-input-36-041f8b402783>:10: UserWarning: FixedFormatter should only be used together with FixedLocator\n",
      "  ax1.set_yticklabels(ax1y_labels, fontsize=15)\n",
      "<ipython-input-36-041f8b402783>:11: UserWarning: FixedFormatter should only be used together with FixedLocator\n",
      "  ax2.set_xticklabels(ax2x_labels, fontsize=15)\n",
      "<ipython-input-36-041f8b402783>:12: UserWarning: FixedFormatter should only be used together with FixedLocator\n",
      "  ax2.set_yticklabels(ax2y_labels, fontsize=15)\n"
     ]
    },
    {
     "data": {
      "image/png": "[encoded data removed]",
      "text/plain": [
       "<Figure size 720x864 with 2 Axes>"
      ]
     },
     "metadata": {
      "needs_background": "light"
     },
     "output_type": "display_data"
    }
   ],
   "source": [
    "fig, (ax1, ax2) = plt.subplots(figsize=(10,12), nrows=2)\n",
    "sns.histplot(df_crkt['profit'], ax=ax1, color='lime')\n",
    "sns.histplot(df_kershaw['profit'], ax=ax2, color='aqua')\n",
    "fig.suptitle(\"Expected Profit By Brand ($15 Knives)\", fontsize=24, x=0.44)\n",
    "ax1.set_xlabel('profit', fontsize=20)\n",
    "ax1.set_ylabel('number of knives sold', fontsize=20)\n",
    "ax2.set_xlabel('profit', fontsize=20)\n",
    "ax2.set_ylabel('number of knives sold', fontsize=20)\n",
    "ax1.set_xticklabels(ax1x_labels, fontsize=15)\n",
    "ax1.set_yticklabels(ax1y_labels, fontsize=15)\n",
    "ax2.set_xticklabels(ax2x_labels, fontsize=15)\n",
    "ax2.set_yticklabels(ax2y_labels, fontsize=15)\n",
    "# Add a legend to the figure\n",
    "# (in general, these are quite nitpicky to style and position)\n",
    "fig.legend(labels=[\"crkt\", \"kershaw\"], loc=(.68, .78), fontsize='x-large')\n",
    "plt.show();"
   ]
  },
  {
   "cell_type": "code",
   "execution_count": 37,
   "metadata": {},
   "outputs": [
    {
     "data": {
      "image/png": "[encoded data removed]",
      "text/plain": [
       "<Figure size 720x1080 with 3 Axes>"
      ]
     },
     "metadata": {
      "needs_background": "light"
     },
     "output_type": "display_data"
    }
   ],
   "source": [
    "fig, (ax1, ax2, ax3) = plt.subplots(figsize=(10,15), nrows=3)\n",
    "sns.histplot(df_buck['profit'], ax=ax1, color='lime')\n",
    "sns.histplot(df_case['profit'], ax=ax2, color='aqua') \n",
    "sns.histplot(df_victorinox['profit'], ax=ax3, color='magenta')\n",
    "\n",
    "fig.suptitle(\"Expected Profit By Brand ($20 Knives)\", fontsize=24, x=0.44)\n",
    "ax1.set_xlabel('profit', fontsize=20)\n",
    "ax1.set_ylabel('number of knives sold', fontsize=15)\n",
    "ax2.set_xlabel('profit', fontsize=20)\n",
    "ax2.set_ylabel('number of knives sold', fontsize=15)\n",
    "ax3.set_xlabel('profit', fontsize=20)\n",
    "ax3.set_ylabel('number of knives sold', fontsize=15)\n",
    "\n",
    "# Add a legend to the figure\n",
    "# (in general, these are quite nitpicky to style and position)\n",
    "fig.legend(labels=[\"buck\", \"case\", \"victorinox\"], loc=(.68, .78), fontsize='x-large')\n",
    "plt.show();"
   ]
  },
  {
   "cell_type": "code",
   "execution_count": 38,
   "metadata": {},
   "outputs": [
    {
     "data": {
      "image/png": "[encoded data removed]",
      "text/plain": [
       "<Figure size 720x1080 with 2 Axes>"
      ]
     },
     "metadata": {
      "needs_background": "light"
     },
     "output_type": "display_data"
    }
   ],
   "source": [
    "fig, (ax1, ax2) = plt.subplots(figsize=(10,15), nrows=2)\n",
    "sns.histplot(df_leatherman['profit'], ax=ax1, color='lime')\n",
    "sns.histplot(df_spyderco['profit'], ax=ax2, color='aqua')\n",
    "\n",
    "fig.suptitle(\"Expected Profit By Brand ($30 Knives)\", fontsize=24, x=0.44)\n",
    "ax1.set_xlabel('profit', fontsize=20)\n",
    "ax1.set_ylabel('number of knives sold', fontsize=15)\n",
    "ax2.set_xlabel('profit', fontsize=20)\n",
    "ax2.set_ylabel('number of knives sold', fontsize=15)\n",
    "\n",
    "\n",
    "# Add a legend to the figure\n",
    "# (in general, these are quite nitpicky to style and position)\n",
    "fig.legend(labels=[\"leatherman\", \"spyderco\",], loc=(.68, .78), fontsize='x-large')\n",
    "plt.show();"
   ]
  },
  {
   "cell_type": "code",
   "execution_count": 39,
   "metadata": {},
   "outputs": [
    {
     "data": {
      "image/png": "[encoded data removed]",
      "text/plain": [
       "<Figure size 864x576 with 1 Axes>"
      ]
     },
     "metadata": {
      "needs_background": "light"
     },
     "output_type": "display_data"
    }
   ],
   "source": [
    "fig, ax = plt.subplots(figsize=(12,8))\n",
    "sns.histplot(df_benchmade['profit'], ax=ax, color='lime')\n",
    "\n",
    "\n",
    "fig.suptitle(\"Expected Profit By Brand ($45 Knives)\", fontsize=24, x=0.44)\n",
    "ax.set_xlabel('profit', fontsize=20)\n",
    "ax.set_ylabel('number of knives sold', fontsize=15)\n",
    "\n",
    "\n",
    "\n",
    "# Add a legend to the figure\n",
    "# (in general, these are quite nitpicky to style and position)\n",
    "fig.legend(labels=[\"benchmade\"], loc=(.68, .78), fontsize='x-large')\n",
    "plt.show();"
   ]
  },
  {
   "cell_type": "code",
   "execution_count": 40,
   "metadata": {},
   "outputs": [],
   "source": [
    "def trial_run_45_15(trials):\n",
    "    thousand_45 = (((df_45.sample(22)['profit'].sum())*trials)/trials)\n",
    "    thousand_15 = (((df_15.sample(66)['profit'].sum())*trials)/trials)\n",
    "    difference = thousand_45 - thousand_15\n",
    "    print(f'The average price after buying 22 $45 dollar knives {trials} number of times: {thousand_45}')\n",
    "    print(f'The average price after buying 66 $15 dollar knives {trials} number of times: {thousand_15}')\n",
    "    print(f'The difference between the two numbers is: {difference}')\n",
    "    \n",
    "\n",
    "\n",
    "\n",
    "def trial_run_45_20(trials):\n",
    "    thousand_45 = (((df_45.sample(22)['profit'].sum())*trials)/trials)\n",
    "    thousand_20 = (((df_20.sample(50)['profit'].sum())*trials)/trials)\n",
    "    difference = thousand_45 - thousand_20\n",
    "    print(f'The average price after buying 22 $45 dollar knives {trials} number of times: {thousand_45}')\n",
    "    print(f'The average price after buying 66 $15 dollar knives {trials} number of times: {thousand_20}')\n",
    "    print(f'The difference between the two numbers is: {difference}')\n",
    "    \n",
    "\n",
    "\n",
    "\n",
    "def trial_run_45_30(trials):\n",
    "    thousand_45 = (((df_45.sample(22)['profit'].sum())*trials)/trials)\n",
    "    thousand_30 = (((df_30.sample(33)['profit'].sum())*trials)/trials)\n",
    "    difference = thousand_45 - thousand_30\n",
    "    print(f'The average price after buying 22 $45 dollar knives {trials} number of times: {thousand_45}')\n",
    "    print(f'The average price after buying 33 $30 dollar knives {trials} number of times: {thousand_30}')\n",
    "    print(f'The difference between the two numbers is: {difference}')\n",
    "    "
   ]
  },
  {
   "cell_type": "code",
   "execution_count": 41,
   "metadata": {},
   "outputs": [],
   "source": [
    "import os, shutil"
   ]
  },
  {
   "cell_type": "code",
   "execution_count": 42,
   "metadata": {},
   "outputs": [
    {
     "data": {
      "text/plain": [
       "'data/knife_images/3.jpg'"
      ]
     },
     "execution_count": 42,
     "metadata": {},
     "output_type": "execute_result"
    }
   ],
   "source": [
    "\"data/\" + \"knife_images/\" + str(df_scrub.galleryURL.index[2]) +\".jpg\""
   ]
  },
  {
   "cell_type": "code",
   "execution_count": 43,
   "metadata": {},
   "outputs": [
    {
     "name": "stdout",
     "output_type": "stream",
     "text": [
      "C:\\Users\\12108\\OneDrive\\Documents\\GitHub\\Neural_Network_Predicting_Reseller_Success_Ebay\\data\n"
     ]
    }
   ],
   "source": [
    "cd data "
   ]
  },
  {
   "cell_type": "code",
   "execution_count": 44,
   "metadata": {},
   "outputs": [],
   "source": [
    "df_scrub.reset_index(inplace=True)"
   ]
  },
  {
   "cell_type": "markdown",
   "metadata": {},
   "source": [
    "```\n",
    "#This block of code downloads all image urls in the dataframe and saves the to a the specified root_folder\n",
    "\n",
    "\n",
    "import os\n",
    "import requests\n",
    "\n",
    "\n",
    "def download(row):\n",
    "    filename = os.path.join(root_folder,\n",
    "                       ''.join(str(row.name) + im_extension))\n",
    "\n",
    "    # create folder if it doesn't exist\n",
    "    os.makedirs(os.path.dirname(filename), exist_ok=True)\n",
    "\n",
    "    url = row.galleryURL       \n",
    "    print(f\"Downloading {url} to {filename}\")\n",
    "    r = requests.get(url, allow_redirects=True)\n",
    "    with open(filename, 'wb') as f:\n",
    "        f.write(r.content)\n",
    "\n",
    "root_folder = 'C:/Users/12108/OneDrive/Documents/GitHub/Neural_Network_Predicting_Reseller_Success_Ebay/knife_images'\n",
    "im_extension = '.jpg'  # or whatever type of images you are downloading\n",
    "\n",
    "df_scrub.apply(download, axis=1)\n",
    "```"
   ]
  },
  {
   "cell_type": "code",
   "execution_count": 45,
   "metadata": {},
   "outputs": [],
   "source": [
    "knife_image_dir = 'C:/Users/12108/OneDrive/Documents/GitHub/Neural_Network_Predicting_Reseller_Success_Ebay/knife_images'"
   ]
  },
  {
   "cell_type": "code",
   "execution_count": 46,
   "metadata": {},
   "outputs": [],
   "source": [
    "data_images_dir = 'data/images'\n",
    "new_dir = 'split'"
   ]
  },
  {
   "cell_type": "code",
   "execution_count": 47,
   "metadata": {},
   "outputs": [],
   "source": [
    "os.mkdir(new_dir)"
   ]
  },
  {
   "cell_type": "code",
   "execution_count": 48,
   "metadata": {},
   "outputs": [],
   "source": [
    "knife_images = [file for file in os.listdir(knife_image_dir) if file.endswith('.jpg')]"
   ]
  },
  {
   "cell_type": "code",
   "execution_count": 49,
   "metadata": {},
   "outputs": [
    {
     "name": "stdout",
     "output_type": "stream",
     "text": [
      "There are 7025 knife images\n"
     ]
    }
   ],
   "source": [
    "print('There are', len(knife_images), 'knife images')"
   ]
  },
  {
   "cell_type": "code",
   "execution_count": 50,
   "metadata": {},
   "outputs": [],
   "source": [
    "train_folder = os.path.join(new_dir, 'train')\n",
    "train_pics = os.path.join(train_folder, 'images')\n",
    "\n",
    "test_folder = os.path.join(new_dir, 'test')\n",
    "test_pics = os.path.join(test_folder, 'images')\n",
    "\n",
    "val_folder = os.path.join(new_dir, 'validation')\n",
    "val_pics = os.path.join(val_folder, 'images')"
   ]
  },
  {
   "cell_type": "code",
   "execution_count": 51,
   "metadata": {},
   "outputs": [
    {
     "data": {
      "text/plain": [
       "'split\\\\train\\\\images'"
      ]
     },
     "execution_count": 51,
     "metadata": {},
     "output_type": "execute_result"
    }
   ],
   "source": [
    "train_pics "
   ]
  },
  {
   "cell_type": "code",
   "execution_count": 52,
   "metadata": {},
   "outputs": [],
   "source": [
    "os.mkdir(train_folder)\n",
    "os.mkdir(train_pics)\n",
    "\n",
    "os.mkdir(test_folder)\n",
    "os.mkdir(test_pics)\n",
    "\n",
    "os.mkdir(val_folder)\n",
    "os.mkdir(val_pics)"
   ]
  },
  {
   "cell_type": "code",
   "execution_count": 53,
   "metadata": {},
   "outputs": [],
   "source": [
    "knife_images.sort(key=lambda f: int(re.sub('\\D', '', f)))"
   ]
  },
  {
   "cell_type": "code",
   "execution_count": 55,
   "metadata": {},
   "outputs": [],
   "source": [
    "# train knife regression images\n",
    "imgs = knife_images[:5620]\n",
    "for img in imgs:\n",
    "    origin = os.path.join(knife_image_dir, img)\n",
    "    destination = os.path.join(train_folder, img)\n",
    "    shutil.copyfile(origin, destination)"
   ]
  },
  {
   "cell_type": "code",
   "execution_count": 56,
   "metadata": {},
   "outputs": [],
   "source": [
    "# test knife regression images\n",
    "imgs = knife_images[5620:6322]\n",
    "for img in imgs:\n",
    "    origin = os.path.join(knife_image_dir, img)\n",
    "    destination = os.path.join(test_folder, img)\n",
    "    shutil.copyfile(origin, destination)"
   ]
  },
  {
   "cell_type": "code",
   "execution_count": 58,
   "metadata": {},
   "outputs": [],
   "source": [
    "# validation knife regression images\n",
    "imgs = knife_images[6322:]\n",
    "for img in imgs:\n",
    "    origin = os.path.join(knife_image_dir, img)\n",
    "    destination = os.path.join(val_folder, img)\n",
    "    shutil.copyfile(origin, destination)"
   ]
  },
  {
   "cell_type": "code",
   "execution_count": 59,
   "metadata": {},
   "outputs": [
    {
     "name": "stdout",
     "output_type": "stream",
     "text": [
      "There are 0 train images in the training set\n"
     ]
    }
   ],
   "source": [
    "print('There are', len(os.listdir(train_pics)), 'train images in the training set')"
   ]
  },
  {
   "cell_type": "code",
   "execution_count": null,
   "metadata": {},
   "outputs": [],
   "source": []
  },
  {
   "cell_type": "code",
   "execution_count": null,
   "metadata": {},
   "outputs": [],
   "source": []
  },
  {
   "cell_type": "code",
   "execution_count": null,
   "metadata": {},
   "outputs": [],
   "source": []
  },
  {
   "cell_type": "code",
   "execution_count": null,
   "metadata": {},
   "outputs": [],
   "source": []
  },
  {
   "cell_type": "code",
   "execution_count": null,
   "metadata": {},
   "outputs": [],
   "source": []
  },
  {
   "cell_type": "code",
   "execution_count": null,
   "metadata": {},
   "outputs": [],
   "source": []
  },
  {
   "cell_type": "code",
   "execution_count": null,
   "metadata": {},
   "outputs": [],
   "source": [
    "# # train not_santa\n",
    "# imgs = imgs_not_santa[:271]\n",
    "# for img in imgs:\n",
    "#     origin = os.path.join(data_not_santa_dir, img)\n",
    "#     destination = os.path.join(train_not_santa, img)\n",
    "#     shutil.copyfile(origin, destination)\n",
    "# # validation not_santa\n",
    "# imgs = imgs_not_santa[271:371]\n",
    "# for img in imgs:\n",
    "#     origin = os.path.join(data_not_santa_dir, img)\n",
    "#     destination = os.path.join(val_not_santa, img)\n",
    "#     shutil.copyfile(origin, destination)\n",
    "# # test not_santa\n",
    "# imgs = imgs_not_santa[371:]\n",
    "# for img in imgs:\n",
    "#     origin = os.path.join(data_not_santa_dir, img)\n",
    "#     destination = os.path.join(test_not_santa, img)\n",
    "#     shutil.copyfile(origin, destination)"
   ]
  },
  {
   "cell_type": "code",
   "execution_count": null,
   "metadata": {},
   "outputs": [],
   "source": [
    "print('There are', len(os.listdir(train_santa)), 'santa images in the training set')"
   ]
  },
  {
   "cell_type": "code",
   "execution_count": null,
   "metadata": {},
   "outputs": [],
   "source": [
    "print('There are', len(os.listdir(val_santa)), 'santa images in the validation set')"
   ]
  },
  {
   "cell_type": "code",
   "execution_count": null,
   "metadata": {},
   "outputs": [],
   "source": [
    "print('There are', len(os.listdir(test_santa)), 'santa images in the test set')"
   ]
  },
  {
   "cell_type": "code",
   "execution_count": null,
   "metadata": {},
   "outputs": [],
   "source": [
    "print('There are', len(os.listdir(train_not_santa)), 'images without santa in the train set')"
   ]
  },
  {
   "cell_type": "code",
   "execution_count": null,
   "metadata": {},
   "outputs": [],
   "source": [
    "print('There are', len(os.listdir(val_not_santa)), 'images without santa in the validation set')"
   ]
  },
  {
   "cell_type": "code",
   "execution_count": null,
   "metadata": {},
   "outputs": [],
   "source": [
    "print('There are', len(os.listdir(test_not_santa)), 'images without santa in the test set')"
   ]
  },
  {
   "cell_type": "code",
   "execution_count": null,
   "metadata": {
    "id": "oUiDAmQAWck1"
   },
   "outputs": [],
   "source": [
    "# import glob\n",
    "# import os\n",
    "\n",
    "\n",
    "# path = r'C:\\Users\\12108\\Desktop\\ebay_knife_data\\dsc-5-capstone-project\\surplusStore'                     # use your path\n",
    "# all_files = glob.glob(os.path.join(path, \"*.csv\"))     # advisable to use os.path.join as this makes concatenation OS independent\n",
    "\n",
    "# df_from_each_file = (pd.read_csv(f) for f in all_files)\n",
    "# concatenated_df   = pd.concat(df_from_each_file, ignore_index=True)\n",
    "\n",
    "# concatenated_df.head()\n",
    "\n",
    "# concatenated_df.fillna(0, inplace=True)\n",
    "\n",
    "# concatenated_df.info()\n",
    "\n",
    "# concatenated_df.to_csv('surplusStore/workingDataFrame2.csv')"
   ]
  },
  {
   "cell_type": "code",
   "execution_count": null,
   "metadata": {},
   "outputs": [],
   "source": []
  },
  {
   "cell_type": "code",
   "execution_count": null,
   "metadata": {},
   "outputs": [],
   "source": []
  },
  {
   "cell_type": "code",
   "execution_count": null,
   "metadata": {},
   "outputs": [],
   "source": []
  },
  {
   "cell_type": "code",
   "execution_count": null,
   "metadata": {},
   "outputs": [],
   "source": [
    "df.isna().sum()"
   ]
  },
  {
   "cell_type": "code",
   "execution_count": null,
   "metadata": {},
   "outputs": [],
   "source": []
  },
  {
   "cell_type": "code",
   "execution_count": null,
   "metadata": {},
   "outputs": [],
   "source": []
  },
  {
   "cell_type": "markdown",
   "metadata": {},
   "source": [
    "## THIS CALL TO THE WEBSITE RETURNED NO SOG KNIVES OR CRKT KNIVES\n",
    "## MUST MAKE SEPERATE CALLS\n",
    "## NOT SHOWN IN THIS NOTEBOOK "
   ]
  },
  {
   "cell_type": "code",
   "execution_count": null,
   "metadata": {
    "id": "LTpEYt6FV261"
   },
   "outputs": [],
   "source": [
    "\n",
    "\n",
    "df_crkt = pd.read_csv('data/full_dataset_CRKT.csv')\n",
    "df_sog = pd.read_csv('data/full_dataset_SOG.csv')\n",
    "\n",
    "\n",
    "\n",
    "# df_SOG.info()\n",
    "\n",
    "# df_SOG['sog'] = 1.0\n",
    "# df_SOG['sog'] = 1.0\n",
    "\n",
    "# mkdir surplusStore\n",
    "\n",
    "# df_surplus.to_csv('surplusStore/workingDataFrame.csv', index=False)\n",
    "# df_CRKT.to_csv('surplusStore/df_CRKT.csv', index=False)\n",
    "# df_SOG.to_csv('surplusStore/df_SOG.csv', index=False)\n",
    "\n",
    "# df_surplus.head()"
   ]
  },
  {
   "cell_type": "markdown",
   "metadata": {
    "id": "XptkIA-htqb4"
   },
   "source": [
    "# Data Science Processes\n",
    "\n",
    "## Introduction\n",
    "\n",
    "As discussed, this section is all about synthesizing your skills in order to work through a full Data Science workflow. In this lesson, you'll take a look at some general outlines for how Data Scientists organize their workflow and conceptualize their process.\n",
    "\n",
    "## Objectives\n",
    "\n",
    "You will be able to:\n",
    "\n",
    "- List the different data science process frameworks\n",
    "- Compare and contrast popular data science process frameworks such as CRISP-DM, KDD, OSEMN\n",
    "\n",
    "\n",
    "## What is a Data Science Process?\n",
    "\n",
    "Data Science projects are often complex, with many stakeholders, data sources, and goals. Due to this, the Data Science community has created several methodologies for helping organize and structure Data Science Projects.  In this lesson, you'll explore three of the most popular methodologies -- **_CRISP-DM_**, **_KDD_**, and **_OSEMN_**, and explore how you can make use of them to keep your projects well-structured and organized. \n",
    "\n",
    "## CRoss-Industry Standard Process for Data Mining (CRISP-DM)\n",
    "\n",
    "<img src=\"https://raw.githubusercontent.com/learn-co-curriculum/dsc-data-science-processes/master/images/new_crisp-dm.png\" width=\"500\">\n",
    "\n",
    "**_CRISP-DM_** is probably the most popular Data Science process in the Data Science world right now. Take a look at the visualization above to get a feel for CRISP-DM. Notice that CRISP-DM is an iterative process!\n",
    "\n",
    "Let's take a look at the individual steps involved in CRISP-DM.\n",
    "\n",
    "**_Business Understanding:_**  This stage is all about gathering facts and requirements. Who will be using the model you build? How will they be using it? How will this help the goals of the business or organization overall? Data Science projects are complex, with many moving parts and stakeholders. They're also time intensive to complete or modify. Because of this, it is very important that the Data Science team working on the project has a deep understanding of what the problem is, and how the solution will be used. Consider the fact that many stakeholders involved in the project may not have technical backgrounds, and may not even be from the same organization.  Stakeholders from one part of the organization may have wildly different expectations about the project than stakeholders from a different part of the organization -- for instance, the sales team may be under the impression that a recommendation system project is meant to increase sales by recommending upsells to current customers, while the marketing team may be under the impression that the project is meant to help generate new leads by personalizing product recommendations in a marketing email. These are two very different interpretations of a recommendation system project, and it's understandable that both departments would immediately assume that the primary goal of the project is one that helps their organization. As a Data Scientist, it's up to you to clarify the requirements and make sure that everyone involved understands what the project is and isn't. \n",
    "\n",
    "During this stage, the goal is to get everyone on the same page and to provide clarity on the scope of the project for everyone involved, not just the Data Science team. Generate and answer as many contextual questions as you can about the project. \n",
    "\n",
    "Good questions for this stage include:\n",
    "\n",
    "- Who are the stakeholders in this project? Who will be directly affected by the creation of this project?\n",
    "- What business problem(s) will this Data Science project solve for the organization?  \n",
    "- What problems are inside the scope of this project?\n",
    "- What problems are outside the scope of this project?\n",
    "- What data sources are available to us?\n",
    "- What is the expected timeline for this project? Are there hard deadlines (e.g. \"must be live before holiday season shopping\") or is this an ongoing project?\n",
    "- Do stakeholders from different parts of the company or organization all have the exact same understanding about what this project is and isn't?\n",
    "\n",
    "**_Data Understanding:_**\n",
    "\n",
    "Once we have a solid understanding of the business implications for this project, we move on to understanding our data. During this stage, we'll aim to get a solid understanding of the data needed to complete the project.  This step includes both understanding where our data is coming from, as well as the information contained within the data. \n",
    "\n",
    "Consider the following questions when working through this stage:\n",
    "\n",
    "- What data is available to us? Where does it live? Do we have the data, or can we scrape/buy/source the data from somewhere else?\n",
    "- Who controls the data sources, and what steps are needed to get access to the data?\n",
    "- What is our target?\n",
    "- What predictors are available to us?\n",
    "- What data types are the predictors we'll be working with?\n",
    "- What is the distribution of our data?\n",
    "- How many observations does our dataset contain? Do we have a lot of data? Only a little? \n",
    "- Do we have enough data to build a model? Will we need to use resampling methods?\n",
    "- How do we know the data is correct? How is the data collected? Is there a chance the data could be wrong?\n",
    "\n",
    "**_Data Preparation:_**\n",
    "\n",
    "Once we have a strong understanding of our data, we can move onto preparing the data for our modeling steps. \n",
    "\n",
    "During this stage, we'll want to handle the following issues:\n",
    "\n",
    "- Detecting and dealing with missing values\n",
    "- Data type conversions (e.g. numeric data mistakenly encoded as strings)\n",
    "- Checking for and removing multicollinearity (correlated predictors)\n",
    "- Normalizing our numeric data\n",
    "- Converting categorical data to numeric format through one-hot encoding\n",
    "\n",
    "**_Modeling:_**\n",
    "\n",
    "Once we have clean data, we can begin modeling! Remember, modeling, as with any of these other steps, is an iterative process. During this stage, we'll try to build and tune models to get the highest performance possible on our task. \n",
    "\n",
    "Consider the following questions during the modeling step:\n",
    "\n",
    "- Is this a classification task? A regression task? Something else?\n",
    "- What models will we try?\n",
    "- How do we deal with overfitting?\n",
    "- Do we need to use regularization or not?\n",
    "- What sort of validation strategy will we be using to check that our model works well on unseen data?\n",
    "- What loss functions will we use?\n",
    "- What threshold of performance do we consider as successful?\n",
    "\n",
    "**_Evaluation:_**\n",
    "\n",
    "During this step, we'll evaluate the results of our modeling efforts. Does our model solve the problems that we outlined all the way back during step 1? Why or why not? Often times, evaluating the results of our modeling step will raise new questions, or will cause us to consider changing our approach to the problem.  Notice from the CRISP-DM diagram above, that the \"Evaluation\" step is unique in that it points to both _Business Understanding_ and _Deployment_.  As we mentioned before, Data Science is an iterative process -- that means that given the new information our model has provided, we'll often want to start over with another iteration, armed with our newfound knowledge! Perhaps the results of our model showed us something important that we had originally failed to consider the goal of the project or the scope.  Perhaps we learned that the model can't be successful without more data, or different data. Perhaps our evaluation shows us that we should reconsider our approach to cleaning and structuring the data, or how we frame the project as a whole (e.g. realizing we should treat the problem as a classification rather than a regression task). In any of these cases, it is totally encouraged to revisit the earlier steps.  \n",
    "\n",
    "Of course, if the results are satisfactory, then we instead move onto deployment!\n",
    "\n",
    "**_Deployment:_**\n",
    "\n",
    "During this stage, we'll focus on moving our model into production and automating as much as possible. Everything before this serves as a proof-of-concept or an investigation.  If the project has proved successful, then you'll work with stakeholders to determine the best way to implement models and insights.  For example, you might set up an automated ETL (Extract-Transform-Load) pipelines of raw data in order to feed into a database and reformat it so that it is ready for modeling. During the deployment step, you'll actively work to determine the best course of action for getting the results of your project into the wild, and you'll often be involved with building everything needed to put the software into production. \n",
    "\n",
    "This is one of the most rewarding steps of the entire Data Science process -- getting to see your work go live!\n",
    "\n",
    "## Knowledge Discovery in Databases\n",
    "\n",
    "<img src=\"https://raw.githubusercontent.com/learn-co-curriculum/dsc-data-science-processes/master/images/new_kdd.png\" width=\"800\">\n",
    "\n",
    "**_Knowledge Discovery in Databases_**, or **_KDD_** is considered the oldest Data Science process. The creation of this process is credited to Gregory Piatetsky-Shapiro, who also runs the ever-popular Data Science blog, [kdnuggets](https://www.kdnuggets.com/). If you're interested, read the original white paper on KDD, which can be found [here](https://www.kdnuggets.com/gpspubs/aimag-kdd-overview-1992.pdf)!\n",
    "\n",
    "The KDD process is quite similar to the CRISP-DM process. The diagram above illustrates every step of the KDD process, as well as the expected output at each stage. \n",
    "\n",
    "**_Selection_**:\n",
    "\n",
    "During this stage, you'll focus on selecting your problem, and the data that will help you answer it. This stage works much like the first stage of CRISP-DM -- you begin by focusing on developing an understanding of the domain the problem resides in (e.g. marketing, finance, increasing customer sales, etc), the previous work done in this domain, and the goals of the stakeholders involved with the process.  \n",
    "\n",
    "Once you've developed a strong understanding of the goals and the domain, you'll work to establish where your data is coming from, and which data will be useful to you.  Organizations and companies usually have a ton of data, and only some of it will be relevant to the problem you're trying to solve.  During this stage, you'll focus on examining the data sources available to you and gathering the data that you deem useful for the project.  \n",
    "\n",
    "The output of this stage is the dataset you'll be using for the Data Science project. \n",
    "\n",
    "**_Preprocessing_**:\n",
    "\n",
    "The preprocessing stage is pretty straightforward -- the goal of this stage is to \"clean\" the data by preprocessing it.  For text data, this may include things like tokenization.  You'll also identify and deal with issues like outliers and/or missing data in this stage.  \n",
    "\n",
    "In practice, this stage often blurs with the _Transformation_ stage. \n",
    "\n",
    "The output of this stage is preprocessed data that is more \"clean\" than it was at the start of this stage -- although the dataset is not quite ready for modeling yet. \n",
    "\n",
    "**_Transformation_**:\n",
    "\n",
    "During this stage, you'll take your preprocessed data and transform it in a way that makes it more ideal for modeling.  This may include steps like feature engineering and dimensionality reduction.  At this stage, you'll also deal with things like checking for and removing multicollinearity from the dataset. Categorical data should also be converted to numeric format through one-hot encoding during this step.\n",
    "\n",
    "The output of this stage is a dataset that is now ready for modeling. All null values and outliers are removed, categorical data has been converted to a format that a model can work with, and the dataset is generally ready for experimentation with modeling.  \n",
    "\n",
    "**_Data Mining_**:\n",
    "\n",
    "The Data Mining stage refers to using different modeling techniques to try and build a model that solves the problem we're after -- often, this is a classification or regression task. During this stage, you'll also define your parameters for given models, as well as your overall criteria for measuring the performance of a model.  \n",
    "\n",
    "You may be wondering what Data Mining is, and how it relates to Data Science. In practice, it's just an older term that essentially means the same thing as Data Science. Dr. Piatetsky-Shapiro defines Data Mining as \"the non-trivial extraction of implicit, previously unknown and potentially useful information from data.\"  Making of things such as Machine Learning algorithms to find insights in large datasets that aren't immediately obvious without these algorithms is at the heart of the concept of Data Mining, just as it is in Data Science. In a pragmatic sense, this is why the terms Data Mining and Data Science are typically used interchangeably, although the term Data Mining is considered an older term that isn't used as often nowadays. \n",
    "\n",
    "The output of this stage results from a fit to the data for the problem we're trying to solve.  \n",
    "\n",
    "**_Interpretation/Evaluation_**:\n",
    "\n",
    "During this final stage of KDD, we focus on interpreting the \"patterns\" discovered in the previous step to help us make generalizations or predictions that help us answer our original question. During this stage, you'll consolidate everything you've learned to present it to stakeholders for guiding future actions. Your output may be a presentation that you use to communicate to non-technical managers or executives (never discount the importance of knowing PowerPoint as a Data Scientist!).  Your conclusions for a project may range from \"this approach didn't work\" or \"we need more data about {X}\" to \"this is ready for production, let's build it!\".  \n",
    "\n",
    "## OSEMN\n",
    "\n",
    "<img src=\"https://raw.githubusercontent.com/learn-co-curriculum/dsc-data-science-processes/master/images/new_osemn.png\" width=\"800\">\n",
    "<a href=\"https://www.kdnuggets.com/2018/02/data-science-command-line-book-exploring-data.html\" target=\"_blank\">Adapted from: KDNuggets</a>\n",
    "\n",
    "This brings us to the Data Science process we'll be using during this section -- OSEMN (sometimes referred as OSEMiN, and pronounced \"OH-sum\", rhymes with \"possum\"). This is the most straightforward of the Data Science processes discussed so far. Note that during this process, just like the others, the stages often blur together. It is completely acceptable (and often a best practice!) to float back and forth between stages as you learn new things about your problem, dataset, requirements, etc.  It's quite common to get to the modeling step and realize that you need to scrub your data a bit more or engineer a different feature and jump back to the \"Scrub\" stage, or go all the way back to the \"Obtain\" stage when you realize your current data isn't sufficient to solve this problem. As with any of these frameworks, OSEMN is meant to be treated more like a set of guidelines for structuring your project than set-in-stone steps that cannot be violated.  \n",
    "\n",
    "**_Obtain_**:\n",
    "\n",
    "As with CRISP-DM and KDD, this step involves understanding stakeholder requirements, gathering information on the problem, and finally, sourcing data that we think will be necessary for solving this problem. \n",
    "\n",
    "**_Scrub_**:\n",
    "\n",
    "During this stage, we'll focus on preprocessing our data.  Important steps such as identifying and removing null values, dealing with outliers, normalizing data, and feature engineering/feature selection are handled around this stage.  The line with this stage really blurs with the _Explore_ stage, as it is common to only realize that certain columns require cleaning or preprocessing as a result of the visualizations and explorations done during Step 3.  \n",
    "\n",
    "Note that although technically, categorical data should be one-hot encoded during this step, in practice, it's usually done after data exploration.  This is because it is much less time-consuming to visualize and explore a few columns containing categorical data than it is to explore many different dummy columns that have been one-hot encoded. \n",
    "\n",
    "**_Explore_**:\n",
    "\n",
    "This step focuses on getting to know the dataset you're working with. As mentioned above, this step tends to blend with the _Scrub_ step mentioned above.  During this step, you'll create visualizations to really get a feel for your dataset.  You'll focus on things such as understanding the distribution of different columns, checking for multicollinearity, and other tasks like that.  If your project is a classification task, you may check the balance of the different classes in your dataset.  If your problem is a regression task, you may check that the dataset meets the assumptions necessary for a regression task.  \n",
    "\n",
    "At the end of this step, you should have a dataset ready for modeling that you've thoroughly explored and are extremely familiar with.  \n",
    "\n",
    "**_Model_**:\n",
    "\n",
    "This step, as with the last two frameworks, is also pretty self-explanatory. It consists of building and tuning models using all the tools you have in your data science toolbox.  In practice, this often means defining a threshold for success, selecting machine learning algorithms to test on the project, and tuning the ones that show promise to try and increase your results.  As with the other stages, it is both common and accepted to realize something, jump back to a previous stage like _Scrub_ or _Explore_, and make some changes to see how it affects the model.  \n",
    "\n",
    "**_Interpret_**:\n",
    "\n",
    "During this step, you'll interpret the results of your model(s), and communicate results to stakeholders.  As with the other frameworks, communication is incredibly important! During this stage, you may come to realize that further investigation is needed, or more data.  That's totally fine -- figure out what's needed, go get it, and start the process over! If your results are satisfactory to all stakeholders involved, you may also go from this stage right into putting your model into production and automating processes necessary to support it.  \n",
    "\n",
    "\n",
    "## A Note On Communicating Results\n",
    "\n",
    "Regardless of the quality of your results, it's very important that you be aware of the business requirements and stakeholder expectations at all times! Generally, no matter which of the above processes you use, you'll communicate your results in a two-pronged manner: \n",
    "\n",
    "- A short, high-level presentation covering your question, process, and results meant for non-technical audiences\n",
    "- A detailed Jupyter Notebook demonstrating your entire process meant for technical audiences\n",
    "\n",
    "In general, you can see why Data Scientists love Jupyter Notebooks! It is very easy to format results in a reproducible, easy-to-understand way.  Although a detailed Jupyter Notebook may seem like the more involved of the two deliverables listed above, the high-level presentation is often the hardest! Just remember -- even if the project took you/your team over a year and utilized the most cutting-edge machine learning techniques available, you still need to be able to communicate your results in about 5 slides (using graphics, not words, whenever possible!), in a 5 minute presentation in a way that someone that can't write code can still understand and be convinced by!\n",
    "\n",
    "\n",
    "## Conclusion\n",
    "\n",
    "In this lesson, you learned about the different data science process frameworks including CRISP-DM, KDD, and OSEMN. You also learned that the data science process is iterative and that a typical data science project involves many different stakeholders who may not have a technical background. As such, it's important to recognize that data scientists must be able to communicate their findings in a non-technical way."
   ]
  },
  {
   "cell_type": "code",
   "execution_count": null,
   "metadata": {
    "id": "NQTkWMsUOua0"
   },
   "outputs": [],
   "source": [
    "# #REGEX BRAND PATTERNS AFTERN LOWERCASING TITLES AND REMOVING SPEVIAL CHARACTERS\n",
    "\n",
    "\n",
    "#turn this into a dict bro\n",
    "\n",
    "# benchmade_pattern = \"benchmade\"\n",
    "# buck_pattern = \"buck\"\n",
    "# case_pattern = \"case\"\n",
    "# crkt_pattern = \"crkt\"\n",
    "# kershaw_pattern = \"kershaw\"\n",
    "# leatherman_pattern = \"leatherman\"\n",
    "# sog_pattern = \"sog\"\n",
    "# spyderco_pattern = \"spyderco\"\n",
    "# victorinox_pattern = \"victorinox\""
   ]
  },
  {
   "cell_type": "code",
   "execution_count": null,
   "metadata": {},
   "outputs": [],
   "source": [
    "# df['is_profitable'] = (df['price_in_US'] - df[list(costs.keys())].sum(axis=1))>0\n",
    "\n",
    "# df.info()"
   ]
  },
  {
   "cell_type": "code",
   "execution_count": null,
   "metadata": {},
   "outputs": [],
   "source": [
    "# #REGEX BRAND PATTERNS AFTERN LOWERCASING TITLES AND REMOVING SPEVIAL CHARACTERS\n",
    "\n",
    "\n",
    "#turn this into a dict bro\n",
    "\n",
    "# benchmade_pattern = \"benchmade\"\n",
    "# buck_pattern = \"buck\"\n",
    "# case_pattern = \"case\"\n",
    "# crkt_pattern = \"crkt\"\n",
    "# kershaw_pattern = \"kershaw\"\n",
    "# leatherman_pattern = \"leatherman\"\n",
    "# sog_pattern = \"sog\"\n",
    "# spyderco_pattern = \"spyderco\"\n",
    "# victorinox_pattern = \"victorinox\"\n",
    "\n",
    "# df['is_profitable'] = (df['price_in_US'] - df[list(costs.keys())].sum(axis=1))>0\n",
    "\n",
    "# df.info()"
   ]
  }
 ],
 "metadata": {
  "colab": {
   "collapsed_sections": [],
   "name": "Copy of Capstone_RoughDraft.ipynb",
   "provenance": []
  },
  "kernelspec": {
   "display_name": "Python (learn-env)",
   "language": "python",
   "name": "learn-env"
  },
  "language_info": {
   "codemirror_mode": {
    "name": "ipython",
    "version": 3
   },
   "file_extension": ".py",
   "mimetype": "text/x-python",
   "name": "python",
   "nbconvert_exporter": "python",
   "pygments_lexer": "ipython3",
   "version": "3.8.5"
  }
 },
 "nbformat": 4,
 "nbformat_minor": 1
}
